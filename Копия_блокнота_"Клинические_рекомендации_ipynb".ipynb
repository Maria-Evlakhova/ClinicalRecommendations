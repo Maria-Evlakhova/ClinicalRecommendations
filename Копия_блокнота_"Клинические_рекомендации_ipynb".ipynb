{
  "nbformat": 4,
  "nbformat_minor": 0,
  "metadata": {
    "colab": {
      "provenance": [],
      "authorship_tag": "ABX9TyOqM4iJfaBI3fRFnUm6xwLC",
      "include_colab_link": true
    },
    "kernelspec": {
      "name": "python3",
      "display_name": "Python 3"
    },
    "language_info": {
      "name": "python"
    },
    "widgets": {
      "application/vnd.jupyter.widget-state+json": {
        "af8d113625c84d8aa1035a5417422646": {
          "model_module": "@jupyter-widgets/controls",
          "model_name": "HBoxModel",
          "model_module_version": "1.5.0",
          "state": {
            "_dom_classes": [],
            "_model_module": "@jupyter-widgets/controls",
            "_model_module_version": "1.5.0",
            "_model_name": "HBoxModel",
            "_view_count": null,
            "_view_module": "@jupyter-widgets/controls",
            "_view_module_version": "1.5.0",
            "_view_name": "HBoxView",
            "box_style": "",
            "children": [
              "IPY_MODEL_d824af65c4e24f4ba13c34f4f958838e",
              "IPY_MODEL_c32e337979de48c6ae2b102f50318f38",
              "IPY_MODEL_7b1ca6f12beb4ca4af2f9908bf435b53"
            ],
            "layout": "IPY_MODEL_eb5b095337d44de8a1cf3088348db0b8"
          }
        },
        "d824af65c4e24f4ba13c34f4f958838e": {
          "model_module": "@jupyter-widgets/controls",
          "model_name": "HTMLModel",
          "model_module_version": "1.5.0",
          "state": {
            "_dom_classes": [],
            "_model_module": "@jupyter-widgets/controls",
            "_model_module_version": "1.5.0",
            "_model_name": "HTMLModel",
            "_view_count": null,
            "_view_module": "@jupyter-widgets/controls",
            "_view_module_version": "1.5.0",
            "_view_name": "HTMLView",
            "description": "",
            "description_tooltip": null,
            "layout": "IPY_MODEL_c67233edb3cb4e8ca36ae54d494eacf8",
            "placeholder": "​",
            "style": "IPY_MODEL_7f9f665353af48aeb8c96a78468dee55",
            "value": "modules.json: 100%"
          }
        },
        "c32e337979de48c6ae2b102f50318f38": {
          "model_module": "@jupyter-widgets/controls",
          "model_name": "FloatProgressModel",
          "model_module_version": "1.5.0",
          "state": {
            "_dom_classes": [],
            "_model_module": "@jupyter-widgets/controls",
            "_model_module_version": "1.5.0",
            "_model_name": "FloatProgressModel",
            "_view_count": null,
            "_view_module": "@jupyter-widgets/controls",
            "_view_module_version": "1.5.0",
            "_view_name": "ProgressView",
            "bar_style": "success",
            "description": "",
            "description_tooltip": null,
            "layout": "IPY_MODEL_b8e6bafc1a634e2195c74d3b8732a526",
            "max": 229,
            "min": 0,
            "orientation": "horizontal",
            "style": "IPY_MODEL_db017d0fe01b4f6587d79a098c9103df",
            "value": 229
          }
        },
        "7b1ca6f12beb4ca4af2f9908bf435b53": {
          "model_module": "@jupyter-widgets/controls",
          "model_name": "HTMLModel",
          "model_module_version": "1.5.0",
          "state": {
            "_dom_classes": [],
            "_model_module": "@jupyter-widgets/controls",
            "_model_module_version": "1.5.0",
            "_model_name": "HTMLModel",
            "_view_count": null,
            "_view_module": "@jupyter-widgets/controls",
            "_view_module_version": "1.5.0",
            "_view_name": "HTMLView",
            "description": "",
            "description_tooltip": null,
            "layout": "IPY_MODEL_32e8af8c48924f74888269f2476cae4a",
            "placeholder": "​",
            "style": "IPY_MODEL_146c091cb9bb4e21a219073009bcc034",
            "value": " 229/229 [00:00&lt;00:00, 18.8kB/s]"
          }
        },
        "eb5b095337d44de8a1cf3088348db0b8": {
          "model_module": "@jupyter-widgets/base",
          "model_name": "LayoutModel",
          "model_module_version": "1.2.0",
          "state": {
            "_model_module": "@jupyter-widgets/base",
            "_model_module_version": "1.2.0",
            "_model_name": "LayoutModel",
            "_view_count": null,
            "_view_module": "@jupyter-widgets/base",
            "_view_module_version": "1.2.0",
            "_view_name": "LayoutView",
            "align_content": null,
            "align_items": null,
            "align_self": null,
            "border": null,
            "bottom": null,
            "display": null,
            "flex": null,
            "flex_flow": null,
            "grid_area": null,
            "grid_auto_columns": null,
            "grid_auto_flow": null,
            "grid_auto_rows": null,
            "grid_column": null,
            "grid_gap": null,
            "grid_row": null,
            "grid_template_areas": null,
            "grid_template_columns": null,
            "grid_template_rows": null,
            "height": null,
            "justify_content": null,
            "justify_items": null,
            "left": null,
            "margin": null,
            "max_height": null,
            "max_width": null,
            "min_height": null,
            "min_width": null,
            "object_fit": null,
            "object_position": null,
            "order": null,
            "overflow": null,
            "overflow_x": null,
            "overflow_y": null,
            "padding": null,
            "right": null,
            "top": null,
            "visibility": null,
            "width": null
          }
        },
        "c67233edb3cb4e8ca36ae54d494eacf8": {
          "model_module": "@jupyter-widgets/base",
          "model_name": "LayoutModel",
          "model_module_version": "1.2.0",
          "state": {
            "_model_module": "@jupyter-widgets/base",
            "_model_module_version": "1.2.0",
            "_model_name": "LayoutModel",
            "_view_count": null,
            "_view_module": "@jupyter-widgets/base",
            "_view_module_version": "1.2.0",
            "_view_name": "LayoutView",
            "align_content": null,
            "align_items": null,
            "align_self": null,
            "border": null,
            "bottom": null,
            "display": null,
            "flex": null,
            "flex_flow": null,
            "grid_area": null,
            "grid_auto_columns": null,
            "grid_auto_flow": null,
            "grid_auto_rows": null,
            "grid_column": null,
            "grid_gap": null,
            "grid_row": null,
            "grid_template_areas": null,
            "grid_template_columns": null,
            "grid_template_rows": null,
            "height": null,
            "justify_content": null,
            "justify_items": null,
            "left": null,
            "margin": null,
            "max_height": null,
            "max_width": null,
            "min_height": null,
            "min_width": null,
            "object_fit": null,
            "object_position": null,
            "order": null,
            "overflow": null,
            "overflow_x": null,
            "overflow_y": null,
            "padding": null,
            "right": null,
            "top": null,
            "visibility": null,
            "width": null
          }
        },
        "7f9f665353af48aeb8c96a78468dee55": {
          "model_module": "@jupyter-widgets/controls",
          "model_name": "DescriptionStyleModel",
          "model_module_version": "1.5.0",
          "state": {
            "_model_module": "@jupyter-widgets/controls",
            "_model_module_version": "1.5.0",
            "_model_name": "DescriptionStyleModel",
            "_view_count": null,
            "_view_module": "@jupyter-widgets/base",
            "_view_module_version": "1.2.0",
            "_view_name": "StyleView",
            "description_width": ""
          }
        },
        "b8e6bafc1a634e2195c74d3b8732a526": {
          "model_module": "@jupyter-widgets/base",
          "model_name": "LayoutModel",
          "model_module_version": "1.2.0",
          "state": {
            "_model_module": "@jupyter-widgets/base",
            "_model_module_version": "1.2.0",
            "_model_name": "LayoutModel",
            "_view_count": null,
            "_view_module": "@jupyter-widgets/base",
            "_view_module_version": "1.2.0",
            "_view_name": "LayoutView",
            "align_content": null,
            "align_items": null,
            "align_self": null,
            "border": null,
            "bottom": null,
            "display": null,
            "flex": null,
            "flex_flow": null,
            "grid_area": null,
            "grid_auto_columns": null,
            "grid_auto_flow": null,
            "grid_auto_rows": null,
            "grid_column": null,
            "grid_gap": null,
            "grid_row": null,
            "grid_template_areas": null,
            "grid_template_columns": null,
            "grid_template_rows": null,
            "height": null,
            "justify_content": null,
            "justify_items": null,
            "left": null,
            "margin": null,
            "max_height": null,
            "max_width": null,
            "min_height": null,
            "min_width": null,
            "object_fit": null,
            "object_position": null,
            "order": null,
            "overflow": null,
            "overflow_x": null,
            "overflow_y": null,
            "padding": null,
            "right": null,
            "top": null,
            "visibility": null,
            "width": null
          }
        },
        "db017d0fe01b4f6587d79a098c9103df": {
          "model_module": "@jupyter-widgets/controls",
          "model_name": "ProgressStyleModel",
          "model_module_version": "1.5.0",
          "state": {
            "_model_module": "@jupyter-widgets/controls",
            "_model_module_version": "1.5.0",
            "_model_name": "ProgressStyleModel",
            "_view_count": null,
            "_view_module": "@jupyter-widgets/base",
            "_view_module_version": "1.2.0",
            "_view_name": "StyleView",
            "bar_color": null,
            "description_width": ""
          }
        },
        "32e8af8c48924f74888269f2476cae4a": {
          "model_module": "@jupyter-widgets/base",
          "model_name": "LayoutModel",
          "model_module_version": "1.2.0",
          "state": {
            "_model_module": "@jupyter-widgets/base",
            "_model_module_version": "1.2.0",
            "_model_name": "LayoutModel",
            "_view_count": null,
            "_view_module": "@jupyter-widgets/base",
            "_view_module_version": "1.2.0",
            "_view_name": "LayoutView",
            "align_content": null,
            "align_items": null,
            "align_self": null,
            "border": null,
            "bottom": null,
            "display": null,
            "flex": null,
            "flex_flow": null,
            "grid_area": null,
            "grid_auto_columns": null,
            "grid_auto_flow": null,
            "grid_auto_rows": null,
            "grid_column": null,
            "grid_gap": null,
            "grid_row": null,
            "grid_template_areas": null,
            "grid_template_columns": null,
            "grid_template_rows": null,
            "height": null,
            "justify_content": null,
            "justify_items": null,
            "left": null,
            "margin": null,
            "max_height": null,
            "max_width": null,
            "min_height": null,
            "min_width": null,
            "object_fit": null,
            "object_position": null,
            "order": null,
            "overflow": null,
            "overflow_x": null,
            "overflow_y": null,
            "padding": null,
            "right": null,
            "top": null,
            "visibility": null,
            "width": null
          }
        },
        "146c091cb9bb4e21a219073009bcc034": {
          "model_module": "@jupyter-widgets/controls",
          "model_name": "DescriptionStyleModel",
          "model_module_version": "1.5.0",
          "state": {
            "_model_module": "@jupyter-widgets/controls",
            "_model_module_version": "1.5.0",
            "_model_name": "DescriptionStyleModel",
            "_view_count": null,
            "_view_module": "@jupyter-widgets/base",
            "_view_module_version": "1.2.0",
            "_view_name": "StyleView",
            "description_width": ""
          }
        },
        "12d39b992570415e91c4290219960180": {
          "model_module": "@jupyter-widgets/controls",
          "model_name": "HBoxModel",
          "model_module_version": "1.5.0",
          "state": {
            "_dom_classes": [],
            "_model_module": "@jupyter-widgets/controls",
            "_model_module_version": "1.5.0",
            "_model_name": "HBoxModel",
            "_view_count": null,
            "_view_module": "@jupyter-widgets/controls",
            "_view_module_version": "1.5.0",
            "_view_name": "HBoxView",
            "box_style": "",
            "children": [
              "IPY_MODEL_9ccf6c9d4e444c1f9135580c51bec068",
              "IPY_MODEL_d77158c64d9e49e6835edd93da992529",
              "IPY_MODEL_ffe12ec8a18c42798cb6bf75f2040846"
            ],
            "layout": "IPY_MODEL_c11d3c244cec479d88e93bbe3619809c"
          }
        },
        "9ccf6c9d4e444c1f9135580c51bec068": {
          "model_module": "@jupyter-widgets/controls",
          "model_name": "HTMLModel",
          "model_module_version": "1.5.0",
          "state": {
            "_dom_classes": [],
            "_model_module": "@jupyter-widgets/controls",
            "_model_module_version": "1.5.0",
            "_model_name": "HTMLModel",
            "_view_count": null,
            "_view_module": "@jupyter-widgets/controls",
            "_view_module_version": "1.5.0",
            "_view_name": "HTMLView",
            "description": "",
            "description_tooltip": null,
            "layout": "IPY_MODEL_c42a3f80c7ec494196044d1d6ed1b998",
            "placeholder": "​",
            "style": "IPY_MODEL_9f563542d2db4ef6aec6d8686ac1e1c1",
            "value": "config_sentence_transformers.json: 100%"
          }
        },
        "d77158c64d9e49e6835edd93da992529": {
          "model_module": "@jupyter-widgets/controls",
          "model_name": "FloatProgressModel",
          "model_module_version": "1.5.0",
          "state": {
            "_dom_classes": [],
            "_model_module": "@jupyter-widgets/controls",
            "_model_module_version": "1.5.0",
            "_model_name": "FloatProgressModel",
            "_view_count": null,
            "_view_module": "@jupyter-widgets/controls",
            "_view_module_version": "1.5.0",
            "_view_name": "ProgressView",
            "bar_style": "success",
            "description": "",
            "description_tooltip": null,
            "layout": "IPY_MODEL_7cf2e04f8fd742cb960ab60ba25bcae3",
            "max": 122,
            "min": 0,
            "orientation": "horizontal",
            "style": "IPY_MODEL_c91cb5f80e104e17b58c3a9088f43c8a",
            "value": 122
          }
        },
        "ffe12ec8a18c42798cb6bf75f2040846": {
          "model_module": "@jupyter-widgets/controls",
          "model_name": "HTMLModel",
          "model_module_version": "1.5.0",
          "state": {
            "_dom_classes": [],
            "_model_module": "@jupyter-widgets/controls",
            "_model_module_version": "1.5.0",
            "_model_name": "HTMLModel",
            "_view_count": null,
            "_view_module": "@jupyter-widgets/controls",
            "_view_module_version": "1.5.0",
            "_view_name": "HTMLView",
            "description": "",
            "description_tooltip": null,
            "layout": "IPY_MODEL_6b7c265c03a143929bb4c2ba8f3d6cc9",
            "placeholder": "​",
            "style": "IPY_MODEL_57a0c77492b3426ea2c28a925c65ffbe",
            "value": " 122/122 [00:00&lt;00:00, 9.51kB/s]"
          }
        },
        "c11d3c244cec479d88e93bbe3619809c": {
          "model_module": "@jupyter-widgets/base",
          "model_name": "LayoutModel",
          "model_module_version": "1.2.0",
          "state": {
            "_model_module": "@jupyter-widgets/base",
            "_model_module_version": "1.2.0",
            "_model_name": "LayoutModel",
            "_view_count": null,
            "_view_module": "@jupyter-widgets/base",
            "_view_module_version": "1.2.0",
            "_view_name": "LayoutView",
            "align_content": null,
            "align_items": null,
            "align_self": null,
            "border": null,
            "bottom": null,
            "display": null,
            "flex": null,
            "flex_flow": null,
            "grid_area": null,
            "grid_auto_columns": null,
            "grid_auto_flow": null,
            "grid_auto_rows": null,
            "grid_column": null,
            "grid_gap": null,
            "grid_row": null,
            "grid_template_areas": null,
            "grid_template_columns": null,
            "grid_template_rows": null,
            "height": null,
            "justify_content": null,
            "justify_items": null,
            "left": null,
            "margin": null,
            "max_height": null,
            "max_width": null,
            "min_height": null,
            "min_width": null,
            "object_fit": null,
            "object_position": null,
            "order": null,
            "overflow": null,
            "overflow_x": null,
            "overflow_y": null,
            "padding": null,
            "right": null,
            "top": null,
            "visibility": null,
            "width": null
          }
        },
        "c42a3f80c7ec494196044d1d6ed1b998": {
          "model_module": "@jupyter-widgets/base",
          "model_name": "LayoutModel",
          "model_module_version": "1.2.0",
          "state": {
            "_model_module": "@jupyter-widgets/base",
            "_model_module_version": "1.2.0",
            "_model_name": "LayoutModel",
            "_view_count": null,
            "_view_module": "@jupyter-widgets/base",
            "_view_module_version": "1.2.0",
            "_view_name": "LayoutView",
            "align_content": null,
            "align_items": null,
            "align_self": null,
            "border": null,
            "bottom": null,
            "display": null,
            "flex": null,
            "flex_flow": null,
            "grid_area": null,
            "grid_auto_columns": null,
            "grid_auto_flow": null,
            "grid_auto_rows": null,
            "grid_column": null,
            "grid_gap": null,
            "grid_row": null,
            "grid_template_areas": null,
            "grid_template_columns": null,
            "grid_template_rows": null,
            "height": null,
            "justify_content": null,
            "justify_items": null,
            "left": null,
            "margin": null,
            "max_height": null,
            "max_width": null,
            "min_height": null,
            "min_width": null,
            "object_fit": null,
            "object_position": null,
            "order": null,
            "overflow": null,
            "overflow_x": null,
            "overflow_y": null,
            "padding": null,
            "right": null,
            "top": null,
            "visibility": null,
            "width": null
          }
        },
        "9f563542d2db4ef6aec6d8686ac1e1c1": {
          "model_module": "@jupyter-widgets/controls",
          "model_name": "DescriptionStyleModel",
          "model_module_version": "1.5.0",
          "state": {
            "_model_module": "@jupyter-widgets/controls",
            "_model_module_version": "1.5.0",
            "_model_name": "DescriptionStyleModel",
            "_view_count": null,
            "_view_module": "@jupyter-widgets/base",
            "_view_module_version": "1.2.0",
            "_view_name": "StyleView",
            "description_width": ""
          }
        },
        "7cf2e04f8fd742cb960ab60ba25bcae3": {
          "model_module": "@jupyter-widgets/base",
          "model_name": "LayoutModel",
          "model_module_version": "1.2.0",
          "state": {
            "_model_module": "@jupyter-widgets/base",
            "_model_module_version": "1.2.0",
            "_model_name": "LayoutModel",
            "_view_count": null,
            "_view_module": "@jupyter-widgets/base",
            "_view_module_version": "1.2.0",
            "_view_name": "LayoutView",
            "align_content": null,
            "align_items": null,
            "align_self": null,
            "border": null,
            "bottom": null,
            "display": null,
            "flex": null,
            "flex_flow": null,
            "grid_area": null,
            "grid_auto_columns": null,
            "grid_auto_flow": null,
            "grid_auto_rows": null,
            "grid_column": null,
            "grid_gap": null,
            "grid_row": null,
            "grid_template_areas": null,
            "grid_template_columns": null,
            "grid_template_rows": null,
            "height": null,
            "justify_content": null,
            "justify_items": null,
            "left": null,
            "margin": null,
            "max_height": null,
            "max_width": null,
            "min_height": null,
            "min_width": null,
            "object_fit": null,
            "object_position": null,
            "order": null,
            "overflow": null,
            "overflow_x": null,
            "overflow_y": null,
            "padding": null,
            "right": null,
            "top": null,
            "visibility": null,
            "width": null
          }
        },
        "c91cb5f80e104e17b58c3a9088f43c8a": {
          "model_module": "@jupyter-widgets/controls",
          "model_name": "ProgressStyleModel",
          "model_module_version": "1.5.0",
          "state": {
            "_model_module": "@jupyter-widgets/controls",
            "_model_module_version": "1.5.0",
            "_model_name": "ProgressStyleModel",
            "_view_count": null,
            "_view_module": "@jupyter-widgets/base",
            "_view_module_version": "1.2.0",
            "_view_name": "StyleView",
            "bar_color": null,
            "description_width": ""
          }
        },
        "6b7c265c03a143929bb4c2ba8f3d6cc9": {
          "model_module": "@jupyter-widgets/base",
          "model_name": "LayoutModel",
          "model_module_version": "1.2.0",
          "state": {
            "_model_module": "@jupyter-widgets/base",
            "_model_module_version": "1.2.0",
            "_model_name": "LayoutModel",
            "_view_count": null,
            "_view_module": "@jupyter-widgets/base",
            "_view_module_version": "1.2.0",
            "_view_name": "LayoutView",
            "align_content": null,
            "align_items": null,
            "align_self": null,
            "border": null,
            "bottom": null,
            "display": null,
            "flex": null,
            "flex_flow": null,
            "grid_area": null,
            "grid_auto_columns": null,
            "grid_auto_flow": null,
            "grid_auto_rows": null,
            "grid_column": null,
            "grid_gap": null,
            "grid_row": null,
            "grid_template_areas": null,
            "grid_template_columns": null,
            "grid_template_rows": null,
            "height": null,
            "justify_content": null,
            "justify_items": null,
            "left": null,
            "margin": null,
            "max_height": null,
            "max_width": null,
            "min_height": null,
            "min_width": null,
            "object_fit": null,
            "object_position": null,
            "order": null,
            "overflow": null,
            "overflow_x": null,
            "overflow_y": null,
            "padding": null,
            "right": null,
            "top": null,
            "visibility": null,
            "width": null
          }
        },
        "57a0c77492b3426ea2c28a925c65ffbe": {
          "model_module": "@jupyter-widgets/controls",
          "model_name": "DescriptionStyleModel",
          "model_module_version": "1.5.0",
          "state": {
            "_model_module": "@jupyter-widgets/controls",
            "_model_module_version": "1.5.0",
            "_model_name": "DescriptionStyleModel",
            "_view_count": null,
            "_view_module": "@jupyter-widgets/base",
            "_view_module_version": "1.2.0",
            "_view_name": "StyleView",
            "description_width": ""
          }
        },
        "be6a10a5143a4170bc07fb5c0a455b3e": {
          "model_module": "@jupyter-widgets/controls",
          "model_name": "HBoxModel",
          "model_module_version": "1.5.0",
          "state": {
            "_dom_classes": [],
            "_model_module": "@jupyter-widgets/controls",
            "_model_module_version": "1.5.0",
            "_model_name": "HBoxModel",
            "_view_count": null,
            "_view_module": "@jupyter-widgets/controls",
            "_view_module_version": "1.5.0",
            "_view_name": "HBoxView",
            "box_style": "",
            "children": [
              "IPY_MODEL_e2a2151245074092a5b3648b5be607cb",
              "IPY_MODEL_a830ea510a5d4af6b0e60f4b6c21335b",
              "IPY_MODEL_57cd9e224ba649d589fcb96859755346"
            ],
            "layout": "IPY_MODEL_379441121671483589e8e2ea8f70a43c"
          }
        },
        "e2a2151245074092a5b3648b5be607cb": {
          "model_module": "@jupyter-widgets/controls",
          "model_name": "HTMLModel",
          "model_module_version": "1.5.0",
          "state": {
            "_dom_classes": [],
            "_model_module": "@jupyter-widgets/controls",
            "_model_module_version": "1.5.0",
            "_model_name": "HTMLModel",
            "_view_count": null,
            "_view_module": "@jupyter-widgets/controls",
            "_view_module_version": "1.5.0",
            "_view_name": "HTMLView",
            "description": "",
            "description_tooltip": null,
            "layout": "IPY_MODEL_096fd633d5a44a5da453121c2af9ab30",
            "placeholder": "​",
            "style": "IPY_MODEL_bd7e8da2bf154274af080db96bc31077",
            "value": "README.md: 100%"
          }
        },
        "a830ea510a5d4af6b0e60f4b6c21335b": {
          "model_module": "@jupyter-widgets/controls",
          "model_name": "FloatProgressModel",
          "model_module_version": "1.5.0",
          "state": {
            "_dom_classes": [],
            "_model_module": "@jupyter-widgets/controls",
            "_model_module_version": "1.5.0",
            "_model_name": "FloatProgressModel",
            "_view_count": null,
            "_view_module": "@jupyter-widgets/controls",
            "_view_module_version": "1.5.0",
            "_view_name": "ProgressView",
            "bar_style": "success",
            "description": "",
            "description_tooltip": null,
            "layout": "IPY_MODEL_3a6f89420a0e491baf6690f56164b678",
            "max": 3896,
            "min": 0,
            "orientation": "horizontal",
            "style": "IPY_MODEL_5e610e2b957a4b1b9f135f81efbcc782",
            "value": 3896
          }
        },
        "57cd9e224ba649d589fcb96859755346": {
          "model_module": "@jupyter-widgets/controls",
          "model_name": "HTMLModel",
          "model_module_version": "1.5.0",
          "state": {
            "_dom_classes": [],
            "_model_module": "@jupyter-widgets/controls",
            "_model_module_version": "1.5.0",
            "_model_name": "HTMLModel",
            "_view_count": null,
            "_view_module": "@jupyter-widgets/controls",
            "_view_module_version": "1.5.0",
            "_view_name": "HTMLView",
            "description": "",
            "description_tooltip": null,
            "layout": "IPY_MODEL_8933f98b860d4947aa6f5b91dff79e70",
            "placeholder": "​",
            "style": "IPY_MODEL_162d6bd3033f4507b1a0ac668c363306",
            "value": " 3.90k/3.90k [00:00&lt;00:00, 111kB/s]"
          }
        },
        "379441121671483589e8e2ea8f70a43c": {
          "model_module": "@jupyter-widgets/base",
          "model_name": "LayoutModel",
          "model_module_version": "1.2.0",
          "state": {
            "_model_module": "@jupyter-widgets/base",
            "_model_module_version": "1.2.0",
            "_model_name": "LayoutModel",
            "_view_count": null,
            "_view_module": "@jupyter-widgets/base",
            "_view_module_version": "1.2.0",
            "_view_name": "LayoutView",
            "align_content": null,
            "align_items": null,
            "align_self": null,
            "border": null,
            "bottom": null,
            "display": null,
            "flex": null,
            "flex_flow": null,
            "grid_area": null,
            "grid_auto_columns": null,
            "grid_auto_flow": null,
            "grid_auto_rows": null,
            "grid_column": null,
            "grid_gap": null,
            "grid_row": null,
            "grid_template_areas": null,
            "grid_template_columns": null,
            "grid_template_rows": null,
            "height": null,
            "justify_content": null,
            "justify_items": null,
            "left": null,
            "margin": null,
            "max_height": null,
            "max_width": null,
            "min_height": null,
            "min_width": null,
            "object_fit": null,
            "object_position": null,
            "order": null,
            "overflow": null,
            "overflow_x": null,
            "overflow_y": null,
            "padding": null,
            "right": null,
            "top": null,
            "visibility": null,
            "width": null
          }
        },
        "096fd633d5a44a5da453121c2af9ab30": {
          "model_module": "@jupyter-widgets/base",
          "model_name": "LayoutModel",
          "model_module_version": "1.2.0",
          "state": {
            "_model_module": "@jupyter-widgets/base",
            "_model_module_version": "1.2.0",
            "_model_name": "LayoutModel",
            "_view_count": null,
            "_view_module": "@jupyter-widgets/base",
            "_view_module_version": "1.2.0",
            "_view_name": "LayoutView",
            "align_content": null,
            "align_items": null,
            "align_self": null,
            "border": null,
            "bottom": null,
            "display": null,
            "flex": null,
            "flex_flow": null,
            "grid_area": null,
            "grid_auto_columns": null,
            "grid_auto_flow": null,
            "grid_auto_rows": null,
            "grid_column": null,
            "grid_gap": null,
            "grid_row": null,
            "grid_template_areas": null,
            "grid_template_columns": null,
            "grid_template_rows": null,
            "height": null,
            "justify_content": null,
            "justify_items": null,
            "left": null,
            "margin": null,
            "max_height": null,
            "max_width": null,
            "min_height": null,
            "min_width": null,
            "object_fit": null,
            "object_position": null,
            "order": null,
            "overflow": null,
            "overflow_x": null,
            "overflow_y": null,
            "padding": null,
            "right": null,
            "top": null,
            "visibility": null,
            "width": null
          }
        },
        "bd7e8da2bf154274af080db96bc31077": {
          "model_module": "@jupyter-widgets/controls",
          "model_name": "DescriptionStyleModel",
          "model_module_version": "1.5.0",
          "state": {
            "_model_module": "@jupyter-widgets/controls",
            "_model_module_version": "1.5.0",
            "_model_name": "DescriptionStyleModel",
            "_view_count": null,
            "_view_module": "@jupyter-widgets/base",
            "_view_module_version": "1.2.0",
            "_view_name": "StyleView",
            "description_width": ""
          }
        },
        "3a6f89420a0e491baf6690f56164b678": {
          "model_module": "@jupyter-widgets/base",
          "model_name": "LayoutModel",
          "model_module_version": "1.2.0",
          "state": {
            "_model_module": "@jupyter-widgets/base",
            "_model_module_version": "1.2.0",
            "_model_name": "LayoutModel",
            "_view_count": null,
            "_view_module": "@jupyter-widgets/base",
            "_view_module_version": "1.2.0",
            "_view_name": "LayoutView",
            "align_content": null,
            "align_items": null,
            "align_self": null,
            "border": null,
            "bottom": null,
            "display": null,
            "flex": null,
            "flex_flow": null,
            "grid_area": null,
            "grid_auto_columns": null,
            "grid_auto_flow": null,
            "grid_auto_rows": null,
            "grid_column": null,
            "grid_gap": null,
            "grid_row": null,
            "grid_template_areas": null,
            "grid_template_columns": null,
            "grid_template_rows": null,
            "height": null,
            "justify_content": null,
            "justify_items": null,
            "left": null,
            "margin": null,
            "max_height": null,
            "max_width": null,
            "min_height": null,
            "min_width": null,
            "object_fit": null,
            "object_position": null,
            "order": null,
            "overflow": null,
            "overflow_x": null,
            "overflow_y": null,
            "padding": null,
            "right": null,
            "top": null,
            "visibility": null,
            "width": null
          }
        },
        "5e610e2b957a4b1b9f135f81efbcc782": {
          "model_module": "@jupyter-widgets/controls",
          "model_name": "ProgressStyleModel",
          "model_module_version": "1.5.0",
          "state": {
            "_model_module": "@jupyter-widgets/controls",
            "_model_module_version": "1.5.0",
            "_model_name": "ProgressStyleModel",
            "_view_count": null,
            "_view_module": "@jupyter-widgets/base",
            "_view_module_version": "1.2.0",
            "_view_name": "StyleView",
            "bar_color": null,
            "description_width": ""
          }
        },
        "8933f98b860d4947aa6f5b91dff79e70": {
          "model_module": "@jupyter-widgets/base",
          "model_name": "LayoutModel",
          "model_module_version": "1.2.0",
          "state": {
            "_model_module": "@jupyter-widgets/base",
            "_model_module_version": "1.2.0",
            "_model_name": "LayoutModel",
            "_view_count": null,
            "_view_module": "@jupyter-widgets/base",
            "_view_module_version": "1.2.0",
            "_view_name": "LayoutView",
            "align_content": null,
            "align_items": null,
            "align_self": null,
            "border": null,
            "bottom": null,
            "display": null,
            "flex": null,
            "flex_flow": null,
            "grid_area": null,
            "grid_auto_columns": null,
            "grid_auto_flow": null,
            "grid_auto_rows": null,
            "grid_column": null,
            "grid_gap": null,
            "grid_row": null,
            "grid_template_areas": null,
            "grid_template_columns": null,
            "grid_template_rows": null,
            "height": null,
            "justify_content": null,
            "justify_items": null,
            "left": null,
            "margin": null,
            "max_height": null,
            "max_width": null,
            "min_height": null,
            "min_width": null,
            "object_fit": null,
            "object_position": null,
            "order": null,
            "overflow": null,
            "overflow_x": null,
            "overflow_y": null,
            "padding": null,
            "right": null,
            "top": null,
            "visibility": null,
            "width": null
          }
        },
        "162d6bd3033f4507b1a0ac668c363306": {
          "model_module": "@jupyter-widgets/controls",
          "model_name": "DescriptionStyleModel",
          "model_module_version": "1.5.0",
          "state": {
            "_model_module": "@jupyter-widgets/controls",
            "_model_module_version": "1.5.0",
            "_model_name": "DescriptionStyleModel",
            "_view_count": null,
            "_view_module": "@jupyter-widgets/base",
            "_view_module_version": "1.2.0",
            "_view_name": "StyleView",
            "description_width": ""
          }
        },
        "21f21b5295da446ab38808671cfbdc78": {
          "model_module": "@jupyter-widgets/controls",
          "model_name": "HBoxModel",
          "model_module_version": "1.5.0",
          "state": {
            "_dom_classes": [],
            "_model_module": "@jupyter-widgets/controls",
            "_model_module_version": "1.5.0",
            "_model_name": "HBoxModel",
            "_view_count": null,
            "_view_module": "@jupyter-widgets/controls",
            "_view_module_version": "1.5.0",
            "_view_name": "HBoxView",
            "box_style": "",
            "children": [
              "IPY_MODEL_67f76188aeb84ded938b26bbe9f5bed8",
              "IPY_MODEL_18dae377c0d1487f8c8282583c3b3347",
              "IPY_MODEL_b46522f006ee4618bb3ddc8ce6f0442d"
            ],
            "layout": "IPY_MODEL_386bd33439a94d888a288165005d3929"
          }
        },
        "67f76188aeb84ded938b26bbe9f5bed8": {
          "model_module": "@jupyter-widgets/controls",
          "model_name": "HTMLModel",
          "model_module_version": "1.5.0",
          "state": {
            "_dom_classes": [],
            "_model_module": "@jupyter-widgets/controls",
            "_model_module_version": "1.5.0",
            "_model_name": "HTMLModel",
            "_view_count": null,
            "_view_module": "@jupyter-widgets/controls",
            "_view_module_version": "1.5.0",
            "_view_name": "HTMLView",
            "description": "",
            "description_tooltip": null,
            "layout": "IPY_MODEL_537cf6210beb40aa8e0628456b65f023",
            "placeholder": "​",
            "style": "IPY_MODEL_2628e04150304470ba72b4dcafa5288c",
            "value": "sentence_bert_config.json: 100%"
          }
        },
        "18dae377c0d1487f8c8282583c3b3347": {
          "model_module": "@jupyter-widgets/controls",
          "model_name": "FloatProgressModel",
          "model_module_version": "1.5.0",
          "state": {
            "_dom_classes": [],
            "_model_module": "@jupyter-widgets/controls",
            "_model_module_version": "1.5.0",
            "_model_name": "FloatProgressModel",
            "_view_count": null,
            "_view_module": "@jupyter-widgets/controls",
            "_view_module_version": "1.5.0",
            "_view_name": "ProgressView",
            "bar_style": "success",
            "description": "",
            "description_tooltip": null,
            "layout": "IPY_MODEL_cda28a879c12400982c40501b7eb562b",
            "max": 53,
            "min": 0,
            "orientation": "horizontal",
            "style": "IPY_MODEL_ebda0101b2af43439361f25772807e17",
            "value": 53
          }
        },
        "b46522f006ee4618bb3ddc8ce6f0442d": {
          "model_module": "@jupyter-widgets/controls",
          "model_name": "HTMLModel",
          "model_module_version": "1.5.0",
          "state": {
            "_dom_classes": [],
            "_model_module": "@jupyter-widgets/controls",
            "_model_module_version": "1.5.0",
            "_model_name": "HTMLModel",
            "_view_count": null,
            "_view_module": "@jupyter-widgets/controls",
            "_view_module_version": "1.5.0",
            "_view_name": "HTMLView",
            "description": "",
            "description_tooltip": null,
            "layout": "IPY_MODEL_4fa10546e68b4b1baf1c84a87a2db616",
            "placeholder": "​",
            "style": "IPY_MODEL_c6ab24f62f484514afb283675f0b6a35",
            "value": " 53.0/53.0 [00:00&lt;00:00, 3.32kB/s]"
          }
        },
        "386bd33439a94d888a288165005d3929": {
          "model_module": "@jupyter-widgets/base",
          "model_name": "LayoutModel",
          "model_module_version": "1.2.0",
          "state": {
            "_model_module": "@jupyter-widgets/base",
            "_model_module_version": "1.2.0",
            "_model_name": "LayoutModel",
            "_view_count": null,
            "_view_module": "@jupyter-widgets/base",
            "_view_module_version": "1.2.0",
            "_view_name": "LayoutView",
            "align_content": null,
            "align_items": null,
            "align_self": null,
            "border": null,
            "bottom": null,
            "display": null,
            "flex": null,
            "flex_flow": null,
            "grid_area": null,
            "grid_auto_columns": null,
            "grid_auto_flow": null,
            "grid_auto_rows": null,
            "grid_column": null,
            "grid_gap": null,
            "grid_row": null,
            "grid_template_areas": null,
            "grid_template_columns": null,
            "grid_template_rows": null,
            "height": null,
            "justify_content": null,
            "justify_items": null,
            "left": null,
            "margin": null,
            "max_height": null,
            "max_width": null,
            "min_height": null,
            "min_width": null,
            "object_fit": null,
            "object_position": null,
            "order": null,
            "overflow": null,
            "overflow_x": null,
            "overflow_y": null,
            "padding": null,
            "right": null,
            "top": null,
            "visibility": null,
            "width": null
          }
        },
        "537cf6210beb40aa8e0628456b65f023": {
          "model_module": "@jupyter-widgets/base",
          "model_name": "LayoutModel",
          "model_module_version": "1.2.0",
          "state": {
            "_model_module": "@jupyter-widgets/base",
            "_model_module_version": "1.2.0",
            "_model_name": "LayoutModel",
            "_view_count": null,
            "_view_module": "@jupyter-widgets/base",
            "_view_module_version": "1.2.0",
            "_view_name": "LayoutView",
            "align_content": null,
            "align_items": null,
            "align_self": null,
            "border": null,
            "bottom": null,
            "display": null,
            "flex": null,
            "flex_flow": null,
            "grid_area": null,
            "grid_auto_columns": null,
            "grid_auto_flow": null,
            "grid_auto_rows": null,
            "grid_column": null,
            "grid_gap": null,
            "grid_row": null,
            "grid_template_areas": null,
            "grid_template_columns": null,
            "grid_template_rows": null,
            "height": null,
            "justify_content": null,
            "justify_items": null,
            "left": null,
            "margin": null,
            "max_height": null,
            "max_width": null,
            "min_height": null,
            "min_width": null,
            "object_fit": null,
            "object_position": null,
            "order": null,
            "overflow": null,
            "overflow_x": null,
            "overflow_y": null,
            "padding": null,
            "right": null,
            "top": null,
            "visibility": null,
            "width": null
          }
        },
        "2628e04150304470ba72b4dcafa5288c": {
          "model_module": "@jupyter-widgets/controls",
          "model_name": "DescriptionStyleModel",
          "model_module_version": "1.5.0",
          "state": {
            "_model_module": "@jupyter-widgets/controls",
            "_model_module_version": "1.5.0",
            "_model_name": "DescriptionStyleModel",
            "_view_count": null,
            "_view_module": "@jupyter-widgets/base",
            "_view_module_version": "1.2.0",
            "_view_name": "StyleView",
            "description_width": ""
          }
        },
        "cda28a879c12400982c40501b7eb562b": {
          "model_module": "@jupyter-widgets/base",
          "model_name": "LayoutModel",
          "model_module_version": "1.2.0",
          "state": {
            "_model_module": "@jupyter-widgets/base",
            "_model_module_version": "1.2.0",
            "_model_name": "LayoutModel",
            "_view_count": null,
            "_view_module": "@jupyter-widgets/base",
            "_view_module_version": "1.2.0",
            "_view_name": "LayoutView",
            "align_content": null,
            "align_items": null,
            "align_self": null,
            "border": null,
            "bottom": null,
            "display": null,
            "flex": null,
            "flex_flow": null,
            "grid_area": null,
            "grid_auto_columns": null,
            "grid_auto_flow": null,
            "grid_auto_rows": null,
            "grid_column": null,
            "grid_gap": null,
            "grid_row": null,
            "grid_template_areas": null,
            "grid_template_columns": null,
            "grid_template_rows": null,
            "height": null,
            "justify_content": null,
            "justify_items": null,
            "left": null,
            "margin": null,
            "max_height": null,
            "max_width": null,
            "min_height": null,
            "min_width": null,
            "object_fit": null,
            "object_position": null,
            "order": null,
            "overflow": null,
            "overflow_x": null,
            "overflow_y": null,
            "padding": null,
            "right": null,
            "top": null,
            "visibility": null,
            "width": null
          }
        },
        "ebda0101b2af43439361f25772807e17": {
          "model_module": "@jupyter-widgets/controls",
          "model_name": "ProgressStyleModel",
          "model_module_version": "1.5.0",
          "state": {
            "_model_module": "@jupyter-widgets/controls",
            "_model_module_version": "1.5.0",
            "_model_name": "ProgressStyleModel",
            "_view_count": null,
            "_view_module": "@jupyter-widgets/base",
            "_view_module_version": "1.2.0",
            "_view_name": "StyleView",
            "bar_color": null,
            "description_width": ""
          }
        },
        "4fa10546e68b4b1baf1c84a87a2db616": {
          "model_module": "@jupyter-widgets/base",
          "model_name": "LayoutModel",
          "model_module_version": "1.2.0",
          "state": {
            "_model_module": "@jupyter-widgets/base",
            "_model_module_version": "1.2.0",
            "_model_name": "LayoutModel",
            "_view_count": null,
            "_view_module": "@jupyter-widgets/base",
            "_view_module_version": "1.2.0",
            "_view_name": "LayoutView",
            "align_content": null,
            "align_items": null,
            "align_self": null,
            "border": null,
            "bottom": null,
            "display": null,
            "flex": null,
            "flex_flow": null,
            "grid_area": null,
            "grid_auto_columns": null,
            "grid_auto_flow": null,
            "grid_auto_rows": null,
            "grid_column": null,
            "grid_gap": null,
            "grid_row": null,
            "grid_template_areas": null,
            "grid_template_columns": null,
            "grid_template_rows": null,
            "height": null,
            "justify_content": null,
            "justify_items": null,
            "left": null,
            "margin": null,
            "max_height": null,
            "max_width": null,
            "min_height": null,
            "min_width": null,
            "object_fit": null,
            "object_position": null,
            "order": null,
            "overflow": null,
            "overflow_x": null,
            "overflow_y": null,
            "padding": null,
            "right": null,
            "top": null,
            "visibility": null,
            "width": null
          }
        },
        "c6ab24f62f484514afb283675f0b6a35": {
          "model_module": "@jupyter-widgets/controls",
          "model_name": "DescriptionStyleModel",
          "model_module_version": "1.5.0",
          "state": {
            "_model_module": "@jupyter-widgets/controls",
            "_model_module_version": "1.5.0",
            "_model_name": "DescriptionStyleModel",
            "_view_count": null,
            "_view_module": "@jupyter-widgets/base",
            "_view_module_version": "1.2.0",
            "_view_name": "StyleView",
            "description_width": ""
          }
        },
        "293de0d3d14b4258ab6ddd474a191083": {
          "model_module": "@jupyter-widgets/controls",
          "model_name": "HBoxModel",
          "model_module_version": "1.5.0",
          "state": {
            "_dom_classes": [],
            "_model_module": "@jupyter-widgets/controls",
            "_model_module_version": "1.5.0",
            "_model_name": "HBoxModel",
            "_view_count": null,
            "_view_module": "@jupyter-widgets/controls",
            "_view_module_version": "1.5.0",
            "_view_name": "HBoxView",
            "box_style": "",
            "children": [
              "IPY_MODEL_3a98878941a3420fa76b8ca9d1f4e2ab",
              "IPY_MODEL_1dafe8922687469f8afd7454af7ad997",
              "IPY_MODEL_00b94fb7a7ac4d2b949577c9d9ed0d47"
            ],
            "layout": "IPY_MODEL_4a321f84f10141d3bbc08dddbf1801f9"
          }
        },
        "3a98878941a3420fa76b8ca9d1f4e2ab": {
          "model_module": "@jupyter-widgets/controls",
          "model_name": "HTMLModel",
          "model_module_version": "1.5.0",
          "state": {
            "_dom_classes": [],
            "_model_module": "@jupyter-widgets/controls",
            "_model_module_version": "1.5.0",
            "_model_name": "HTMLModel",
            "_view_count": null,
            "_view_module": "@jupyter-widgets/controls",
            "_view_module_version": "1.5.0",
            "_view_name": "HTMLView",
            "description": "",
            "description_tooltip": null,
            "layout": "IPY_MODEL_77b431ed21774de7b443f7f76bbad9b5",
            "placeholder": "​",
            "style": "IPY_MODEL_2f3a9acb215e40048718360d5a1fd2ac",
            "value": "config.json: 100%"
          }
        },
        "1dafe8922687469f8afd7454af7ad997": {
          "model_module": "@jupyter-widgets/controls",
          "model_name": "FloatProgressModel",
          "model_module_version": "1.5.0",
          "state": {
            "_dom_classes": [],
            "_model_module": "@jupyter-widgets/controls",
            "_model_module_version": "1.5.0",
            "_model_name": "FloatProgressModel",
            "_view_count": null,
            "_view_module": "@jupyter-widgets/controls",
            "_view_module_version": "1.5.0",
            "_view_name": "ProgressView",
            "bar_style": "success",
            "description": "",
            "description_tooltip": null,
            "layout": "IPY_MODEL_99946db832df44dd81ae84de19bb245b",
            "max": 723,
            "min": 0,
            "orientation": "horizontal",
            "style": "IPY_MODEL_0ee6a25c33e84582a57f5a809c191059",
            "value": 723
          }
        },
        "00b94fb7a7ac4d2b949577c9d9ed0d47": {
          "model_module": "@jupyter-widgets/controls",
          "model_name": "HTMLModel",
          "model_module_version": "1.5.0",
          "state": {
            "_dom_classes": [],
            "_model_module": "@jupyter-widgets/controls",
            "_model_module_version": "1.5.0",
            "_model_name": "HTMLModel",
            "_view_count": null,
            "_view_module": "@jupyter-widgets/controls",
            "_view_module_version": "1.5.0",
            "_view_name": "HTMLView",
            "description": "",
            "description_tooltip": null,
            "layout": "IPY_MODEL_53cdef4e2bfb4a17bc7c3a3d42c09923",
            "placeholder": "​",
            "style": "IPY_MODEL_3993e032bbb946be9f0432efe3290c4e",
            "value": " 723/723 [00:00&lt;00:00, 19.6kB/s]"
          }
        },
        "4a321f84f10141d3bbc08dddbf1801f9": {
          "model_module": "@jupyter-widgets/base",
          "model_name": "LayoutModel",
          "model_module_version": "1.2.0",
          "state": {
            "_model_module": "@jupyter-widgets/base",
            "_model_module_version": "1.2.0",
            "_model_name": "LayoutModel",
            "_view_count": null,
            "_view_module": "@jupyter-widgets/base",
            "_view_module_version": "1.2.0",
            "_view_name": "LayoutView",
            "align_content": null,
            "align_items": null,
            "align_self": null,
            "border": null,
            "bottom": null,
            "display": null,
            "flex": null,
            "flex_flow": null,
            "grid_area": null,
            "grid_auto_columns": null,
            "grid_auto_flow": null,
            "grid_auto_rows": null,
            "grid_column": null,
            "grid_gap": null,
            "grid_row": null,
            "grid_template_areas": null,
            "grid_template_columns": null,
            "grid_template_rows": null,
            "height": null,
            "justify_content": null,
            "justify_items": null,
            "left": null,
            "margin": null,
            "max_height": null,
            "max_width": null,
            "min_height": null,
            "min_width": null,
            "object_fit": null,
            "object_position": null,
            "order": null,
            "overflow": null,
            "overflow_x": null,
            "overflow_y": null,
            "padding": null,
            "right": null,
            "top": null,
            "visibility": null,
            "width": null
          }
        },
        "77b431ed21774de7b443f7f76bbad9b5": {
          "model_module": "@jupyter-widgets/base",
          "model_name": "LayoutModel",
          "model_module_version": "1.2.0",
          "state": {
            "_model_module": "@jupyter-widgets/base",
            "_model_module_version": "1.2.0",
            "_model_name": "LayoutModel",
            "_view_count": null,
            "_view_module": "@jupyter-widgets/base",
            "_view_module_version": "1.2.0",
            "_view_name": "LayoutView",
            "align_content": null,
            "align_items": null,
            "align_self": null,
            "border": null,
            "bottom": null,
            "display": null,
            "flex": null,
            "flex_flow": null,
            "grid_area": null,
            "grid_auto_columns": null,
            "grid_auto_flow": null,
            "grid_auto_rows": null,
            "grid_column": null,
            "grid_gap": null,
            "grid_row": null,
            "grid_template_areas": null,
            "grid_template_columns": null,
            "grid_template_rows": null,
            "height": null,
            "justify_content": null,
            "justify_items": null,
            "left": null,
            "margin": null,
            "max_height": null,
            "max_width": null,
            "min_height": null,
            "min_width": null,
            "object_fit": null,
            "object_position": null,
            "order": null,
            "overflow": null,
            "overflow_x": null,
            "overflow_y": null,
            "padding": null,
            "right": null,
            "top": null,
            "visibility": null,
            "width": null
          }
        },
        "2f3a9acb215e40048718360d5a1fd2ac": {
          "model_module": "@jupyter-widgets/controls",
          "model_name": "DescriptionStyleModel",
          "model_module_version": "1.5.0",
          "state": {
            "_model_module": "@jupyter-widgets/controls",
            "_model_module_version": "1.5.0",
            "_model_name": "DescriptionStyleModel",
            "_view_count": null,
            "_view_module": "@jupyter-widgets/base",
            "_view_module_version": "1.2.0",
            "_view_name": "StyleView",
            "description_width": ""
          }
        },
        "99946db832df44dd81ae84de19bb245b": {
          "model_module": "@jupyter-widgets/base",
          "model_name": "LayoutModel",
          "model_module_version": "1.2.0",
          "state": {
            "_model_module": "@jupyter-widgets/base",
            "_model_module_version": "1.2.0",
            "_model_name": "LayoutModel",
            "_view_count": null,
            "_view_module": "@jupyter-widgets/base",
            "_view_module_version": "1.2.0",
            "_view_name": "LayoutView",
            "align_content": null,
            "align_items": null,
            "align_self": null,
            "border": null,
            "bottom": null,
            "display": null,
            "flex": null,
            "flex_flow": null,
            "grid_area": null,
            "grid_auto_columns": null,
            "grid_auto_flow": null,
            "grid_auto_rows": null,
            "grid_column": null,
            "grid_gap": null,
            "grid_row": null,
            "grid_template_areas": null,
            "grid_template_columns": null,
            "grid_template_rows": null,
            "height": null,
            "justify_content": null,
            "justify_items": null,
            "left": null,
            "margin": null,
            "max_height": null,
            "max_width": null,
            "min_height": null,
            "min_width": null,
            "object_fit": null,
            "object_position": null,
            "order": null,
            "overflow": null,
            "overflow_x": null,
            "overflow_y": null,
            "padding": null,
            "right": null,
            "top": null,
            "visibility": null,
            "width": null
          }
        },
        "0ee6a25c33e84582a57f5a809c191059": {
          "model_module": "@jupyter-widgets/controls",
          "model_name": "ProgressStyleModel",
          "model_module_version": "1.5.0",
          "state": {
            "_model_module": "@jupyter-widgets/controls",
            "_model_module_version": "1.5.0",
            "_model_name": "ProgressStyleModel",
            "_view_count": null,
            "_view_module": "@jupyter-widgets/base",
            "_view_module_version": "1.2.0",
            "_view_name": "StyleView",
            "bar_color": null,
            "description_width": ""
          }
        },
        "53cdef4e2bfb4a17bc7c3a3d42c09923": {
          "model_module": "@jupyter-widgets/base",
          "model_name": "LayoutModel",
          "model_module_version": "1.2.0",
          "state": {
            "_model_module": "@jupyter-widgets/base",
            "_model_module_version": "1.2.0",
            "_model_name": "LayoutModel",
            "_view_count": null,
            "_view_module": "@jupyter-widgets/base",
            "_view_module_version": "1.2.0",
            "_view_name": "LayoutView",
            "align_content": null,
            "align_items": null,
            "align_self": null,
            "border": null,
            "bottom": null,
            "display": null,
            "flex": null,
            "flex_flow": null,
            "grid_area": null,
            "grid_auto_columns": null,
            "grid_auto_flow": null,
            "grid_auto_rows": null,
            "grid_column": null,
            "grid_gap": null,
            "grid_row": null,
            "grid_template_areas": null,
            "grid_template_columns": null,
            "grid_template_rows": null,
            "height": null,
            "justify_content": null,
            "justify_items": null,
            "left": null,
            "margin": null,
            "max_height": null,
            "max_width": null,
            "min_height": null,
            "min_width": null,
            "object_fit": null,
            "object_position": null,
            "order": null,
            "overflow": null,
            "overflow_x": null,
            "overflow_y": null,
            "padding": null,
            "right": null,
            "top": null,
            "visibility": null,
            "width": null
          }
        },
        "3993e032bbb946be9f0432efe3290c4e": {
          "model_module": "@jupyter-widgets/controls",
          "model_name": "DescriptionStyleModel",
          "model_module_version": "1.5.0",
          "state": {
            "_model_module": "@jupyter-widgets/controls",
            "_model_module_version": "1.5.0",
            "_model_name": "DescriptionStyleModel",
            "_view_count": null,
            "_view_module": "@jupyter-widgets/base",
            "_view_module_version": "1.2.0",
            "_view_name": "StyleView",
            "description_width": ""
          }
        },
        "ffd5a981dac04a50bcdb83a7a93dc851": {
          "model_module": "@jupyter-widgets/controls",
          "model_name": "HBoxModel",
          "model_module_version": "1.5.0",
          "state": {
            "_dom_classes": [],
            "_model_module": "@jupyter-widgets/controls",
            "_model_module_version": "1.5.0",
            "_model_name": "HBoxModel",
            "_view_count": null,
            "_view_module": "@jupyter-widgets/controls",
            "_view_module_version": "1.5.0",
            "_view_name": "HBoxView",
            "box_style": "",
            "children": [
              "IPY_MODEL_ee23413bb8f448419d8b7fbafc5e0583",
              "IPY_MODEL_c779a62b552345108bd8eca0ae8fc196",
              "IPY_MODEL_662c39dd42bb478f8dec3b4f0e53226b"
            ],
            "layout": "IPY_MODEL_7a95560977aa45a780143056d473aa4b"
          }
        },
        "ee23413bb8f448419d8b7fbafc5e0583": {
          "model_module": "@jupyter-widgets/controls",
          "model_name": "HTMLModel",
          "model_module_version": "1.5.0",
          "state": {
            "_dom_classes": [],
            "_model_module": "@jupyter-widgets/controls",
            "_model_module_version": "1.5.0",
            "_model_name": "HTMLModel",
            "_view_count": null,
            "_view_module": "@jupyter-widgets/controls",
            "_view_module_version": "1.5.0",
            "_view_name": "HTMLView",
            "description": "",
            "description_tooltip": null,
            "layout": "IPY_MODEL_c96fdf24dc104ee0be9c059451eff053",
            "placeholder": "​",
            "style": "IPY_MODEL_06a0f0c38d9b4b3887356ea7bd922fb1",
            "value": "model.safetensors: 100%"
          }
        },
        "c779a62b552345108bd8eca0ae8fc196": {
          "model_module": "@jupyter-widgets/controls",
          "model_name": "FloatProgressModel",
          "model_module_version": "1.5.0",
          "state": {
            "_dom_classes": [],
            "_model_module": "@jupyter-widgets/controls",
            "_model_module_version": "1.5.0",
            "_model_name": "FloatProgressModel",
            "_view_count": null,
            "_view_module": "@jupyter-widgets/controls",
            "_view_module_version": "1.5.0",
            "_view_name": "ProgressView",
            "bar_style": "success",
            "description": "",
            "description_tooltip": null,
            "layout": "IPY_MODEL_53ea6cfdabaf46a791f9ffb0c6907d40",
            "max": 1112201288,
            "min": 0,
            "orientation": "horizontal",
            "style": "IPY_MODEL_27fc683080a94a24838794eaefcbc9c5",
            "value": 1112201288
          }
        },
        "662c39dd42bb478f8dec3b4f0e53226b": {
          "model_module": "@jupyter-widgets/controls",
          "model_name": "HTMLModel",
          "model_module_version": "1.5.0",
          "state": {
            "_dom_classes": [],
            "_model_module": "@jupyter-widgets/controls",
            "_model_module_version": "1.5.0",
            "_model_name": "HTMLModel",
            "_view_count": null,
            "_view_module": "@jupyter-widgets/controls",
            "_view_module_version": "1.5.0",
            "_view_name": "HTMLView",
            "description": "",
            "description_tooltip": null,
            "layout": "IPY_MODEL_13e1b01fe57846b5b0f212e2d6dc8a98",
            "placeholder": "​",
            "style": "IPY_MODEL_5560e08d7ae34ff59f0fe42adf333801",
            "value": " 1.11G/1.11G [00:07&lt;00:00, 156MB/s]"
          }
        },
        "7a95560977aa45a780143056d473aa4b": {
          "model_module": "@jupyter-widgets/base",
          "model_name": "LayoutModel",
          "model_module_version": "1.2.0",
          "state": {
            "_model_module": "@jupyter-widgets/base",
            "_model_module_version": "1.2.0",
            "_model_name": "LayoutModel",
            "_view_count": null,
            "_view_module": "@jupyter-widgets/base",
            "_view_module_version": "1.2.0",
            "_view_name": "LayoutView",
            "align_content": null,
            "align_items": null,
            "align_self": null,
            "border": null,
            "bottom": null,
            "display": null,
            "flex": null,
            "flex_flow": null,
            "grid_area": null,
            "grid_auto_columns": null,
            "grid_auto_flow": null,
            "grid_auto_rows": null,
            "grid_column": null,
            "grid_gap": null,
            "grid_row": null,
            "grid_template_areas": null,
            "grid_template_columns": null,
            "grid_template_rows": null,
            "height": null,
            "justify_content": null,
            "justify_items": null,
            "left": null,
            "margin": null,
            "max_height": null,
            "max_width": null,
            "min_height": null,
            "min_width": null,
            "object_fit": null,
            "object_position": null,
            "order": null,
            "overflow": null,
            "overflow_x": null,
            "overflow_y": null,
            "padding": null,
            "right": null,
            "top": null,
            "visibility": null,
            "width": null
          }
        },
        "c96fdf24dc104ee0be9c059451eff053": {
          "model_module": "@jupyter-widgets/base",
          "model_name": "LayoutModel",
          "model_module_version": "1.2.0",
          "state": {
            "_model_module": "@jupyter-widgets/base",
            "_model_module_version": "1.2.0",
            "_model_name": "LayoutModel",
            "_view_count": null,
            "_view_module": "@jupyter-widgets/base",
            "_view_module_version": "1.2.0",
            "_view_name": "LayoutView",
            "align_content": null,
            "align_items": null,
            "align_self": null,
            "border": null,
            "bottom": null,
            "display": null,
            "flex": null,
            "flex_flow": null,
            "grid_area": null,
            "grid_auto_columns": null,
            "grid_auto_flow": null,
            "grid_auto_rows": null,
            "grid_column": null,
            "grid_gap": null,
            "grid_row": null,
            "grid_template_areas": null,
            "grid_template_columns": null,
            "grid_template_rows": null,
            "height": null,
            "justify_content": null,
            "justify_items": null,
            "left": null,
            "margin": null,
            "max_height": null,
            "max_width": null,
            "min_height": null,
            "min_width": null,
            "object_fit": null,
            "object_position": null,
            "order": null,
            "overflow": null,
            "overflow_x": null,
            "overflow_y": null,
            "padding": null,
            "right": null,
            "top": null,
            "visibility": null,
            "width": null
          }
        },
        "06a0f0c38d9b4b3887356ea7bd922fb1": {
          "model_module": "@jupyter-widgets/controls",
          "model_name": "DescriptionStyleModel",
          "model_module_version": "1.5.0",
          "state": {
            "_model_module": "@jupyter-widgets/controls",
            "_model_module_version": "1.5.0",
            "_model_name": "DescriptionStyleModel",
            "_view_count": null,
            "_view_module": "@jupyter-widgets/base",
            "_view_module_version": "1.2.0",
            "_view_name": "StyleView",
            "description_width": ""
          }
        },
        "53ea6cfdabaf46a791f9ffb0c6907d40": {
          "model_module": "@jupyter-widgets/base",
          "model_name": "LayoutModel",
          "model_module_version": "1.2.0",
          "state": {
            "_model_module": "@jupyter-widgets/base",
            "_model_module_version": "1.2.0",
            "_model_name": "LayoutModel",
            "_view_count": null,
            "_view_module": "@jupyter-widgets/base",
            "_view_module_version": "1.2.0",
            "_view_name": "LayoutView",
            "align_content": null,
            "align_items": null,
            "align_self": null,
            "border": null,
            "bottom": null,
            "display": null,
            "flex": null,
            "flex_flow": null,
            "grid_area": null,
            "grid_auto_columns": null,
            "grid_auto_flow": null,
            "grid_auto_rows": null,
            "grid_column": null,
            "grid_gap": null,
            "grid_row": null,
            "grid_template_areas": null,
            "grid_template_columns": null,
            "grid_template_rows": null,
            "height": null,
            "justify_content": null,
            "justify_items": null,
            "left": null,
            "margin": null,
            "max_height": null,
            "max_width": null,
            "min_height": null,
            "min_width": null,
            "object_fit": null,
            "object_position": null,
            "order": null,
            "overflow": null,
            "overflow_x": null,
            "overflow_y": null,
            "padding": null,
            "right": null,
            "top": null,
            "visibility": null,
            "width": null
          }
        },
        "27fc683080a94a24838794eaefcbc9c5": {
          "model_module": "@jupyter-widgets/controls",
          "model_name": "ProgressStyleModel",
          "model_module_version": "1.5.0",
          "state": {
            "_model_module": "@jupyter-widgets/controls",
            "_model_module_version": "1.5.0",
            "_model_name": "ProgressStyleModel",
            "_view_count": null,
            "_view_module": "@jupyter-widgets/base",
            "_view_module_version": "1.2.0",
            "_view_name": "StyleView",
            "bar_color": null,
            "description_width": ""
          }
        },
        "13e1b01fe57846b5b0f212e2d6dc8a98": {
          "model_module": "@jupyter-widgets/base",
          "model_name": "LayoutModel",
          "model_module_version": "1.2.0",
          "state": {
            "_model_module": "@jupyter-widgets/base",
            "_model_module_version": "1.2.0",
            "_model_name": "LayoutModel",
            "_view_count": null,
            "_view_module": "@jupyter-widgets/base",
            "_view_module_version": "1.2.0",
            "_view_name": "LayoutView",
            "align_content": null,
            "align_items": null,
            "align_self": null,
            "border": null,
            "bottom": null,
            "display": null,
            "flex": null,
            "flex_flow": null,
            "grid_area": null,
            "grid_auto_columns": null,
            "grid_auto_flow": null,
            "grid_auto_rows": null,
            "grid_column": null,
            "grid_gap": null,
            "grid_row": null,
            "grid_template_areas": null,
            "grid_template_columns": null,
            "grid_template_rows": null,
            "height": null,
            "justify_content": null,
            "justify_items": null,
            "left": null,
            "margin": null,
            "max_height": null,
            "max_width": null,
            "min_height": null,
            "min_width": null,
            "object_fit": null,
            "object_position": null,
            "order": null,
            "overflow": null,
            "overflow_x": null,
            "overflow_y": null,
            "padding": null,
            "right": null,
            "top": null,
            "visibility": null,
            "width": null
          }
        },
        "5560e08d7ae34ff59f0fe42adf333801": {
          "model_module": "@jupyter-widgets/controls",
          "model_name": "DescriptionStyleModel",
          "model_module_version": "1.5.0",
          "state": {
            "_model_module": "@jupyter-widgets/controls",
            "_model_module_version": "1.5.0",
            "_model_name": "DescriptionStyleModel",
            "_view_count": null,
            "_view_module": "@jupyter-widgets/base",
            "_view_module_version": "1.2.0",
            "_view_name": "StyleView",
            "description_width": ""
          }
        },
        "468eb7123afc4b44a84e558f9e61a391": {
          "model_module": "@jupyter-widgets/controls",
          "model_name": "HBoxModel",
          "model_module_version": "1.5.0",
          "state": {
            "_dom_classes": [],
            "_model_module": "@jupyter-widgets/controls",
            "_model_module_version": "1.5.0",
            "_model_name": "HBoxModel",
            "_view_count": null,
            "_view_module": "@jupyter-widgets/controls",
            "_view_module_version": "1.5.0",
            "_view_name": "HBoxView",
            "box_style": "",
            "children": [
              "IPY_MODEL_ef3e9506ffe04d0eb6161582717298d7",
              "IPY_MODEL_8507431835fd4e45abbb3426bf39744a",
              "IPY_MODEL_58c42b449759486b9d62d70551d392bf"
            ],
            "layout": "IPY_MODEL_0f36b7dce0b24fcfa85dcfe5247f4f5a"
          }
        },
        "ef3e9506ffe04d0eb6161582717298d7": {
          "model_module": "@jupyter-widgets/controls",
          "model_name": "HTMLModel",
          "model_module_version": "1.5.0",
          "state": {
            "_dom_classes": [],
            "_model_module": "@jupyter-widgets/controls",
            "_model_module_version": "1.5.0",
            "_model_name": "HTMLModel",
            "_view_count": null,
            "_view_module": "@jupyter-widgets/controls",
            "_view_module_version": "1.5.0",
            "_view_name": "HTMLView",
            "description": "",
            "description_tooltip": null,
            "layout": "IPY_MODEL_9d1c0a95a7a340aeaa6e0773a0509164",
            "placeholder": "​",
            "style": "IPY_MODEL_36bc908e804f448e8a5972f6b72f11e2",
            "value": "tokenizer_config.json: 100%"
          }
        },
        "8507431835fd4e45abbb3426bf39744a": {
          "model_module": "@jupyter-widgets/controls",
          "model_name": "FloatProgressModel",
          "model_module_version": "1.5.0",
          "state": {
            "_dom_classes": [],
            "_model_module": "@jupyter-widgets/controls",
            "_model_module_version": "1.5.0",
            "_model_name": "FloatProgressModel",
            "_view_count": null,
            "_view_module": "@jupyter-widgets/controls",
            "_view_module_version": "1.5.0",
            "_view_name": "ProgressView",
            "bar_style": "success",
            "description": "",
            "description_tooltip": null,
            "layout": "IPY_MODEL_b728284bc09d43b8b7d4dc3d438b7155",
            "max": 402,
            "min": 0,
            "orientation": "horizontal",
            "style": "IPY_MODEL_e769105875b34ac381c57ab4c8f07601",
            "value": 402
          }
        },
        "58c42b449759486b9d62d70551d392bf": {
          "model_module": "@jupyter-widgets/controls",
          "model_name": "HTMLModel",
          "model_module_version": "1.5.0",
          "state": {
            "_dom_classes": [],
            "_model_module": "@jupyter-widgets/controls",
            "_model_module_version": "1.5.0",
            "_model_name": "HTMLModel",
            "_view_count": null,
            "_view_module": "@jupyter-widgets/controls",
            "_view_module_version": "1.5.0",
            "_view_name": "HTMLView",
            "description": "",
            "description_tooltip": null,
            "layout": "IPY_MODEL_ae4eff2bf8df401a860ca3e7f88c1f17",
            "placeholder": "​",
            "style": "IPY_MODEL_7873f59a5ec347fc95f16189ec3e6c6f",
            "value": " 402/402 [00:00&lt;00:00, 23.6kB/s]"
          }
        },
        "0f36b7dce0b24fcfa85dcfe5247f4f5a": {
          "model_module": "@jupyter-widgets/base",
          "model_name": "LayoutModel",
          "model_module_version": "1.2.0",
          "state": {
            "_model_module": "@jupyter-widgets/base",
            "_model_module_version": "1.2.0",
            "_model_name": "LayoutModel",
            "_view_count": null,
            "_view_module": "@jupyter-widgets/base",
            "_view_module_version": "1.2.0",
            "_view_name": "LayoutView",
            "align_content": null,
            "align_items": null,
            "align_self": null,
            "border": null,
            "bottom": null,
            "display": null,
            "flex": null,
            "flex_flow": null,
            "grid_area": null,
            "grid_auto_columns": null,
            "grid_auto_flow": null,
            "grid_auto_rows": null,
            "grid_column": null,
            "grid_gap": null,
            "grid_row": null,
            "grid_template_areas": null,
            "grid_template_columns": null,
            "grid_template_rows": null,
            "height": null,
            "justify_content": null,
            "justify_items": null,
            "left": null,
            "margin": null,
            "max_height": null,
            "max_width": null,
            "min_height": null,
            "min_width": null,
            "object_fit": null,
            "object_position": null,
            "order": null,
            "overflow": null,
            "overflow_x": null,
            "overflow_y": null,
            "padding": null,
            "right": null,
            "top": null,
            "visibility": null,
            "width": null
          }
        },
        "9d1c0a95a7a340aeaa6e0773a0509164": {
          "model_module": "@jupyter-widgets/base",
          "model_name": "LayoutModel",
          "model_module_version": "1.2.0",
          "state": {
            "_model_module": "@jupyter-widgets/base",
            "_model_module_version": "1.2.0",
            "_model_name": "LayoutModel",
            "_view_count": null,
            "_view_module": "@jupyter-widgets/base",
            "_view_module_version": "1.2.0",
            "_view_name": "LayoutView",
            "align_content": null,
            "align_items": null,
            "align_self": null,
            "border": null,
            "bottom": null,
            "display": null,
            "flex": null,
            "flex_flow": null,
            "grid_area": null,
            "grid_auto_columns": null,
            "grid_auto_flow": null,
            "grid_auto_rows": null,
            "grid_column": null,
            "grid_gap": null,
            "grid_row": null,
            "grid_template_areas": null,
            "grid_template_columns": null,
            "grid_template_rows": null,
            "height": null,
            "justify_content": null,
            "justify_items": null,
            "left": null,
            "margin": null,
            "max_height": null,
            "max_width": null,
            "min_height": null,
            "min_width": null,
            "object_fit": null,
            "object_position": null,
            "order": null,
            "overflow": null,
            "overflow_x": null,
            "overflow_y": null,
            "padding": null,
            "right": null,
            "top": null,
            "visibility": null,
            "width": null
          }
        },
        "36bc908e804f448e8a5972f6b72f11e2": {
          "model_module": "@jupyter-widgets/controls",
          "model_name": "DescriptionStyleModel",
          "model_module_version": "1.5.0",
          "state": {
            "_model_module": "@jupyter-widgets/controls",
            "_model_module_version": "1.5.0",
            "_model_name": "DescriptionStyleModel",
            "_view_count": null,
            "_view_module": "@jupyter-widgets/base",
            "_view_module_version": "1.2.0",
            "_view_name": "StyleView",
            "description_width": ""
          }
        },
        "b728284bc09d43b8b7d4dc3d438b7155": {
          "model_module": "@jupyter-widgets/base",
          "model_name": "LayoutModel",
          "model_module_version": "1.2.0",
          "state": {
            "_model_module": "@jupyter-widgets/base",
            "_model_module_version": "1.2.0",
            "_model_name": "LayoutModel",
            "_view_count": null,
            "_view_module": "@jupyter-widgets/base",
            "_view_module_version": "1.2.0",
            "_view_name": "LayoutView",
            "align_content": null,
            "align_items": null,
            "align_self": null,
            "border": null,
            "bottom": null,
            "display": null,
            "flex": null,
            "flex_flow": null,
            "grid_area": null,
            "grid_auto_columns": null,
            "grid_auto_flow": null,
            "grid_auto_rows": null,
            "grid_column": null,
            "grid_gap": null,
            "grid_row": null,
            "grid_template_areas": null,
            "grid_template_columns": null,
            "grid_template_rows": null,
            "height": null,
            "justify_content": null,
            "justify_items": null,
            "left": null,
            "margin": null,
            "max_height": null,
            "max_width": null,
            "min_height": null,
            "min_width": null,
            "object_fit": null,
            "object_position": null,
            "order": null,
            "overflow": null,
            "overflow_x": null,
            "overflow_y": null,
            "padding": null,
            "right": null,
            "top": null,
            "visibility": null,
            "width": null
          }
        },
        "e769105875b34ac381c57ab4c8f07601": {
          "model_module": "@jupyter-widgets/controls",
          "model_name": "ProgressStyleModel",
          "model_module_version": "1.5.0",
          "state": {
            "_model_module": "@jupyter-widgets/controls",
            "_model_module_version": "1.5.0",
            "_model_name": "ProgressStyleModel",
            "_view_count": null,
            "_view_module": "@jupyter-widgets/base",
            "_view_module_version": "1.2.0",
            "_view_name": "StyleView",
            "bar_color": null,
            "description_width": ""
          }
        },
        "ae4eff2bf8df401a860ca3e7f88c1f17": {
          "model_module": "@jupyter-widgets/base",
          "model_name": "LayoutModel",
          "model_module_version": "1.2.0",
          "state": {
            "_model_module": "@jupyter-widgets/base",
            "_model_module_version": "1.2.0",
            "_model_name": "LayoutModel",
            "_view_count": null,
            "_view_module": "@jupyter-widgets/base",
            "_view_module_version": "1.2.0",
            "_view_name": "LayoutView",
            "align_content": null,
            "align_items": null,
            "align_self": null,
            "border": null,
            "bottom": null,
            "display": null,
            "flex": null,
            "flex_flow": null,
            "grid_area": null,
            "grid_auto_columns": null,
            "grid_auto_flow": null,
            "grid_auto_rows": null,
            "grid_column": null,
            "grid_gap": null,
            "grid_row": null,
            "grid_template_areas": null,
            "grid_template_columns": null,
            "grid_template_rows": null,
            "height": null,
            "justify_content": null,
            "justify_items": null,
            "left": null,
            "margin": null,
            "max_height": null,
            "max_width": null,
            "min_height": null,
            "min_width": null,
            "object_fit": null,
            "object_position": null,
            "order": null,
            "overflow": null,
            "overflow_x": null,
            "overflow_y": null,
            "padding": null,
            "right": null,
            "top": null,
            "visibility": null,
            "width": null
          }
        },
        "7873f59a5ec347fc95f16189ec3e6c6f": {
          "model_module": "@jupyter-widgets/controls",
          "model_name": "DescriptionStyleModel",
          "model_module_version": "1.5.0",
          "state": {
            "_model_module": "@jupyter-widgets/controls",
            "_model_module_version": "1.5.0",
            "_model_name": "DescriptionStyleModel",
            "_view_count": null,
            "_view_module": "@jupyter-widgets/base",
            "_view_module_version": "1.2.0",
            "_view_name": "StyleView",
            "description_width": ""
          }
        },
        "8a76086aecbd4fb6a0a33b83fd5da0b1": {
          "model_module": "@jupyter-widgets/controls",
          "model_name": "HBoxModel",
          "model_module_version": "1.5.0",
          "state": {
            "_dom_classes": [],
            "_model_module": "@jupyter-widgets/controls",
            "_model_module_version": "1.5.0",
            "_model_name": "HBoxModel",
            "_view_count": null,
            "_view_module": "@jupyter-widgets/controls",
            "_view_module_version": "1.5.0",
            "_view_name": "HBoxView",
            "box_style": "",
            "children": [
              "IPY_MODEL_5089164bc27e4bf0925e570df9c7159e",
              "IPY_MODEL_5507f6da214f4ea2a335d6f8e7d542ff",
              "IPY_MODEL_2d6f4d1f70754604a98f6a666d22df02"
            ],
            "layout": "IPY_MODEL_218ca336566f4ebba17ee1dd34d5332a"
          }
        },
        "5089164bc27e4bf0925e570df9c7159e": {
          "model_module": "@jupyter-widgets/controls",
          "model_name": "HTMLModel",
          "model_module_version": "1.5.0",
          "state": {
            "_dom_classes": [],
            "_model_module": "@jupyter-widgets/controls",
            "_model_module_version": "1.5.0",
            "_model_name": "HTMLModel",
            "_view_count": null,
            "_view_module": "@jupyter-widgets/controls",
            "_view_module_version": "1.5.0",
            "_view_name": "HTMLView",
            "description": "",
            "description_tooltip": null,
            "layout": "IPY_MODEL_27f2cf161bd7428585f1bfa82bd0c1e0",
            "placeholder": "​",
            "style": "IPY_MODEL_8a50ee0cd32d427c908440315f9ca8f0",
            "value": "sentencepiece.bpe.model: 100%"
          }
        },
        "5507f6da214f4ea2a335d6f8e7d542ff": {
          "model_module": "@jupyter-widgets/controls",
          "model_name": "FloatProgressModel",
          "model_module_version": "1.5.0",
          "state": {
            "_dom_classes": [],
            "_model_module": "@jupyter-widgets/controls",
            "_model_module_version": "1.5.0",
            "_model_name": "FloatProgressModel",
            "_view_count": null,
            "_view_module": "@jupyter-widgets/controls",
            "_view_module_version": "1.5.0",
            "_view_name": "ProgressView",
            "bar_style": "success",
            "description": "",
            "description_tooltip": null,
            "layout": "IPY_MODEL_5f20f8beb14e4d0e902ca35fa1041de8",
            "max": 5069051,
            "min": 0,
            "orientation": "horizontal",
            "style": "IPY_MODEL_f960790c5a7a4301bf12bac76f25f4bf",
            "value": 5069051
          }
        },
        "2d6f4d1f70754604a98f6a666d22df02": {
          "model_module": "@jupyter-widgets/controls",
          "model_name": "HTMLModel",
          "model_module_version": "1.5.0",
          "state": {
            "_dom_classes": [],
            "_model_module": "@jupyter-widgets/controls",
            "_model_module_version": "1.5.0",
            "_model_name": "HTMLModel",
            "_view_count": null,
            "_view_module": "@jupyter-widgets/controls",
            "_view_module_version": "1.5.0",
            "_view_name": "HTMLView",
            "description": "",
            "description_tooltip": null,
            "layout": "IPY_MODEL_0620bc06837a4b9490f8728fd1666a54",
            "placeholder": "​",
            "style": "IPY_MODEL_b4a2ffe10aac4978bfb55016b6238c05",
            "value": " 5.07M/5.07M [00:00&lt;00:00, 108MB/s]"
          }
        },
        "218ca336566f4ebba17ee1dd34d5332a": {
          "model_module": "@jupyter-widgets/base",
          "model_name": "LayoutModel",
          "model_module_version": "1.2.0",
          "state": {
            "_model_module": "@jupyter-widgets/base",
            "_model_module_version": "1.2.0",
            "_model_name": "LayoutModel",
            "_view_count": null,
            "_view_module": "@jupyter-widgets/base",
            "_view_module_version": "1.2.0",
            "_view_name": "LayoutView",
            "align_content": null,
            "align_items": null,
            "align_self": null,
            "border": null,
            "bottom": null,
            "display": null,
            "flex": null,
            "flex_flow": null,
            "grid_area": null,
            "grid_auto_columns": null,
            "grid_auto_flow": null,
            "grid_auto_rows": null,
            "grid_column": null,
            "grid_gap": null,
            "grid_row": null,
            "grid_template_areas": null,
            "grid_template_columns": null,
            "grid_template_rows": null,
            "height": null,
            "justify_content": null,
            "justify_items": null,
            "left": null,
            "margin": null,
            "max_height": null,
            "max_width": null,
            "min_height": null,
            "min_width": null,
            "object_fit": null,
            "object_position": null,
            "order": null,
            "overflow": null,
            "overflow_x": null,
            "overflow_y": null,
            "padding": null,
            "right": null,
            "top": null,
            "visibility": null,
            "width": null
          }
        },
        "27f2cf161bd7428585f1bfa82bd0c1e0": {
          "model_module": "@jupyter-widgets/base",
          "model_name": "LayoutModel",
          "model_module_version": "1.2.0",
          "state": {
            "_model_module": "@jupyter-widgets/base",
            "_model_module_version": "1.2.0",
            "_model_name": "LayoutModel",
            "_view_count": null,
            "_view_module": "@jupyter-widgets/base",
            "_view_module_version": "1.2.0",
            "_view_name": "LayoutView",
            "align_content": null,
            "align_items": null,
            "align_self": null,
            "border": null,
            "bottom": null,
            "display": null,
            "flex": null,
            "flex_flow": null,
            "grid_area": null,
            "grid_auto_columns": null,
            "grid_auto_flow": null,
            "grid_auto_rows": null,
            "grid_column": null,
            "grid_gap": null,
            "grid_row": null,
            "grid_template_areas": null,
            "grid_template_columns": null,
            "grid_template_rows": null,
            "height": null,
            "justify_content": null,
            "justify_items": null,
            "left": null,
            "margin": null,
            "max_height": null,
            "max_width": null,
            "min_height": null,
            "min_width": null,
            "object_fit": null,
            "object_position": null,
            "order": null,
            "overflow": null,
            "overflow_x": null,
            "overflow_y": null,
            "padding": null,
            "right": null,
            "top": null,
            "visibility": null,
            "width": null
          }
        },
        "8a50ee0cd32d427c908440315f9ca8f0": {
          "model_module": "@jupyter-widgets/controls",
          "model_name": "DescriptionStyleModel",
          "model_module_version": "1.5.0",
          "state": {
            "_model_module": "@jupyter-widgets/controls",
            "_model_module_version": "1.5.0",
            "_model_name": "DescriptionStyleModel",
            "_view_count": null,
            "_view_module": "@jupyter-widgets/base",
            "_view_module_version": "1.2.0",
            "_view_name": "StyleView",
            "description_width": ""
          }
        },
        "5f20f8beb14e4d0e902ca35fa1041de8": {
          "model_module": "@jupyter-widgets/base",
          "model_name": "LayoutModel",
          "model_module_version": "1.2.0",
          "state": {
            "_model_module": "@jupyter-widgets/base",
            "_model_module_version": "1.2.0",
            "_model_name": "LayoutModel",
            "_view_count": null,
            "_view_module": "@jupyter-widgets/base",
            "_view_module_version": "1.2.0",
            "_view_name": "LayoutView",
            "align_content": null,
            "align_items": null,
            "align_self": null,
            "border": null,
            "bottom": null,
            "display": null,
            "flex": null,
            "flex_flow": null,
            "grid_area": null,
            "grid_auto_columns": null,
            "grid_auto_flow": null,
            "grid_auto_rows": null,
            "grid_column": null,
            "grid_gap": null,
            "grid_row": null,
            "grid_template_areas": null,
            "grid_template_columns": null,
            "grid_template_rows": null,
            "height": null,
            "justify_content": null,
            "justify_items": null,
            "left": null,
            "margin": null,
            "max_height": null,
            "max_width": null,
            "min_height": null,
            "min_width": null,
            "object_fit": null,
            "object_position": null,
            "order": null,
            "overflow": null,
            "overflow_x": null,
            "overflow_y": null,
            "padding": null,
            "right": null,
            "top": null,
            "visibility": null,
            "width": null
          }
        },
        "f960790c5a7a4301bf12bac76f25f4bf": {
          "model_module": "@jupyter-widgets/controls",
          "model_name": "ProgressStyleModel",
          "model_module_version": "1.5.0",
          "state": {
            "_model_module": "@jupyter-widgets/controls",
            "_model_module_version": "1.5.0",
            "_model_name": "ProgressStyleModel",
            "_view_count": null,
            "_view_module": "@jupyter-widgets/base",
            "_view_module_version": "1.2.0",
            "_view_name": "StyleView",
            "bar_color": null,
            "description_width": ""
          }
        },
        "0620bc06837a4b9490f8728fd1666a54": {
          "model_module": "@jupyter-widgets/base",
          "model_name": "LayoutModel",
          "model_module_version": "1.2.0",
          "state": {
            "_model_module": "@jupyter-widgets/base",
            "_model_module_version": "1.2.0",
            "_model_name": "LayoutModel",
            "_view_count": null,
            "_view_module": "@jupyter-widgets/base",
            "_view_module_version": "1.2.0",
            "_view_name": "LayoutView",
            "align_content": null,
            "align_items": null,
            "align_self": null,
            "border": null,
            "bottom": null,
            "display": null,
            "flex": null,
            "flex_flow": null,
            "grid_area": null,
            "grid_auto_columns": null,
            "grid_auto_flow": null,
            "grid_auto_rows": null,
            "grid_column": null,
            "grid_gap": null,
            "grid_row": null,
            "grid_template_areas": null,
            "grid_template_columns": null,
            "grid_template_rows": null,
            "height": null,
            "justify_content": null,
            "justify_items": null,
            "left": null,
            "margin": null,
            "max_height": null,
            "max_width": null,
            "min_height": null,
            "min_width": null,
            "object_fit": null,
            "object_position": null,
            "order": null,
            "overflow": null,
            "overflow_x": null,
            "overflow_y": null,
            "padding": null,
            "right": null,
            "top": null,
            "visibility": null,
            "width": null
          }
        },
        "b4a2ffe10aac4978bfb55016b6238c05": {
          "model_module": "@jupyter-widgets/controls",
          "model_name": "DescriptionStyleModel",
          "model_module_version": "1.5.0",
          "state": {
            "_model_module": "@jupyter-widgets/controls",
            "_model_module_version": "1.5.0",
            "_model_name": "DescriptionStyleModel",
            "_view_count": null,
            "_view_module": "@jupyter-widgets/base",
            "_view_module_version": "1.2.0",
            "_view_name": "StyleView",
            "description_width": ""
          }
        },
        "48b22632a1934016ae4be693b763b4d9": {
          "model_module": "@jupyter-widgets/controls",
          "model_name": "HBoxModel",
          "model_module_version": "1.5.0",
          "state": {
            "_dom_classes": [],
            "_model_module": "@jupyter-widgets/controls",
            "_model_module_version": "1.5.0",
            "_model_name": "HBoxModel",
            "_view_count": null,
            "_view_module": "@jupyter-widgets/controls",
            "_view_module_version": "1.5.0",
            "_view_name": "HBoxView",
            "box_style": "",
            "children": [
              "IPY_MODEL_803f33a1baa74e5095d2d7b1940a2168",
              "IPY_MODEL_855f0a6cfbec49b3833698a199fa5211",
              "IPY_MODEL_ea0041c924804dbab1ae295c826fdfda"
            ],
            "layout": "IPY_MODEL_8c8026a1cb32483ab6d03cbdfc9680fe"
          }
        },
        "803f33a1baa74e5095d2d7b1940a2168": {
          "model_module": "@jupyter-widgets/controls",
          "model_name": "HTMLModel",
          "model_module_version": "1.5.0",
          "state": {
            "_dom_classes": [],
            "_model_module": "@jupyter-widgets/controls",
            "_model_module_version": "1.5.0",
            "_model_name": "HTMLModel",
            "_view_count": null,
            "_view_module": "@jupyter-widgets/controls",
            "_view_module_version": "1.5.0",
            "_view_name": "HTMLView",
            "description": "",
            "description_tooltip": null,
            "layout": "IPY_MODEL_865d567b20604fa695650cbd3f635cd3",
            "placeholder": "​",
            "style": "IPY_MODEL_9aa01b4d40cb4c8793483953f4b6a8bb",
            "value": "tokenizer.json: 100%"
          }
        },
        "855f0a6cfbec49b3833698a199fa5211": {
          "model_module": "@jupyter-widgets/controls",
          "model_name": "FloatProgressModel",
          "model_module_version": "1.5.0",
          "state": {
            "_dom_classes": [],
            "_model_module": "@jupyter-widgets/controls",
            "_model_module_version": "1.5.0",
            "_model_name": "FloatProgressModel",
            "_view_count": null,
            "_view_module": "@jupyter-widgets/controls",
            "_view_module_version": "1.5.0",
            "_view_name": "ProgressView",
            "bar_style": "success",
            "description": "",
            "description_tooltip": null,
            "layout": "IPY_MODEL_fb1d8d053ef145ada5ae3fd158ba2b67",
            "max": 9081518,
            "min": 0,
            "orientation": "horizontal",
            "style": "IPY_MODEL_5960797d231d4be2b95b823f7d883964",
            "value": 9081518
          }
        },
        "ea0041c924804dbab1ae295c826fdfda": {
          "model_module": "@jupyter-widgets/controls",
          "model_name": "HTMLModel",
          "model_module_version": "1.5.0",
          "state": {
            "_dom_classes": [],
            "_model_module": "@jupyter-widgets/controls",
            "_model_module_version": "1.5.0",
            "_model_name": "HTMLModel",
            "_view_count": null,
            "_view_module": "@jupyter-widgets/controls",
            "_view_module_version": "1.5.0",
            "_view_name": "HTMLView",
            "description": "",
            "description_tooltip": null,
            "layout": "IPY_MODEL_c23ea525dec84e51a56caecf67633a7d",
            "placeholder": "​",
            "style": "IPY_MODEL_7c5ce4bd76c448ad897b818cb1988df1",
            "value": " 9.08M/9.08M [00:00&lt;00:00, 53.2MB/s]"
          }
        },
        "8c8026a1cb32483ab6d03cbdfc9680fe": {
          "model_module": "@jupyter-widgets/base",
          "model_name": "LayoutModel",
          "model_module_version": "1.2.0",
          "state": {
            "_model_module": "@jupyter-widgets/base",
            "_model_module_version": "1.2.0",
            "_model_name": "LayoutModel",
            "_view_count": null,
            "_view_module": "@jupyter-widgets/base",
            "_view_module_version": "1.2.0",
            "_view_name": "LayoutView",
            "align_content": null,
            "align_items": null,
            "align_self": null,
            "border": null,
            "bottom": null,
            "display": null,
            "flex": null,
            "flex_flow": null,
            "grid_area": null,
            "grid_auto_columns": null,
            "grid_auto_flow": null,
            "grid_auto_rows": null,
            "grid_column": null,
            "grid_gap": null,
            "grid_row": null,
            "grid_template_areas": null,
            "grid_template_columns": null,
            "grid_template_rows": null,
            "height": null,
            "justify_content": null,
            "justify_items": null,
            "left": null,
            "margin": null,
            "max_height": null,
            "max_width": null,
            "min_height": null,
            "min_width": null,
            "object_fit": null,
            "object_position": null,
            "order": null,
            "overflow": null,
            "overflow_x": null,
            "overflow_y": null,
            "padding": null,
            "right": null,
            "top": null,
            "visibility": null,
            "width": null
          }
        },
        "865d567b20604fa695650cbd3f635cd3": {
          "model_module": "@jupyter-widgets/base",
          "model_name": "LayoutModel",
          "model_module_version": "1.2.0",
          "state": {
            "_model_module": "@jupyter-widgets/base",
            "_model_module_version": "1.2.0",
            "_model_name": "LayoutModel",
            "_view_count": null,
            "_view_module": "@jupyter-widgets/base",
            "_view_module_version": "1.2.0",
            "_view_name": "LayoutView",
            "align_content": null,
            "align_items": null,
            "align_self": null,
            "border": null,
            "bottom": null,
            "display": null,
            "flex": null,
            "flex_flow": null,
            "grid_area": null,
            "grid_auto_columns": null,
            "grid_auto_flow": null,
            "grid_auto_rows": null,
            "grid_column": null,
            "grid_gap": null,
            "grid_row": null,
            "grid_template_areas": null,
            "grid_template_columns": null,
            "grid_template_rows": null,
            "height": null,
            "justify_content": null,
            "justify_items": null,
            "left": null,
            "margin": null,
            "max_height": null,
            "max_width": null,
            "min_height": null,
            "min_width": null,
            "object_fit": null,
            "object_position": null,
            "order": null,
            "overflow": null,
            "overflow_x": null,
            "overflow_y": null,
            "padding": null,
            "right": null,
            "top": null,
            "visibility": null,
            "width": null
          }
        },
        "9aa01b4d40cb4c8793483953f4b6a8bb": {
          "model_module": "@jupyter-widgets/controls",
          "model_name": "DescriptionStyleModel",
          "model_module_version": "1.5.0",
          "state": {
            "_model_module": "@jupyter-widgets/controls",
            "_model_module_version": "1.5.0",
            "_model_name": "DescriptionStyleModel",
            "_view_count": null,
            "_view_module": "@jupyter-widgets/base",
            "_view_module_version": "1.2.0",
            "_view_name": "StyleView",
            "description_width": ""
          }
        },
        "fb1d8d053ef145ada5ae3fd158ba2b67": {
          "model_module": "@jupyter-widgets/base",
          "model_name": "LayoutModel",
          "model_module_version": "1.2.0",
          "state": {
            "_model_module": "@jupyter-widgets/base",
            "_model_module_version": "1.2.0",
            "_model_name": "LayoutModel",
            "_view_count": null,
            "_view_module": "@jupyter-widgets/base",
            "_view_module_version": "1.2.0",
            "_view_name": "LayoutView",
            "align_content": null,
            "align_items": null,
            "align_self": null,
            "border": null,
            "bottom": null,
            "display": null,
            "flex": null,
            "flex_flow": null,
            "grid_area": null,
            "grid_auto_columns": null,
            "grid_auto_flow": null,
            "grid_auto_rows": null,
            "grid_column": null,
            "grid_gap": null,
            "grid_row": null,
            "grid_template_areas": null,
            "grid_template_columns": null,
            "grid_template_rows": null,
            "height": null,
            "justify_content": null,
            "justify_items": null,
            "left": null,
            "margin": null,
            "max_height": null,
            "max_width": null,
            "min_height": null,
            "min_width": null,
            "object_fit": null,
            "object_position": null,
            "order": null,
            "overflow": null,
            "overflow_x": null,
            "overflow_y": null,
            "padding": null,
            "right": null,
            "top": null,
            "visibility": null,
            "width": null
          }
        },
        "5960797d231d4be2b95b823f7d883964": {
          "model_module": "@jupyter-widgets/controls",
          "model_name": "ProgressStyleModel",
          "model_module_version": "1.5.0",
          "state": {
            "_model_module": "@jupyter-widgets/controls",
            "_model_module_version": "1.5.0",
            "_model_name": "ProgressStyleModel",
            "_view_count": null,
            "_view_module": "@jupyter-widgets/base",
            "_view_module_version": "1.2.0",
            "_view_name": "StyleView",
            "bar_color": null,
            "description_width": ""
          }
        },
        "c23ea525dec84e51a56caecf67633a7d": {
          "model_module": "@jupyter-widgets/base",
          "model_name": "LayoutModel",
          "model_module_version": "1.2.0",
          "state": {
            "_model_module": "@jupyter-widgets/base",
            "_model_module_version": "1.2.0",
            "_model_name": "LayoutModel",
            "_view_count": null,
            "_view_module": "@jupyter-widgets/base",
            "_view_module_version": "1.2.0",
            "_view_name": "LayoutView",
            "align_content": null,
            "align_items": null,
            "align_self": null,
            "border": null,
            "bottom": null,
            "display": null,
            "flex": null,
            "flex_flow": null,
            "grid_area": null,
            "grid_auto_columns": null,
            "grid_auto_flow": null,
            "grid_auto_rows": null,
            "grid_column": null,
            "grid_gap": null,
            "grid_row": null,
            "grid_template_areas": null,
            "grid_template_columns": null,
            "grid_template_rows": null,
            "height": null,
            "justify_content": null,
            "justify_items": null,
            "left": null,
            "margin": null,
            "max_height": null,
            "max_width": null,
            "min_height": null,
            "min_width": null,
            "object_fit": null,
            "object_position": null,
            "order": null,
            "overflow": null,
            "overflow_x": null,
            "overflow_y": null,
            "padding": null,
            "right": null,
            "top": null,
            "visibility": null,
            "width": null
          }
        },
        "7c5ce4bd76c448ad897b818cb1988df1": {
          "model_module": "@jupyter-widgets/controls",
          "model_name": "DescriptionStyleModel",
          "model_module_version": "1.5.0",
          "state": {
            "_model_module": "@jupyter-widgets/controls",
            "_model_module_version": "1.5.0",
            "_model_name": "DescriptionStyleModel",
            "_view_count": null,
            "_view_module": "@jupyter-widgets/base",
            "_view_module_version": "1.2.0",
            "_view_name": "StyleView",
            "description_width": ""
          }
        },
        "af690c4092c54e2f86d2adff08459aeb": {
          "model_module": "@jupyter-widgets/controls",
          "model_name": "HBoxModel",
          "model_module_version": "1.5.0",
          "state": {
            "_dom_classes": [],
            "_model_module": "@jupyter-widgets/controls",
            "_model_module_version": "1.5.0",
            "_model_name": "HBoxModel",
            "_view_count": null,
            "_view_module": "@jupyter-widgets/controls",
            "_view_module_version": "1.5.0",
            "_view_name": "HBoxView",
            "box_style": "",
            "children": [
              "IPY_MODEL_a08b724104044771bd3f0a9d050615ec",
              "IPY_MODEL_215c6faad8b84f8fb610ce962c931449",
              "IPY_MODEL_bbc758deac904a368845d0d60031c484"
            ],
            "layout": "IPY_MODEL_8caa80ab4cbd4e0eaf2001cb3146c1f0"
          }
        },
        "a08b724104044771bd3f0a9d050615ec": {
          "model_module": "@jupyter-widgets/controls",
          "model_name": "HTMLModel",
          "model_module_version": "1.5.0",
          "state": {
            "_dom_classes": [],
            "_model_module": "@jupyter-widgets/controls",
            "_model_module_version": "1.5.0",
            "_model_name": "HTMLModel",
            "_view_count": null,
            "_view_module": "@jupyter-widgets/controls",
            "_view_module_version": "1.5.0",
            "_view_name": "HTMLView",
            "description": "",
            "description_tooltip": null,
            "layout": "IPY_MODEL_cb09369d1daf4e68aea80eb57d3a23f5",
            "placeholder": "​",
            "style": "IPY_MODEL_136a30afbaf5460cb56c6799d9e4b788",
            "value": "special_tokens_map.json: 100%"
          }
        },
        "215c6faad8b84f8fb610ce962c931449": {
          "model_module": "@jupyter-widgets/controls",
          "model_name": "FloatProgressModel",
          "model_module_version": "1.5.0",
          "state": {
            "_dom_classes": [],
            "_model_module": "@jupyter-widgets/controls",
            "_model_module_version": "1.5.0",
            "_model_name": "FloatProgressModel",
            "_view_count": null,
            "_view_module": "@jupyter-widgets/controls",
            "_view_module_version": "1.5.0",
            "_view_name": "ProgressView",
            "bar_style": "success",
            "description": "",
            "description_tooltip": null,
            "layout": "IPY_MODEL_13fe1fad4cbe472bac70d7782db0c3dc",
            "max": 239,
            "min": 0,
            "orientation": "horizontal",
            "style": "IPY_MODEL_446ffebdbcf14474897079667678039d",
            "value": 239
          }
        },
        "bbc758deac904a368845d0d60031c484": {
          "model_module": "@jupyter-widgets/controls",
          "model_name": "HTMLModel",
          "model_module_version": "1.5.0",
          "state": {
            "_dom_classes": [],
            "_model_module": "@jupyter-widgets/controls",
            "_model_module_version": "1.5.0",
            "_model_name": "HTMLModel",
            "_view_count": null,
            "_view_module": "@jupyter-widgets/controls",
            "_view_module_version": "1.5.0",
            "_view_name": "HTMLView",
            "description": "",
            "description_tooltip": null,
            "layout": "IPY_MODEL_cdf0e0d39f2e443db3f8b642a760e902",
            "placeholder": "​",
            "style": "IPY_MODEL_b93125a0fdd24bf1b08decad7a6ddb8b",
            "value": " 239/239 [00:00&lt;00:00, 18.5kB/s]"
          }
        },
        "8caa80ab4cbd4e0eaf2001cb3146c1f0": {
          "model_module": "@jupyter-widgets/base",
          "model_name": "LayoutModel",
          "model_module_version": "1.2.0",
          "state": {
            "_model_module": "@jupyter-widgets/base",
            "_model_module_version": "1.2.0",
            "_model_name": "LayoutModel",
            "_view_count": null,
            "_view_module": "@jupyter-widgets/base",
            "_view_module_version": "1.2.0",
            "_view_name": "LayoutView",
            "align_content": null,
            "align_items": null,
            "align_self": null,
            "border": null,
            "bottom": null,
            "display": null,
            "flex": null,
            "flex_flow": null,
            "grid_area": null,
            "grid_auto_columns": null,
            "grid_auto_flow": null,
            "grid_auto_rows": null,
            "grid_column": null,
            "grid_gap": null,
            "grid_row": null,
            "grid_template_areas": null,
            "grid_template_columns": null,
            "grid_template_rows": null,
            "height": null,
            "justify_content": null,
            "justify_items": null,
            "left": null,
            "margin": null,
            "max_height": null,
            "max_width": null,
            "min_height": null,
            "min_width": null,
            "object_fit": null,
            "object_position": null,
            "order": null,
            "overflow": null,
            "overflow_x": null,
            "overflow_y": null,
            "padding": null,
            "right": null,
            "top": null,
            "visibility": null,
            "width": null
          }
        },
        "cb09369d1daf4e68aea80eb57d3a23f5": {
          "model_module": "@jupyter-widgets/base",
          "model_name": "LayoutModel",
          "model_module_version": "1.2.0",
          "state": {
            "_model_module": "@jupyter-widgets/base",
            "_model_module_version": "1.2.0",
            "_model_name": "LayoutModel",
            "_view_count": null,
            "_view_module": "@jupyter-widgets/base",
            "_view_module_version": "1.2.0",
            "_view_name": "LayoutView",
            "align_content": null,
            "align_items": null,
            "align_self": null,
            "border": null,
            "bottom": null,
            "display": null,
            "flex": null,
            "flex_flow": null,
            "grid_area": null,
            "grid_auto_columns": null,
            "grid_auto_flow": null,
            "grid_auto_rows": null,
            "grid_column": null,
            "grid_gap": null,
            "grid_row": null,
            "grid_template_areas": null,
            "grid_template_columns": null,
            "grid_template_rows": null,
            "height": null,
            "justify_content": null,
            "justify_items": null,
            "left": null,
            "margin": null,
            "max_height": null,
            "max_width": null,
            "min_height": null,
            "min_width": null,
            "object_fit": null,
            "object_position": null,
            "order": null,
            "overflow": null,
            "overflow_x": null,
            "overflow_y": null,
            "padding": null,
            "right": null,
            "top": null,
            "visibility": null,
            "width": null
          }
        },
        "136a30afbaf5460cb56c6799d9e4b788": {
          "model_module": "@jupyter-widgets/controls",
          "model_name": "DescriptionStyleModel",
          "model_module_version": "1.5.0",
          "state": {
            "_model_module": "@jupyter-widgets/controls",
            "_model_module_version": "1.5.0",
            "_model_name": "DescriptionStyleModel",
            "_view_count": null,
            "_view_module": "@jupyter-widgets/base",
            "_view_module_version": "1.2.0",
            "_view_name": "StyleView",
            "description_width": ""
          }
        },
        "13fe1fad4cbe472bac70d7782db0c3dc": {
          "model_module": "@jupyter-widgets/base",
          "model_name": "LayoutModel",
          "model_module_version": "1.2.0",
          "state": {
            "_model_module": "@jupyter-widgets/base",
            "_model_module_version": "1.2.0",
            "_model_name": "LayoutModel",
            "_view_count": null,
            "_view_module": "@jupyter-widgets/base",
            "_view_module_version": "1.2.0",
            "_view_name": "LayoutView",
            "align_content": null,
            "align_items": null,
            "align_self": null,
            "border": null,
            "bottom": null,
            "display": null,
            "flex": null,
            "flex_flow": null,
            "grid_area": null,
            "grid_auto_columns": null,
            "grid_auto_flow": null,
            "grid_auto_rows": null,
            "grid_column": null,
            "grid_gap": null,
            "grid_row": null,
            "grid_template_areas": null,
            "grid_template_columns": null,
            "grid_template_rows": null,
            "height": null,
            "justify_content": null,
            "justify_items": null,
            "left": null,
            "margin": null,
            "max_height": null,
            "max_width": null,
            "min_height": null,
            "min_width": null,
            "object_fit": null,
            "object_position": null,
            "order": null,
            "overflow": null,
            "overflow_x": null,
            "overflow_y": null,
            "padding": null,
            "right": null,
            "top": null,
            "visibility": null,
            "width": null
          }
        },
        "446ffebdbcf14474897079667678039d": {
          "model_module": "@jupyter-widgets/controls",
          "model_name": "ProgressStyleModel",
          "model_module_version": "1.5.0",
          "state": {
            "_model_module": "@jupyter-widgets/controls",
            "_model_module_version": "1.5.0",
            "_model_name": "ProgressStyleModel",
            "_view_count": null,
            "_view_module": "@jupyter-widgets/base",
            "_view_module_version": "1.2.0",
            "_view_name": "StyleView",
            "bar_color": null,
            "description_width": ""
          }
        },
        "cdf0e0d39f2e443db3f8b642a760e902": {
          "model_module": "@jupyter-widgets/base",
          "model_name": "LayoutModel",
          "model_module_version": "1.2.0",
          "state": {
            "_model_module": "@jupyter-widgets/base",
            "_model_module_version": "1.2.0",
            "_model_name": "LayoutModel",
            "_view_count": null,
            "_view_module": "@jupyter-widgets/base",
            "_view_module_version": "1.2.0",
            "_view_name": "LayoutView",
            "align_content": null,
            "align_items": null,
            "align_self": null,
            "border": null,
            "bottom": null,
            "display": null,
            "flex": null,
            "flex_flow": null,
            "grid_area": null,
            "grid_auto_columns": null,
            "grid_auto_flow": null,
            "grid_auto_rows": null,
            "grid_column": null,
            "grid_gap": null,
            "grid_row": null,
            "grid_template_areas": null,
            "grid_template_columns": null,
            "grid_template_rows": null,
            "height": null,
            "justify_content": null,
            "justify_items": null,
            "left": null,
            "margin": null,
            "max_height": null,
            "max_width": null,
            "min_height": null,
            "min_width": null,
            "object_fit": null,
            "object_position": null,
            "order": null,
            "overflow": null,
            "overflow_x": null,
            "overflow_y": null,
            "padding": null,
            "right": null,
            "top": null,
            "visibility": null,
            "width": null
          }
        },
        "b93125a0fdd24bf1b08decad7a6ddb8b": {
          "model_module": "@jupyter-widgets/controls",
          "model_name": "DescriptionStyleModel",
          "model_module_version": "1.5.0",
          "state": {
            "_model_module": "@jupyter-widgets/controls",
            "_model_module_version": "1.5.0",
            "_model_name": "DescriptionStyleModel",
            "_view_count": null,
            "_view_module": "@jupyter-widgets/base",
            "_view_module_version": "1.2.0",
            "_view_name": "StyleView",
            "description_width": ""
          }
        },
        "076235d8b9114d1487b9d378ab14444e": {
          "model_module": "@jupyter-widgets/controls",
          "model_name": "HBoxModel",
          "model_module_version": "1.5.0",
          "state": {
            "_dom_classes": [],
            "_model_module": "@jupyter-widgets/controls",
            "_model_module_version": "1.5.0",
            "_model_name": "HBoxModel",
            "_view_count": null,
            "_view_module": "@jupyter-widgets/controls",
            "_view_module_version": "1.5.0",
            "_view_name": "HBoxView",
            "box_style": "",
            "children": [
              "IPY_MODEL_e3b5b911483044e3b49a0e85de0912fe",
              "IPY_MODEL_99808bf07d7c459e932d871188ec3d29",
              "IPY_MODEL_96ab02852f834256bf09f277d59710c8"
            ],
            "layout": "IPY_MODEL_f104e64962ec4eedb749a1fb2aca20bb"
          }
        },
        "e3b5b911483044e3b49a0e85de0912fe": {
          "model_module": "@jupyter-widgets/controls",
          "model_name": "HTMLModel",
          "model_module_version": "1.5.0",
          "state": {
            "_dom_classes": [],
            "_model_module": "@jupyter-widgets/controls",
            "_model_module_version": "1.5.0",
            "_model_name": "HTMLModel",
            "_view_count": null,
            "_view_module": "@jupyter-widgets/controls",
            "_view_module_version": "1.5.0",
            "_view_name": "HTMLView",
            "description": "",
            "description_tooltip": null,
            "layout": "IPY_MODEL_56e83c8e8a13485893d6df0b1b8774b4",
            "placeholder": "​",
            "style": "IPY_MODEL_fe690db040b447dfb538b92a6da4b07b",
            "value": "config.json: 100%"
          }
        },
        "99808bf07d7c459e932d871188ec3d29": {
          "model_module": "@jupyter-widgets/controls",
          "model_name": "FloatProgressModel",
          "model_module_version": "1.5.0",
          "state": {
            "_dom_classes": [],
            "_model_module": "@jupyter-widgets/controls",
            "_model_module_version": "1.5.0",
            "_model_name": "FloatProgressModel",
            "_view_count": null,
            "_view_module": "@jupyter-widgets/controls",
            "_view_module_version": "1.5.0",
            "_view_name": "ProgressView",
            "bar_style": "success",
            "description": "",
            "description_tooltip": null,
            "layout": "IPY_MODEL_8ad471be8b644fcfb0f1702c9b69c867",
            "max": 190,
            "min": 0,
            "orientation": "horizontal",
            "style": "IPY_MODEL_a004f781a1bc43fa90a1288d0f8418b7",
            "value": 190
          }
        },
        "96ab02852f834256bf09f277d59710c8": {
          "model_module": "@jupyter-widgets/controls",
          "model_name": "HTMLModel",
          "model_module_version": "1.5.0",
          "state": {
            "_dom_classes": [],
            "_model_module": "@jupyter-widgets/controls",
            "_model_module_version": "1.5.0",
            "_model_name": "HTMLModel",
            "_view_count": null,
            "_view_module": "@jupyter-widgets/controls",
            "_view_module_version": "1.5.0",
            "_view_name": "HTMLView",
            "description": "",
            "description_tooltip": null,
            "layout": "IPY_MODEL_9d4b8a5d9d3c4949978b7c5372b9b590",
            "placeholder": "​",
            "style": "IPY_MODEL_109fcc69579644a397eb3cdbf2d4aa6f",
            "value": " 190/190 [00:00&lt;00:00, 15.2kB/s]"
          }
        },
        "f104e64962ec4eedb749a1fb2aca20bb": {
          "model_module": "@jupyter-widgets/base",
          "model_name": "LayoutModel",
          "model_module_version": "1.2.0",
          "state": {
            "_model_module": "@jupyter-widgets/base",
            "_model_module_version": "1.2.0",
            "_model_name": "LayoutModel",
            "_view_count": null,
            "_view_module": "@jupyter-widgets/base",
            "_view_module_version": "1.2.0",
            "_view_name": "LayoutView",
            "align_content": null,
            "align_items": null,
            "align_self": null,
            "border": null,
            "bottom": null,
            "display": null,
            "flex": null,
            "flex_flow": null,
            "grid_area": null,
            "grid_auto_columns": null,
            "grid_auto_flow": null,
            "grid_auto_rows": null,
            "grid_column": null,
            "grid_gap": null,
            "grid_row": null,
            "grid_template_areas": null,
            "grid_template_columns": null,
            "grid_template_rows": null,
            "height": null,
            "justify_content": null,
            "justify_items": null,
            "left": null,
            "margin": null,
            "max_height": null,
            "max_width": null,
            "min_height": null,
            "min_width": null,
            "object_fit": null,
            "object_position": null,
            "order": null,
            "overflow": null,
            "overflow_x": null,
            "overflow_y": null,
            "padding": null,
            "right": null,
            "top": null,
            "visibility": null,
            "width": null
          }
        },
        "56e83c8e8a13485893d6df0b1b8774b4": {
          "model_module": "@jupyter-widgets/base",
          "model_name": "LayoutModel",
          "model_module_version": "1.2.0",
          "state": {
            "_model_module": "@jupyter-widgets/base",
            "_model_module_version": "1.2.0",
            "_model_name": "LayoutModel",
            "_view_count": null,
            "_view_module": "@jupyter-widgets/base",
            "_view_module_version": "1.2.0",
            "_view_name": "LayoutView",
            "align_content": null,
            "align_items": null,
            "align_self": null,
            "border": null,
            "bottom": null,
            "display": null,
            "flex": null,
            "flex_flow": null,
            "grid_area": null,
            "grid_auto_columns": null,
            "grid_auto_flow": null,
            "grid_auto_rows": null,
            "grid_column": null,
            "grid_gap": null,
            "grid_row": null,
            "grid_template_areas": null,
            "grid_template_columns": null,
            "grid_template_rows": null,
            "height": null,
            "justify_content": null,
            "justify_items": null,
            "left": null,
            "margin": null,
            "max_height": null,
            "max_width": null,
            "min_height": null,
            "min_width": null,
            "object_fit": null,
            "object_position": null,
            "order": null,
            "overflow": null,
            "overflow_x": null,
            "overflow_y": null,
            "padding": null,
            "right": null,
            "top": null,
            "visibility": null,
            "width": null
          }
        },
        "fe690db040b447dfb538b92a6da4b07b": {
          "model_module": "@jupyter-widgets/controls",
          "model_name": "DescriptionStyleModel",
          "model_module_version": "1.5.0",
          "state": {
            "_model_module": "@jupyter-widgets/controls",
            "_model_module_version": "1.5.0",
            "_model_name": "DescriptionStyleModel",
            "_view_count": null,
            "_view_module": "@jupyter-widgets/base",
            "_view_module_version": "1.2.0",
            "_view_name": "StyleView",
            "description_width": ""
          }
        },
        "8ad471be8b644fcfb0f1702c9b69c867": {
          "model_module": "@jupyter-widgets/base",
          "model_name": "LayoutModel",
          "model_module_version": "1.2.0",
          "state": {
            "_model_module": "@jupyter-widgets/base",
            "_model_module_version": "1.2.0",
            "_model_name": "LayoutModel",
            "_view_count": null,
            "_view_module": "@jupyter-widgets/base",
            "_view_module_version": "1.2.0",
            "_view_name": "LayoutView",
            "align_content": null,
            "align_items": null,
            "align_self": null,
            "border": null,
            "bottom": null,
            "display": null,
            "flex": null,
            "flex_flow": null,
            "grid_area": null,
            "grid_auto_columns": null,
            "grid_auto_flow": null,
            "grid_auto_rows": null,
            "grid_column": null,
            "grid_gap": null,
            "grid_row": null,
            "grid_template_areas": null,
            "grid_template_columns": null,
            "grid_template_rows": null,
            "height": null,
            "justify_content": null,
            "justify_items": null,
            "left": null,
            "margin": null,
            "max_height": null,
            "max_width": null,
            "min_height": null,
            "min_width": null,
            "object_fit": null,
            "object_position": null,
            "order": null,
            "overflow": null,
            "overflow_x": null,
            "overflow_y": null,
            "padding": null,
            "right": null,
            "top": null,
            "visibility": null,
            "width": null
          }
        },
        "a004f781a1bc43fa90a1288d0f8418b7": {
          "model_module": "@jupyter-widgets/controls",
          "model_name": "ProgressStyleModel",
          "model_module_version": "1.5.0",
          "state": {
            "_model_module": "@jupyter-widgets/controls",
            "_model_module_version": "1.5.0",
            "_model_name": "ProgressStyleModel",
            "_view_count": null,
            "_view_module": "@jupyter-widgets/base",
            "_view_module_version": "1.2.0",
            "_view_name": "StyleView",
            "bar_color": null,
            "description_width": ""
          }
        },
        "9d4b8a5d9d3c4949978b7c5372b9b590": {
          "model_module": "@jupyter-widgets/base",
          "model_name": "LayoutModel",
          "model_module_version": "1.2.0",
          "state": {
            "_model_module": "@jupyter-widgets/base",
            "_model_module_version": "1.2.0",
            "_model_name": "LayoutModel",
            "_view_count": null,
            "_view_module": "@jupyter-widgets/base",
            "_view_module_version": "1.2.0",
            "_view_name": "LayoutView",
            "align_content": null,
            "align_items": null,
            "align_self": null,
            "border": null,
            "bottom": null,
            "display": null,
            "flex": null,
            "flex_flow": null,
            "grid_area": null,
            "grid_auto_columns": null,
            "grid_auto_flow": null,
            "grid_auto_rows": null,
            "grid_column": null,
            "grid_gap": null,
            "grid_row": null,
            "grid_template_areas": null,
            "grid_template_columns": null,
            "grid_template_rows": null,
            "height": null,
            "justify_content": null,
            "justify_items": null,
            "left": null,
            "margin": null,
            "max_height": null,
            "max_width": null,
            "min_height": null,
            "min_width": null,
            "object_fit": null,
            "object_position": null,
            "order": null,
            "overflow": null,
            "overflow_x": null,
            "overflow_y": null,
            "padding": null,
            "right": null,
            "top": null,
            "visibility": null,
            "width": null
          }
        },
        "109fcc69579644a397eb3cdbf2d4aa6f": {
          "model_module": "@jupyter-widgets/controls",
          "model_name": "DescriptionStyleModel",
          "model_module_version": "1.5.0",
          "state": {
            "_model_module": "@jupyter-widgets/controls",
            "_model_module_version": "1.5.0",
            "_model_name": "DescriptionStyleModel",
            "_view_count": null,
            "_view_module": "@jupyter-widgets/base",
            "_view_module_version": "1.2.0",
            "_view_name": "StyleView",
            "description_width": ""
          }
        }
      }
    }
  },
  "cells": [
    {
      "cell_type": "markdown",
      "metadata": {
        "id": "view-in-github",
        "colab_type": "text"
      },
      "source": [
        "<a href=\"https://colab.research.google.com/github/Maria-Evlakhova/ClinicalRecommendations/blob/main/%D0%9A%D0%BE%D0%BF%D0%B8%D1%8F_%D0%B1%D0%BB%D0%BE%D0%BA%D0%BD%D0%BE%D1%82%D0%B0_%22%D0%9A%D0%BB%D0%B8%D0%BD%D0%B8%D1%87%D0%B5%D1%81%D0%BA%D0%B8%D0%B5_%D1%80%D0%B5%D0%BA%D0%BE%D0%BC%D0%B5%D0%BD%D0%B4%D0%B0%D1%86%D0%B8%D0%B8_ipynb%22.ipynb\" target=\"_parent\"><img src=\"https://colab.research.google.com/assets/colab-badge.svg\" alt=\"Open In Colab\"/></a>"
      ]
    },
    {
      "cell_type": "markdown",
      "source": [
        "Инструменты:\n",
        "\n",
        "\n",
        "*   gigachain - основной инструмент построения пайплайнов с большими языковыми моделями;\n",
        "*   faiss-cpu - используем векторное хранилище FAISS для размещения чанков (фрагментов текстов для контекста)и эмбеддингов (векторных представлений) этих чанков;\n",
        "*   sentence-transformers - библиотека для локального использования эмбеддинговых моделей с ресурса Hugging Face;\n",
        "*   rank_bm25 - библиотека для работы с алгоритмами векторизации BM25 (вариации TF-IDF);\n",
        "*   gigachain-community unstructured[all-docs] - библиотека для распознавания всех типов документов.\n",
        "\n",
        "\n"
      ],
      "metadata": {
        "id": "783aSrNwypBZ"
      }
    },
    {
      "cell_type": "code",
      "execution_count": 1,
      "metadata": {
        "colab": {
          "base_uri": "https://localhost:8080/",
          "height": 1000
        },
        "id": "SZmJohR0fNq_",
        "outputId": "de25db5c-cf4b-42cf-ffc2-ca558fd644d5"
      },
      "outputs": [
        {
          "output_type": "stream",
          "name": "stdout",
          "text": [
            "Collecting gigachain\n",
            "  Downloading gigachain-0.2.16-py3-none-any.whl.metadata (7.1 kB)\n",
            "Collecting gigachain-community\n",
            "  Downloading gigachain_community-0.2.16.post3-py3-none-any.whl.metadata (2.7 kB)\n",
            "Collecting faiss-cpu\n",
            "  Downloading faiss_cpu-1.10.0-cp311-cp311-manylinux_2_28_x86_64.whl.metadata (4.4 kB)\n",
            "Requirement already satisfied: sentence-transformers in /usr/local/lib/python3.11/dist-packages (3.4.1)\n",
            "Collecting unstructured[all-docs]\n",
            "  Downloading unstructured-0.17.2-py3-none-any.whl.metadata (24 kB)\n",
            "Requirement already satisfied: PyYAML>=5.3 in /usr/local/lib/python3.11/dist-packages (from gigachain) (6.0.2)\n",
            "Requirement already satisfied: SQLAlchemy<3,>=1.4 in /usr/local/lib/python3.11/dist-packages (from gigachain) (2.0.40)\n",
            "Requirement already satisfied: aiohttp<4.0.0,>=3.8.3 in /usr/local/lib/python3.11/dist-packages (from gigachain) (3.11.14)\n",
            "Collecting gigachain-core<0.3.0,>=0.2.38 (from gigachain)\n",
            "  Downloading gigachain_core-0.2.38.post2-py3-none-any.whl.metadata (6.3 kB)\n",
            "Collecting gigachain-text-splitters<0.3.0,>=0.2.0 (from gigachain)\n",
            "  Downloading gigachain_text_splitters-0.2.4-py3-none-any.whl.metadata (2.3 kB)\n",
            "Collecting gigachat<0.2.0,>=0.1.35 (from gigachain)\n",
            "  Downloading gigachat-0.1.39.post1-py3-none-any.whl.metadata (14 kB)\n",
            "Collecting langsmith<0.2.0,>=0.1.17 (from gigachain)\n",
            "  Downloading langsmith-0.1.147-py3-none-any.whl.metadata (14 kB)\n",
            "Collecting numpy<2,>=1 (from gigachain)\n",
            "  Downloading numpy-1.26.4-cp311-cp311-manylinux_2_17_x86_64.manylinux2014_x86_64.whl.metadata (61 kB)\n",
            "\u001b[2K     \u001b[90m━━━━━━━━━━━━━━━━━━━━━━━━━━━━━━━━━━━━━━━━\u001b[0m \u001b[32m61.0/61.0 kB\u001b[0m \u001b[31m3.1 MB/s\u001b[0m eta \u001b[36m0:00:00\u001b[0m\n",
            "\u001b[?25hRequirement already satisfied: pydantic<3,>=1 in /usr/local/lib/python3.11/dist-packages (from gigachain) (2.11.0)\n",
            "Requirement already satisfied: requests<3,>=2 in /usr/local/lib/python3.11/dist-packages (from gigachain) (2.32.3)\n",
            "Collecting tenacity!=8.4.0,<9.0.0,>=8.1.0 (from gigachain)\n",
            "  Downloading tenacity-8.5.0-py3-none-any.whl.metadata (1.2 kB)\n",
            "Collecting dataclasses-json<0.7,>=0.5.7 (from gigachain-community)\n",
            "  Downloading dataclasses_json-0.6.7-py3-none-any.whl.metadata (25 kB)\n",
            "Requirement already satisfied: chardet in /usr/local/lib/python3.11/dist-packages (from unstructured[all-docs]) (5.2.0)\n",
            "Collecting filetype (from unstructured[all-docs])\n",
            "  Downloading filetype-1.2.0-py2.py3-none-any.whl.metadata (6.5 kB)\n",
            "Collecting python-magic (from unstructured[all-docs])\n",
            "  Downloading python_magic-0.4.27-py2.py3-none-any.whl.metadata (5.8 kB)\n",
            "Requirement already satisfied: lxml in /usr/local/lib/python3.11/dist-packages (from unstructured[all-docs]) (5.3.1)\n",
            "Requirement already satisfied: nltk in /usr/local/lib/python3.11/dist-packages (from unstructured[all-docs]) (3.9.1)\n",
            "Requirement already satisfied: beautifulsoup4 in /usr/local/lib/python3.11/dist-packages (from unstructured[all-docs]) (4.13.3)\n",
            "Collecting emoji (from unstructured[all-docs])\n",
            "  Downloading emoji-2.14.1-py3-none-any.whl.metadata (5.7 kB)\n",
            "Collecting python-iso639 (from unstructured[all-docs])\n",
            "  Downloading python_iso639-2025.2.18-py3-none-any.whl.metadata (14 kB)\n",
            "Collecting langdetect (from unstructured[all-docs])\n",
            "  Downloading langdetect-1.0.9.tar.gz (981 kB)\n",
            "\u001b[2K     \u001b[90m━━━━━━━━━━━━━━━━━━━━━━━━━━━━━━━━━━━━━━━━\u001b[0m \u001b[32m981.5/981.5 kB\u001b[0m \u001b[31m18.3 MB/s\u001b[0m eta \u001b[36m0:00:00\u001b[0m\n",
            "\u001b[?25h  Preparing metadata (setup.py) ... \u001b[?25l\u001b[?25hdone\n",
            "Collecting rapidfuzz (from unstructured[all-docs])\n",
            "  Downloading rapidfuzz-3.12.2-cp311-cp311-manylinux_2_17_x86_64.manylinux2014_x86_64.whl.metadata (12 kB)\n",
            "Collecting backoff (from unstructured[all-docs])\n",
            "  Downloading backoff-2.2.1-py3-none-any.whl.metadata (14 kB)\n",
            "Requirement already satisfied: typing-extensions in /usr/local/lib/python3.11/dist-packages (from unstructured[all-docs]) (4.13.0)\n",
            "Collecting unstructured-client (from unstructured[all-docs])\n",
            "  Downloading unstructured_client-0.32.0-py3-none-any.whl.metadata (22 kB)\n",
            "Requirement already satisfied: wrapt in /usr/local/lib/python3.11/dist-packages (from unstructured[all-docs]) (1.17.2)\n",
            "Requirement already satisfied: tqdm in /usr/local/lib/python3.11/dist-packages (from unstructured[all-docs]) (4.67.1)\n",
            "Requirement already satisfied: psutil in /usr/local/lib/python3.11/dist-packages (from unstructured[all-docs]) (5.9.5)\n",
            "Collecting python-oxmsg (from unstructured[all-docs])\n",
            "  Downloading python_oxmsg-0.0.2-py3-none-any.whl.metadata (5.0 kB)\n",
            "Requirement already satisfied: html5lib in /usr/local/lib/python3.11/dist-packages (from unstructured[all-docs]) (1.1)\n",
            "Collecting onnxruntime>=1.19.0 (from unstructured[all-docs])\n",
            "  Downloading onnxruntime-1.21.0-cp311-cp311-manylinux_2_27_x86_64.manylinux_2_28_x86_64.whl.metadata (4.5 kB)\n",
            "Collecting python-pptx>=1.0.1 (from unstructured[all-docs])\n",
            "  Downloading python_pptx-1.0.2-py3-none-any.whl.metadata (2.5 kB)\n",
            "Collecting effdet (from unstructured[all-docs])\n",
            "  Downloading effdet-0.4.1-py3-none-any.whl.metadata (33 kB)\n",
            "Collecting pypandoc (from unstructured[all-docs])\n",
            "  Downloading pypandoc-1.15-py3-none-any.whl.metadata (16 kB)\n",
            "Collecting pikepdf (from unstructured[all-docs])\n",
            "  Downloading pikepdf-9.5.2-cp311-cp311-manylinux_2_17_x86_64.manylinux2014_x86_64.whl.metadata (8.1 kB)\n",
            "Collecting google-cloud-vision (from unstructured[all-docs])\n",
            "  Downloading google_cloud_vision-3.10.1-py3-none-any.whl.metadata (9.5 kB)\n",
            "Collecting unstructured.pytesseract>=0.3.12 (from unstructured[all-docs])\n",
            "  Downloading unstructured.pytesseract-0.3.15-py3-none-any.whl.metadata (11 kB)\n",
            "Collecting pdfminer.six (from unstructured[all-docs])\n",
            "  Downloading pdfminer_six-20250327-py3-none-any.whl.metadata (4.1 kB)\n",
            "Collecting unstructured-inference>=0.8.10 (from unstructured[all-docs])\n",
            "  Downloading unstructured_inference-0.8.10-py3-none-any.whl.metadata (5.3 kB)\n",
            "Requirement already satisfied: xlrd in /usr/local/lib/python3.11/dist-packages (from unstructured[all-docs]) (2.0.1)\n",
            "Requirement already satisfied: networkx in /usr/local/lib/python3.11/dist-packages (from unstructured[all-docs]) (3.4.2)\n",
            "Requirement already satisfied: pandas in /usr/local/lib/python3.11/dist-packages (from unstructured[all-docs]) (2.2.2)\n",
            "Collecting pdf2image (from unstructured[all-docs])\n",
            "  Downloading pdf2image-1.17.0-py3-none-any.whl.metadata (6.2 kB)\n",
            "Requirement already satisfied: openpyxl in /usr/local/lib/python3.11/dist-packages (from unstructured[all-docs]) (3.1.5)\n",
            "Collecting python-docx>=1.1.2 (from unstructured[all-docs])\n",
            "  Downloading python_docx-1.1.2-py3-none-any.whl.metadata (2.0 kB)\n",
            "Collecting pypdf (from unstructured[all-docs])\n",
            "  Downloading pypdf-5.4.0-py3-none-any.whl.metadata (7.3 kB)\n",
            "Collecting onnx>=1.17.0 (from unstructured[all-docs])\n",
            "  Downloading onnx-1.17.0-cp311-cp311-manylinux_2_17_x86_64.manylinux2014_x86_64.whl.metadata (16 kB)\n",
            "Requirement already satisfied: markdown in /usr/local/lib/python3.11/dist-packages (from unstructured[all-docs]) (3.7)\n",
            "Collecting pi-heif (from unstructured[all-docs])\n",
            "  Downloading pi_heif-0.22.0-cp311-cp311-manylinux_2_17_x86_64.manylinux2014_x86_64.whl.metadata (6.5 kB)\n",
            "Requirement already satisfied: packaging in /usr/local/lib/python3.11/dist-packages (from faiss-cpu) (24.2)\n",
            "Requirement already satisfied: transformers<5.0.0,>=4.41.0 in /usr/local/lib/python3.11/dist-packages (from sentence-transformers) (4.50.2)\n",
            "Requirement already satisfied: torch>=1.11.0 in /usr/local/lib/python3.11/dist-packages (from sentence-transformers) (2.6.0+cu124)\n",
            "Requirement already satisfied: scikit-learn in /usr/local/lib/python3.11/dist-packages (from sentence-transformers) (1.6.1)\n",
            "Requirement already satisfied: scipy in /usr/local/lib/python3.11/dist-packages (from sentence-transformers) (1.14.1)\n",
            "Requirement already satisfied: huggingface-hub>=0.20.0 in /usr/local/lib/python3.11/dist-packages (from sentence-transformers) (0.29.3)\n",
            "Requirement already satisfied: Pillow in /usr/local/lib/python3.11/dist-packages (from sentence-transformers) (11.1.0)\n",
            "Requirement already satisfied: aiohappyeyeballs>=2.3.0 in /usr/local/lib/python3.11/dist-packages (from aiohttp<4.0.0,>=3.8.3->gigachain) (2.6.1)\n",
            "Requirement already satisfied: aiosignal>=1.1.2 in /usr/local/lib/python3.11/dist-packages (from aiohttp<4.0.0,>=3.8.3->gigachain) (1.3.2)\n",
            "Requirement already satisfied: attrs>=17.3.0 in /usr/local/lib/python3.11/dist-packages (from aiohttp<4.0.0,>=3.8.3->gigachain) (25.3.0)\n",
            "Requirement already satisfied: frozenlist>=1.1.1 in /usr/local/lib/python3.11/dist-packages (from aiohttp<4.0.0,>=3.8.3->gigachain) (1.5.0)\n",
            "Requirement already satisfied: multidict<7.0,>=4.5 in /usr/local/lib/python3.11/dist-packages (from aiohttp<4.0.0,>=3.8.3->gigachain) (6.2.0)\n",
            "Requirement already satisfied: propcache>=0.2.0 in /usr/local/lib/python3.11/dist-packages (from aiohttp<4.0.0,>=3.8.3->gigachain) (0.3.1)\n",
            "Requirement already satisfied: yarl<2.0,>=1.17.0 in /usr/local/lib/python3.11/dist-packages (from aiohttp<4.0.0,>=3.8.3->gigachain) (1.18.3)\n",
            "Collecting marshmallow<4.0.0,>=3.18.0 (from dataclasses-json<0.7,>=0.5.7->gigachain-community)\n",
            "  Downloading marshmallow-3.26.1-py3-none-any.whl.metadata (7.3 kB)\n",
            "Collecting typing-inspect<1,>=0.4.0 (from dataclasses-json<0.7,>=0.5.7->gigachain-community)\n",
            "  Downloading typing_inspect-0.9.0-py3-none-any.whl.metadata (1.5 kB)\n",
            "Requirement already satisfied: jsonpatch<2.0,>=1.33 in /usr/local/lib/python3.11/dist-packages (from gigachain-core<0.3.0,>=0.2.38->gigachain) (1.33)\n",
            "Collecting langfuse<3.0.0,>=2.41.0 (from gigachain-core<0.3.0,>=0.2.38->gigachain)\n",
            "  Downloading langfuse-2.60.2-py3-none-any.whl.metadata (3.2 kB)\n",
            "Requirement already satisfied: httpx<1 in /usr/local/lib/python3.11/dist-packages (from gigachat<0.2.0,>=0.1.35->gigachain) (0.28.1)\n",
            "Requirement already satisfied: filelock in /usr/local/lib/python3.11/dist-packages (from huggingface-hub>=0.20.0->sentence-transformers) (3.18.0)\n",
            "Requirement already satisfied: fsspec>=2023.5.0 in /usr/local/lib/python3.11/dist-packages (from huggingface-hub>=0.20.0->sentence-transformers) (2025.3.0)\n",
            "Requirement already satisfied: orjson<4.0.0,>=3.9.14 in /usr/local/lib/python3.11/dist-packages (from langsmith<0.2.0,>=0.1.17->gigachain) (3.10.16)\n",
            "Requirement already satisfied: requests-toolbelt<2.0.0,>=1.0.0 in /usr/local/lib/python3.11/dist-packages (from langsmith<0.2.0,>=0.1.17->gigachain) (1.0.0)\n",
            "Requirement already satisfied: protobuf>=3.20.2 in /usr/local/lib/python3.11/dist-packages (from onnx>=1.17.0->unstructured[all-docs]) (5.29.4)\n",
            "Collecting coloredlogs (from onnxruntime>=1.19.0->unstructured[all-docs])\n",
            "  Downloading coloredlogs-15.0.1-py2.py3-none-any.whl.metadata (12 kB)\n",
            "Requirement already satisfied: flatbuffers in /usr/local/lib/python3.11/dist-packages (from onnxruntime>=1.19.0->unstructured[all-docs]) (25.2.10)\n",
            "Requirement already satisfied: sympy in /usr/local/lib/python3.11/dist-packages (from onnxruntime>=1.19.0->unstructured[all-docs]) (1.13.1)\n",
            "Requirement already satisfied: annotated-types>=0.6.0 in /usr/local/lib/python3.11/dist-packages (from pydantic<3,>=1->gigachain) (0.7.0)\n",
            "Requirement already satisfied: pydantic-core==2.33.0 in /usr/local/lib/python3.11/dist-packages (from pydantic<3,>=1->gigachain) (2.33.0)\n",
            "Requirement already satisfied: typing-inspection>=0.4.0 in /usr/local/lib/python3.11/dist-packages (from pydantic<3,>=1->gigachain) (0.4.0)\n",
            "Collecting XlsxWriter>=0.5.7 (from python-pptx>=1.0.1->unstructured[all-docs])\n",
            "  Downloading XlsxWriter-3.2.2-py3-none-any.whl.metadata (2.8 kB)\n",
            "Requirement already satisfied: charset-normalizer<4,>=2 in /usr/local/lib/python3.11/dist-packages (from requests<3,>=2->gigachain) (3.4.1)\n",
            "Requirement already satisfied: idna<4,>=2.5 in /usr/local/lib/python3.11/dist-packages (from requests<3,>=2->gigachain) (3.10)\n",
            "Requirement already satisfied: urllib3<3,>=1.21.1 in /usr/local/lib/python3.11/dist-packages (from requests<3,>=2->gigachain) (2.3.0)\n",
            "Requirement already satisfied: certifi>=2017.4.17 in /usr/local/lib/python3.11/dist-packages (from requests<3,>=2->gigachain) (2025.1.31)\n",
            "Requirement already satisfied: greenlet>=1 in /usr/local/lib/python3.11/dist-packages (from SQLAlchemy<3,>=1.4->gigachain) (3.1.1)\n",
            "Requirement already satisfied: jinja2 in /usr/local/lib/python3.11/dist-packages (from torch>=1.11.0->sentence-transformers) (3.1.6)\n",
            "Collecting nvidia-cuda-nvrtc-cu12==12.4.127 (from torch>=1.11.0->sentence-transformers)\n",
            "  Downloading nvidia_cuda_nvrtc_cu12-12.4.127-py3-none-manylinux2014_x86_64.whl.metadata (1.5 kB)\n",
            "Collecting nvidia-cuda-runtime-cu12==12.4.127 (from torch>=1.11.0->sentence-transformers)\n",
            "  Downloading nvidia_cuda_runtime_cu12-12.4.127-py3-none-manylinux2014_x86_64.whl.metadata (1.5 kB)\n",
            "Collecting nvidia-cuda-cupti-cu12==12.4.127 (from torch>=1.11.0->sentence-transformers)\n",
            "  Downloading nvidia_cuda_cupti_cu12-12.4.127-py3-none-manylinux2014_x86_64.whl.metadata (1.6 kB)\n",
            "Collecting nvidia-cudnn-cu12==9.1.0.70 (from torch>=1.11.0->sentence-transformers)\n",
            "  Downloading nvidia_cudnn_cu12-9.1.0.70-py3-none-manylinux2014_x86_64.whl.metadata (1.6 kB)\n",
            "Collecting nvidia-cublas-cu12==12.4.5.8 (from torch>=1.11.0->sentence-transformers)\n",
            "  Downloading nvidia_cublas_cu12-12.4.5.8-py3-none-manylinux2014_x86_64.whl.metadata (1.5 kB)\n",
            "Collecting nvidia-cufft-cu12==11.2.1.3 (from torch>=1.11.0->sentence-transformers)\n",
            "  Downloading nvidia_cufft_cu12-11.2.1.3-py3-none-manylinux2014_x86_64.whl.metadata (1.5 kB)\n",
            "Collecting nvidia-curand-cu12==10.3.5.147 (from torch>=1.11.0->sentence-transformers)\n",
            "  Downloading nvidia_curand_cu12-10.3.5.147-py3-none-manylinux2014_x86_64.whl.metadata (1.5 kB)\n",
            "Collecting nvidia-cusolver-cu12==11.6.1.9 (from torch>=1.11.0->sentence-transformers)\n",
            "  Downloading nvidia_cusolver_cu12-11.6.1.9-py3-none-manylinux2014_x86_64.whl.metadata (1.6 kB)\n",
            "Collecting nvidia-cusparse-cu12==12.3.1.170 (from torch>=1.11.0->sentence-transformers)\n",
            "  Downloading nvidia_cusparse_cu12-12.3.1.170-py3-none-manylinux2014_x86_64.whl.metadata (1.6 kB)\n",
            "Requirement already satisfied: nvidia-cusparselt-cu12==0.6.2 in /usr/local/lib/python3.11/dist-packages (from torch>=1.11.0->sentence-transformers) (0.6.2)\n",
            "Requirement already satisfied: nvidia-nccl-cu12==2.21.5 in /usr/local/lib/python3.11/dist-packages (from torch>=1.11.0->sentence-transformers) (2.21.5)\n",
            "Requirement already satisfied: nvidia-nvtx-cu12==12.4.127 in /usr/local/lib/python3.11/dist-packages (from torch>=1.11.0->sentence-transformers) (12.4.127)\n",
            "Collecting nvidia-nvjitlink-cu12==12.4.127 (from torch>=1.11.0->sentence-transformers)\n",
            "  Downloading nvidia_nvjitlink_cu12-12.4.127-py3-none-manylinux2014_x86_64.whl.metadata (1.5 kB)\n",
            "Requirement already satisfied: triton==3.2.0 in /usr/local/lib/python3.11/dist-packages (from torch>=1.11.0->sentence-transformers) (3.2.0)\n",
            "Requirement already satisfied: mpmath<1.4,>=1.1.0 in /usr/local/lib/python3.11/dist-packages (from sympy->onnxruntime>=1.19.0->unstructured[all-docs]) (1.3.0)\n",
            "Requirement already satisfied: regex!=2019.12.17 in /usr/local/lib/python3.11/dist-packages (from transformers<5.0.0,>=4.41.0->sentence-transformers) (2024.11.6)\n",
            "Requirement already satisfied: tokenizers<0.22,>=0.21 in /usr/local/lib/python3.11/dist-packages (from transformers<5.0.0,>=4.41.0->sentence-transformers) (0.21.1)\n",
            "Requirement already satisfied: safetensors>=0.4.3 in /usr/local/lib/python3.11/dist-packages (from transformers<5.0.0,>=4.41.0->sentence-transformers) (0.5.3)\n",
            "Collecting python-multipart (from unstructured-inference>=0.8.10->unstructured[all-docs])\n",
            "  Downloading python_multipart-0.0.20-py3-none-any.whl.metadata (1.8 kB)\n",
            "Requirement already satisfied: opencv-python!=4.7.0.68 in /usr/local/lib/python3.11/dist-packages (from unstructured-inference>=0.8.10->unstructured[all-docs]) (4.11.0.86)\n",
            "Requirement already satisfied: matplotlib in /usr/local/lib/python3.11/dist-packages (from unstructured-inference>=0.8.10->unstructured[all-docs]) (3.10.0)\n",
            "Requirement already satisfied: timm in /usr/local/lib/python3.11/dist-packages (from unstructured-inference>=0.8.10->unstructured[all-docs]) (1.0.15)\n",
            "Collecting pypdfium2 (from unstructured-inference>=0.8.10->unstructured[all-docs])\n",
            "  Downloading pypdfium2-4.30.1-py3-none-manylinux_2_17_x86_64.manylinux2014_x86_64.whl.metadata (48 kB)\n",
            "\u001b[2K     \u001b[90m━━━━━━━━━━━━━━━━━━━━━━━━━━━━━━━━━━━━━━━━\u001b[0m \u001b[32m48.2/48.2 kB\u001b[0m \u001b[31m3.4 MB/s\u001b[0m eta \u001b[36m0:00:00\u001b[0m\n",
            "\u001b[?25hRequirement already satisfied: soupsieve>1.2 in /usr/local/lib/python3.11/dist-packages (from beautifulsoup4->unstructured[all-docs]) (2.6)\n",
            "Requirement already satisfied: torchvision in /usr/local/lib/python3.11/dist-packages (from effdet->unstructured[all-docs]) (0.21.0+cu124)\n",
            "Requirement already satisfied: pycocotools>=2.0.2 in /usr/local/lib/python3.11/dist-packages (from effdet->unstructured[all-docs]) (2.0.8)\n",
            "Collecting omegaconf>=2.0 (from effdet->unstructured[all-docs])\n",
            "  Downloading omegaconf-2.3.0-py3-none-any.whl.metadata (3.9 kB)\n",
            "Requirement already satisfied: google-api-core!=2.0.*,!=2.1.*,!=2.10.*,!=2.2.*,!=2.3.*,!=2.4.*,!=2.5.*,!=2.6.*,!=2.7.*,!=2.8.*,!=2.9.*,<3.0.0,>=1.34.1 in /usr/local/lib/python3.11/dist-packages (from google-api-core[grpc]!=2.0.*,!=2.1.*,!=2.10.*,!=2.2.*,!=2.3.*,!=2.4.*,!=2.5.*,!=2.6.*,!=2.7.*,!=2.8.*,!=2.9.*,<3.0.0,>=1.34.1->google-cloud-vision->unstructured[all-docs]) (2.24.2)\n",
            "Requirement already satisfied: google-auth!=2.24.0,!=2.25.0,<3.0.0,>=2.14.1 in /usr/local/lib/python3.11/dist-packages (from google-cloud-vision->unstructured[all-docs]) (2.38.0)\n",
            "Requirement already satisfied: proto-plus<2.0.0,>=1.22.3 in /usr/local/lib/python3.11/dist-packages (from google-cloud-vision->unstructured[all-docs]) (1.26.1)\n",
            "Requirement already satisfied: six>=1.9 in /usr/local/lib/python3.11/dist-packages (from html5lib->unstructured[all-docs]) (1.17.0)\n",
            "Requirement already satisfied: webencodings in /usr/local/lib/python3.11/dist-packages (from html5lib->unstructured[all-docs]) (0.5.1)\n",
            "Requirement already satisfied: click in /usr/local/lib/python3.11/dist-packages (from nltk->unstructured[all-docs]) (8.1.8)\n",
            "Requirement already satisfied: joblib in /usr/local/lib/python3.11/dist-packages (from nltk->unstructured[all-docs]) (1.4.2)\n",
            "Requirement already satisfied: et-xmlfile in /usr/local/lib/python3.11/dist-packages (from openpyxl->unstructured[all-docs]) (2.0.0)\n",
            "Requirement already satisfied: python-dateutil>=2.8.2 in /usr/local/lib/python3.11/dist-packages (from pandas->unstructured[all-docs]) (2.8.2)\n",
            "Requirement already satisfied: pytz>=2020.1 in /usr/local/lib/python3.11/dist-packages (from pandas->unstructured[all-docs]) (2025.2)\n",
            "Requirement already satisfied: tzdata>=2022.7 in /usr/local/lib/python3.11/dist-packages (from pandas->unstructured[all-docs]) (2025.2)\n",
            "Requirement already satisfied: cryptography>=36.0.0 in /usr/local/lib/python3.11/dist-packages (from pdfminer.six->unstructured[all-docs]) (43.0.3)\n",
            "Requirement already satisfied: Deprecated in /usr/local/lib/python3.11/dist-packages (from pikepdf->unstructured[all-docs]) (1.2.18)\n",
            "Collecting olefile (from python-oxmsg->unstructured[all-docs])\n",
            "  Downloading olefile-0.47-py2.py3-none-any.whl.metadata (9.7 kB)\n",
            "Requirement already satisfied: threadpoolctl>=3.1.0 in /usr/local/lib/python3.11/dist-packages (from scikit-learn->sentence-transformers) (3.6.0)\n",
            "Collecting aiofiles>=24.1.0 (from unstructured-client->unstructured[all-docs])\n",
            "  Downloading aiofiles-24.1.0-py3-none-any.whl.metadata (10 kB)\n",
            "Collecting eval-type-backport>=0.2.0 (from unstructured-client->unstructured[all-docs])\n",
            "  Downloading eval_type_backport-0.2.2-py3-none-any.whl.metadata (2.2 kB)\n",
            "Requirement already satisfied: nest-asyncio>=1.6.0 in /usr/local/lib/python3.11/dist-packages (from unstructured-client->unstructured[all-docs]) (1.6.0)\n",
            "Requirement already satisfied: cffi>=1.12 in /usr/local/lib/python3.11/dist-packages (from cryptography>=36.0.0->pdfminer.six->unstructured[all-docs]) (1.17.1)\n",
            "Requirement already satisfied: googleapis-common-protos<2.0.0,>=1.56.2 in /usr/local/lib/python3.11/dist-packages (from google-api-core!=2.0.*,!=2.1.*,!=2.10.*,!=2.2.*,!=2.3.*,!=2.4.*,!=2.5.*,!=2.6.*,!=2.7.*,!=2.8.*,!=2.9.*,<3.0.0,>=1.34.1->google-api-core[grpc]!=2.0.*,!=2.1.*,!=2.10.*,!=2.2.*,!=2.3.*,!=2.4.*,!=2.5.*,!=2.6.*,!=2.7.*,!=2.8.*,!=2.9.*,<3.0.0,>=1.34.1->google-cloud-vision->unstructured[all-docs]) (1.69.2)\n",
            "Requirement already satisfied: grpcio<2.0dev,>=1.33.2 in /usr/local/lib/python3.11/dist-packages (from google-api-core[grpc]!=2.0.*,!=2.1.*,!=2.10.*,!=2.2.*,!=2.3.*,!=2.4.*,!=2.5.*,!=2.6.*,!=2.7.*,!=2.8.*,!=2.9.*,<3.0.0,>=1.34.1->google-cloud-vision->unstructured[all-docs]) (1.71.0)\n",
            "Requirement already satisfied: grpcio-status<2.0.dev0,>=1.33.2 in /usr/local/lib/python3.11/dist-packages (from google-api-core[grpc]!=2.0.*,!=2.1.*,!=2.10.*,!=2.2.*,!=2.3.*,!=2.4.*,!=2.5.*,!=2.6.*,!=2.7.*,!=2.8.*,!=2.9.*,<3.0.0,>=1.34.1->google-cloud-vision->unstructured[all-docs]) (1.71.0)\n",
            "Requirement already satisfied: cachetools<6.0,>=2.0.0 in /usr/local/lib/python3.11/dist-packages (from google-auth!=2.24.0,!=2.25.0,<3.0.0,>=2.14.1->google-cloud-vision->unstructured[all-docs]) (5.5.2)\n",
            "Requirement already satisfied: pyasn1-modules>=0.2.1 in /usr/local/lib/python3.11/dist-packages (from google-auth!=2.24.0,!=2.25.0,<3.0.0,>=2.14.1->google-cloud-vision->unstructured[all-docs]) (0.4.2)\n",
            "Requirement already satisfied: rsa<5,>=3.1.4 in /usr/local/lib/python3.11/dist-packages (from google-auth!=2.24.0,!=2.25.0,<3.0.0,>=2.14.1->google-cloud-vision->unstructured[all-docs]) (4.9)\n",
            "Requirement already satisfied: anyio in /usr/local/lib/python3.11/dist-packages (from httpx<1->gigachat<0.2.0,>=0.1.35->gigachain) (4.9.0)\n",
            "Requirement already satisfied: httpcore==1.* in /usr/local/lib/python3.11/dist-packages (from httpx<1->gigachat<0.2.0,>=0.1.35->gigachain) (1.0.7)\n",
            "Requirement already satisfied: h11<0.15,>=0.13 in /usr/local/lib/python3.11/dist-packages (from httpcore==1.*->httpx<1->gigachat<0.2.0,>=0.1.35->gigachain) (0.14.0)\n",
            "Requirement already satisfied: jsonpointer>=1.9 in /usr/local/lib/python3.11/dist-packages (from jsonpatch<2.0,>=1.33->gigachain-core<0.3.0,>=0.2.38->gigachain) (3.0.0)\n",
            "Collecting antlr4-python3-runtime==4.9.* (from omegaconf>=2.0->effdet->unstructured[all-docs])\n",
            "  Downloading antlr4-python3-runtime-4.9.3.tar.gz (117 kB)\n",
            "\u001b[2K     \u001b[90m━━━━━━━━━━━━━━━━━━━━━━━━━━━━━━━━━━━━━━━━\u001b[0m \u001b[32m117.0/117.0 kB\u001b[0m \u001b[31m8.5 MB/s\u001b[0m eta \u001b[36m0:00:00\u001b[0m\n",
            "\u001b[?25h  Preparing metadata (setup.py) ... \u001b[?25l\u001b[?25hdone\n",
            "Requirement already satisfied: contourpy>=1.0.1 in /usr/local/lib/python3.11/dist-packages (from matplotlib->unstructured-inference>=0.8.10->unstructured[all-docs]) (1.3.1)\n",
            "Requirement already satisfied: cycler>=0.10 in /usr/local/lib/python3.11/dist-packages (from matplotlib->unstructured-inference>=0.8.10->unstructured[all-docs]) (0.12.1)\n",
            "Requirement already satisfied: fonttools>=4.22.0 in /usr/local/lib/python3.11/dist-packages (from matplotlib->unstructured-inference>=0.8.10->unstructured[all-docs]) (4.56.0)\n",
            "Requirement already satisfied: kiwisolver>=1.3.1 in /usr/local/lib/python3.11/dist-packages (from matplotlib->unstructured-inference>=0.8.10->unstructured[all-docs]) (1.4.8)\n",
            "Requirement already satisfied: pyparsing>=2.3.1 in /usr/local/lib/python3.11/dist-packages (from matplotlib->unstructured-inference>=0.8.10->unstructured[all-docs]) (3.2.3)\n",
            "Collecting mypy-extensions>=0.3.0 (from typing-inspect<1,>=0.4.0->dataclasses-json<0.7,>=0.5.7->gigachain-community)\n",
            "  Downloading mypy_extensions-1.0.0-py3-none-any.whl.metadata (1.1 kB)\n",
            "Collecting humanfriendly>=9.1 (from coloredlogs->onnxruntime>=1.19.0->unstructured[all-docs])\n",
            "  Downloading humanfriendly-10.0-py2.py3-none-any.whl.metadata (9.2 kB)\n",
            "Requirement already satisfied: MarkupSafe>=2.0 in /usr/local/lib/python3.11/dist-packages (from jinja2->torch>=1.11.0->sentence-transformers) (3.0.2)\n",
            "Requirement already satisfied: sniffio>=1.1 in /usr/local/lib/python3.11/dist-packages (from anyio->httpx<1->gigachat<0.2.0,>=0.1.35->gigachain) (1.3.1)\n",
            "Requirement already satisfied: pycparser in /usr/local/lib/python3.11/dist-packages (from cffi>=1.12->cryptography>=36.0.0->pdfminer.six->unstructured[all-docs]) (2.22)\n",
            "Requirement already satisfied: pyasn1<0.7.0,>=0.6.1 in /usr/local/lib/python3.11/dist-packages (from pyasn1-modules>=0.2.1->google-auth!=2.24.0,!=2.25.0,<3.0.0,>=2.14.1->google-cloud-vision->unstructured[all-docs]) (0.6.1)\n",
            "Downloading gigachain-0.2.16-py3-none-any.whl (1.0 MB)\n",
            "\u001b[2K   \u001b[90m━━━━━━━━━━━━━━━━━━━━━━━━━━━━━━━━━━━━━━━━\u001b[0m \u001b[32m1.0/1.0 MB\u001b[0m \u001b[31m50.7 MB/s\u001b[0m eta \u001b[36m0:00:00\u001b[0m\n",
            "\u001b[?25hDownloading gigachain_community-0.2.16.post3-py3-none-any.whl (2.4 MB)\n",
            "\u001b[2K   \u001b[90m━━━━━━━━━━━━━━━━━━━━━━━━━━━━━━━━━━━━━━━━\u001b[0m \u001b[32m2.4/2.4 MB\u001b[0m \u001b[31m71.4 MB/s\u001b[0m eta \u001b[36m0:00:00\u001b[0m\n",
            "\u001b[?25hDownloading faiss_cpu-1.10.0-cp311-cp311-manylinux_2_28_x86_64.whl (30.7 MB)\n",
            "\u001b[2K   \u001b[90m━━━━━━━━━━━━━━━━━━━━━━━━━━━━━━━━━━━━━━━━\u001b[0m \u001b[32m30.7/30.7 MB\u001b[0m \u001b[31m49.4 MB/s\u001b[0m eta \u001b[36m0:00:00\u001b[0m\n",
            "\u001b[?25hDownloading dataclasses_json-0.6.7-py3-none-any.whl (28 kB)\n",
            "Downloading gigachain_core-0.2.38.post2-py3-none-any.whl (403 kB)\n",
            "\u001b[2K   \u001b[90m━━━━━━━━━━━━━━━━━━━━━━━━━━━━━━━━━━━━━━━━\u001b[0m \u001b[32m403.7/403.7 kB\u001b[0m \u001b[31m25.4 MB/s\u001b[0m eta \u001b[36m0:00:00\u001b[0m\n",
            "\u001b[?25hDownloading gigachain_text_splitters-0.2.4-py3-none-any.whl (25 kB)\n",
            "Downloading gigachat-0.1.39.post1-py3-none-any.whl (67 kB)\n",
            "\u001b[2K   \u001b[90m━━━━━━━━━━━━━━━━━━━━━━━━━━━━━━━━━━━━━━━━\u001b[0m \u001b[32m67.3/67.3 kB\u001b[0m \u001b[31m5.0 MB/s\u001b[0m eta \u001b[36m0:00:00\u001b[0m\n",
            "\u001b[?25hDownloading langsmith-0.1.147-py3-none-any.whl (311 kB)\n",
            "\u001b[2K   \u001b[90m━━━━━━━━━━━━━━━━━━━━━━━━━━━━━━━━━━━━━━━━\u001b[0m \u001b[32m311.8/311.8 kB\u001b[0m \u001b[31m18.3 MB/s\u001b[0m eta \u001b[36m0:00:00\u001b[0m\n",
            "\u001b[?25hDownloading numpy-1.26.4-cp311-cp311-manylinux_2_17_x86_64.manylinux2014_x86_64.whl (18.3 MB)\n",
            "\u001b[2K   \u001b[90m━━━━━━━━━━━━━━━━━━━━━━━━━━━━━━━━━━━━━━━━\u001b[0m \u001b[32m18.3/18.3 MB\u001b[0m \u001b[31m81.6 MB/s\u001b[0m eta \u001b[36m0:00:00\u001b[0m\n",
            "\u001b[?25hDownloading onnx-1.17.0-cp311-cp311-manylinux_2_17_x86_64.manylinux2014_x86_64.whl (16.0 MB)\n",
            "\u001b[2K   \u001b[90m━━━━━━━━━━━━━━━━━━━━━━━━━━━━━━━━━━━━━━━━\u001b[0m \u001b[32m16.0/16.0 MB\u001b[0m \u001b[31m46.0 MB/s\u001b[0m eta \u001b[36m0:00:00\u001b[0m\n",
            "\u001b[?25hDownloading onnxruntime-1.21.0-cp311-cp311-manylinux_2_27_x86_64.manylinux_2_28_x86_64.whl (16.0 MB)\n",
            "\u001b[2K   \u001b[90m━━━━━━━━━━━━━━━━━━━━━━━━━━━━━━━━━━━━━━━━\u001b[0m \u001b[32m16.0/16.0 MB\u001b[0m \u001b[31m68.6 MB/s\u001b[0m eta \u001b[36m0:00:00\u001b[0m\n",
            "\u001b[?25hDownloading python_docx-1.1.2-py3-none-any.whl (244 kB)\n",
            "\u001b[2K   \u001b[90m━━━━━━━━━━━━━━━━━━━━━━━━━━━━━━━━━━━━━━━━\u001b[0m \u001b[32m244.3/244.3 kB\u001b[0m \u001b[31m15.5 MB/s\u001b[0m eta \u001b[36m0:00:00\u001b[0m\n",
            "\u001b[?25hDownloading python_pptx-1.0.2-py3-none-any.whl (472 kB)\n",
            "\u001b[2K   \u001b[90m━━━━━━━━━━━━━━━━━━━━━━━━━━━━━━━━━━━━━━━━\u001b[0m \u001b[32m472.8/472.8 kB\u001b[0m \u001b[31m26.1 MB/s\u001b[0m eta \u001b[36m0:00:00\u001b[0m\n",
            "\u001b[?25hDownloading tenacity-8.5.0-py3-none-any.whl (28 kB)\n",
            "Downloading nvidia_cublas_cu12-12.4.5.8-py3-none-manylinux2014_x86_64.whl (363.4 MB)\n",
            "\u001b[2K   \u001b[90m━━━━━━━━━━━━━━━━━━━━━━━━━━━━━━━━━━━━━━━━\u001b[0m \u001b[32m363.4/363.4 MB\u001b[0m \u001b[31m4.3 MB/s\u001b[0m eta \u001b[36m0:00:00\u001b[0m\n",
            "\u001b[?25hDownloading nvidia_cuda_cupti_cu12-12.4.127-py3-none-manylinux2014_x86_64.whl (13.8 MB)\n",
            "\u001b[2K   \u001b[90m━━━━━━━━━━━━━━━━━━━━━━━━━━━━━━━━━━━━━━━━\u001b[0m \u001b[32m13.8/13.8 MB\u001b[0m \u001b[31m69.1 MB/s\u001b[0m eta \u001b[36m0:00:00\u001b[0m\n",
            "\u001b[?25hDownloading nvidia_cuda_nvrtc_cu12-12.4.127-py3-none-manylinux2014_x86_64.whl (24.6 MB)\n",
            "\u001b[2K   \u001b[90m━━━━━━━━━━━━━━━━━━━━━━━━━━━━━━━━━━━━━━━━\u001b[0m \u001b[32m24.6/24.6 MB\u001b[0m \u001b[31m51.1 MB/s\u001b[0m eta \u001b[36m0:00:00\u001b[0m\n",
            "\u001b[?25hDownloading nvidia_cuda_runtime_cu12-12.4.127-py3-none-manylinux2014_x86_64.whl (883 kB)\n",
            "\u001b[2K   \u001b[90m━━━━━━━━━━━━━━━━━━━━━━━━━━━━━━━━━━━━━━━━\u001b[0m \u001b[32m883.7/883.7 kB\u001b[0m \u001b[31m34.5 MB/s\u001b[0m eta \u001b[36m0:00:00\u001b[0m\n",
            "\u001b[?25hDownloading nvidia_cudnn_cu12-9.1.0.70-py3-none-manylinux2014_x86_64.whl (664.8 MB)\n",
            "\u001b[2K   \u001b[90m━━━━━━━━━━━━━━━━━━━━━━━━━━━━━━━━━━━━━━━━\u001b[0m \u001b[32m664.8/664.8 MB\u001b[0m \u001b[31m1.3 MB/s\u001b[0m eta \u001b[36m0:00:00\u001b[0m\n",
            "\u001b[?25hDownloading nvidia_cufft_cu12-11.2.1.3-py3-none-manylinux2014_x86_64.whl (211.5 MB)\n",
            "\u001b[2K   \u001b[90m━━━━━━━━━━━━━━━━━━━━━━━━━━━━━━━━━━━━━━━━\u001b[0m \u001b[32m211.5/211.5 MB\u001b[0m \u001b[31m5.9 MB/s\u001b[0m eta \u001b[36m0:00:00\u001b[0m\n",
            "\u001b[?25hDownloading nvidia_curand_cu12-10.3.5.147-py3-none-manylinux2014_x86_64.whl (56.3 MB)\n",
            "\u001b[2K   \u001b[90m━━━━━━━━━━━━━━━━━━━━━━━━━━━━━━━━━━━━━━━━\u001b[0m \u001b[32m56.3/56.3 MB\u001b[0m \u001b[31m12.0 MB/s\u001b[0m eta \u001b[36m0:00:00\u001b[0m\n",
            "\u001b[?25hDownloading nvidia_cusolver_cu12-11.6.1.9-py3-none-manylinux2014_x86_64.whl (127.9 MB)\n",
            "\u001b[2K   \u001b[90m━━━━━━━━━━━━━━━━━━━━━━━━━━━━━━━━━━━━━━━━\u001b[0m \u001b[32m127.9/127.9 MB\u001b[0m \u001b[31m7.3 MB/s\u001b[0m eta \u001b[36m0:00:00\u001b[0m\n",
            "\u001b[?25hDownloading nvidia_cusparse_cu12-12.3.1.170-py3-none-manylinux2014_x86_64.whl (207.5 MB)\n",
            "\u001b[2K   \u001b[90m━━━━━━━━━━━━━━━━━━━━━━━━━━━━━━━━━━━━━━━━\u001b[0m \u001b[32m207.5/207.5 MB\u001b[0m \u001b[31m5.8 MB/s\u001b[0m eta \u001b[36m0:00:00\u001b[0m\n",
            "\u001b[?25hDownloading nvidia_nvjitlink_cu12-12.4.127-py3-none-manylinux2014_x86_64.whl (21.1 MB)\n",
            "\u001b[2K   \u001b[90m━━━━━━━━━━━━━━━━━━━━━━━━━━━━━━━━━━━━━━━━\u001b[0m \u001b[32m21.1/21.1 MB\u001b[0m \u001b[31m53.2 MB/s\u001b[0m eta \u001b[36m0:00:00\u001b[0m\n",
            "\u001b[?25hDownloading unstructured_inference-0.8.10-py3-none-any.whl (48 kB)\n",
            "\u001b[2K   \u001b[90m━━━━━━━━━━━━━━━━━━━━━━━━━━━━━━━━━━━━━━━━\u001b[0m \u001b[32m48.9/48.9 kB\u001b[0m \u001b[31m3.2 MB/s\u001b[0m eta \u001b[36m0:00:00\u001b[0m\n",
            "\u001b[?25hDownloading unstructured.pytesseract-0.3.15-py3-none-any.whl (14 kB)\n",
            "Downloading backoff-2.2.1-py3-none-any.whl (15 kB)\n",
            "Downloading effdet-0.4.1-py3-none-any.whl (112 kB)\n",
            "\u001b[2K   \u001b[90m━━━━━━━━━━━━━━━━━━━━━━━━━━━━━━━━━━━━━━━━\u001b[0m \u001b[32m112.5/112.5 kB\u001b[0m \u001b[31m8.2 MB/s\u001b[0m eta \u001b[36m0:00:00\u001b[0m\n",
            "\u001b[?25hDownloading emoji-2.14.1-py3-none-any.whl (590 kB)\n",
            "\u001b[2K   \u001b[90m━━━━━━━━━━━━━━━━━━━━━━━━━━━━━━━━━━━━━━━━\u001b[0m \u001b[32m590.6/590.6 kB\u001b[0m \u001b[31m28.9 MB/s\u001b[0m eta \u001b[36m0:00:00\u001b[0m\n",
            "\u001b[?25hDownloading filetype-1.2.0-py2.py3-none-any.whl (19 kB)\n",
            "Downloading google_cloud_vision-3.10.1-py3-none-any.whl (526 kB)\n",
            "\u001b[2K   \u001b[90m━━━━━━━━━━━━━━━━━━━━━━━━━━━━━━━━━━━━━━━━\u001b[0m \u001b[32m526.1/526.1 kB\u001b[0m \u001b[31m25.6 MB/s\u001b[0m eta \u001b[36m0:00:00\u001b[0m\n",
            "\u001b[?25hDownloading pdf2image-1.17.0-py3-none-any.whl (11 kB)\n",
            "Downloading pdfminer_six-20250327-py3-none-any.whl (5.6 MB)\n",
            "\u001b[2K   \u001b[90m━━━━━━━━━━━━━━━━━━━━━━━━━━━━━━━━━━━━━━━━\u001b[0m \u001b[32m5.6/5.6 MB\u001b[0m \u001b[31m64.1 MB/s\u001b[0m eta \u001b[36m0:00:00\u001b[0m\n",
            "\u001b[?25hDownloading pi_heif-0.22.0-cp311-cp311-manylinux_2_17_x86_64.manylinux2014_x86_64.whl (1.2 MB)\n",
            "\u001b[2K   \u001b[90m━━━━━━━━━━━━━━━━━━━━━━━━━━━━━━━━━━━━━━━━\u001b[0m \u001b[32m1.2/1.2 MB\u001b[0m \u001b[31m43.7 MB/s\u001b[0m eta \u001b[36m0:00:00\u001b[0m\n",
            "\u001b[?25hDownloading pikepdf-9.5.2-cp311-cp311-manylinux_2_17_x86_64.manylinux2014_x86_64.whl (2.4 MB)\n",
            "\u001b[2K   \u001b[90m━━━━━━━━━━━━━━━━━━━━━━━━━━━━━━━━━━━━━━━━\u001b[0m \u001b[32m2.4/2.4 MB\u001b[0m \u001b[31m52.1 MB/s\u001b[0m eta \u001b[36m0:00:00\u001b[0m\n",
            "\u001b[?25hDownloading pypandoc-1.15-py3-none-any.whl (21 kB)\n",
            "Downloading pypdf-5.4.0-py3-none-any.whl (302 kB)\n",
            "\u001b[2K   \u001b[90m━━━━━━━━━━━━━━━━━━━━━━━━━━━━━━━━━━━━━━━━\u001b[0m \u001b[32m302.3/302.3 kB\u001b[0m \u001b[31m21.5 MB/s\u001b[0m eta \u001b[36m0:00:00\u001b[0m\n",
            "\u001b[?25hDownloading python_iso639-2025.2.18-py3-none-any.whl (167 kB)\n",
            "\u001b[2K   \u001b[90m━━━━━━━━━━━━━━━━━━━━━━━━━━━━━━━━━━━━━━━━\u001b[0m \u001b[32m167.6/167.6 kB\u001b[0m \u001b[31m12.9 MB/s\u001b[0m eta \u001b[36m0:00:00\u001b[0m\n",
            "\u001b[?25hDownloading python_magic-0.4.27-py2.py3-none-any.whl (13 kB)\n",
            "Downloading python_oxmsg-0.0.2-py3-none-any.whl (31 kB)\n",
            "Downloading rapidfuzz-3.12.2-cp311-cp311-manylinux_2_17_x86_64.manylinux2014_x86_64.whl (3.1 MB)\n",
            "\u001b[2K   \u001b[90m━━━━━━━━━━━━━━━━━━━━━━━━━━━━━━━━━━━━━━━━\u001b[0m \u001b[32m3.1/3.1 MB\u001b[0m \u001b[31m75.4 MB/s\u001b[0m eta \u001b[36m0:00:00\u001b[0m\n",
            "\u001b[?25hDownloading unstructured-0.17.2-py3-none-any.whl (1.8 MB)\n",
            "\u001b[2K   \u001b[90m━━━━━━━━━━━━━━━━━━━━━━━━━━━━━━━━━━━━━━━━\u001b[0m \u001b[32m1.8/1.8 MB\u001b[0m \u001b[31m69.2 MB/s\u001b[0m eta \u001b[36m0:00:00\u001b[0m\n",
            "\u001b[?25hDownloading unstructured_client-0.32.0-py3-none-any.whl (178 kB)\n",
            "\u001b[2K   \u001b[90m━━━━━━━━━━━━━━━━━━━━━━━━━━━━━━━━━━━━━━━━\u001b[0m \u001b[32m178.2/178.2 kB\u001b[0m \u001b[31m12.9 MB/s\u001b[0m eta \u001b[36m0:00:00\u001b[0m\n",
            "\u001b[?25hDownloading aiofiles-24.1.0-py3-none-any.whl (15 kB)\n",
            "Downloading eval_type_backport-0.2.2-py3-none-any.whl (5.8 kB)\n",
            "Downloading langfuse-2.60.2-py3-none-any.whl (274 kB)\n",
            "\u001b[2K   \u001b[90m━━━━━━━━━━━━━━━━━━━━━━━━━━━━━━━━━━━━━━━━\u001b[0m \u001b[32m275.0/275.0 kB\u001b[0m \u001b[31m18.5 MB/s\u001b[0m eta \u001b[36m0:00:00\u001b[0m\n",
            "\u001b[?25hDownloading marshmallow-3.26.1-py3-none-any.whl (50 kB)\n",
            "\u001b[2K   \u001b[90m━━━━━━━━━━━━━━━━━━━━━━━━━━━━━━━━━━━━━━━━\u001b[0m \u001b[32m50.9/50.9 kB\u001b[0m \u001b[31m4.1 MB/s\u001b[0m eta \u001b[36m0:00:00\u001b[0m\n",
            "\u001b[?25hDownloading omegaconf-2.3.0-py3-none-any.whl (79 kB)\n",
            "\u001b[2K   \u001b[90m━━━━━━━━━━━━━━━━━━━━━━━━━━━━━━━━━━━━━━━━\u001b[0m \u001b[32m79.5/79.5 kB\u001b[0m \u001b[31m6.2 MB/s\u001b[0m eta \u001b[36m0:00:00\u001b[0m\n",
            "\u001b[?25hDownloading typing_inspect-0.9.0-py3-none-any.whl (8.8 kB)\n",
            "Downloading XlsxWriter-3.2.2-py3-none-any.whl (165 kB)\n",
            "\u001b[2K   \u001b[90m━━━━━━━━━━━━━━━━━━━━━━━━━━━━━━━━━━━━━━━━\u001b[0m \u001b[32m165.1/165.1 kB\u001b[0m \u001b[31m12.1 MB/s\u001b[0m eta \u001b[36m0:00:00\u001b[0m\n",
            "\u001b[?25hDownloading coloredlogs-15.0.1-py2.py3-none-any.whl (46 kB)\n",
            "\u001b[2K   \u001b[90m━━━━━━━━━━━━━━━━━━━━━━━━━━━━━━━━━━━━━━━━\u001b[0m \u001b[32m46.0/46.0 kB\u001b[0m \u001b[31m3.1 MB/s\u001b[0m eta \u001b[36m0:00:00\u001b[0m\n",
            "\u001b[?25hDownloading olefile-0.47-py2.py3-none-any.whl (114 kB)\n",
            "\u001b[2K   \u001b[90m━━━━━━━━━━━━━━━━━━━━━━━━━━━━━━━━━━━━━━━━\u001b[0m \u001b[32m114.6/114.6 kB\u001b[0m \u001b[31m9.0 MB/s\u001b[0m eta \u001b[36m0:00:00\u001b[0m\n",
            "\u001b[?25hDownloading pypdfium2-4.30.1-py3-none-manylinux_2_17_x86_64.manylinux2014_x86_64.whl (2.9 MB)\n",
            "\u001b[2K   \u001b[90m━━━━━━━━━━━━━━━━━━━━━━━━━━━━━━━━━━━━━━━━\u001b[0m \u001b[32m2.9/2.9 MB\u001b[0m \u001b[31m78.8 MB/s\u001b[0m eta \u001b[36m0:00:00\u001b[0m\n",
            "\u001b[?25hDownloading python_multipart-0.0.20-py3-none-any.whl (24 kB)\n",
            "Downloading humanfriendly-10.0-py2.py3-none-any.whl (86 kB)\n",
            "\u001b[2K   \u001b[90m━━━━━━━━━━━━━━━━━━━━━━━━━━━━━━━━━━━━━━━━\u001b[0m \u001b[32m86.8/86.8 kB\u001b[0m \u001b[31m6.9 MB/s\u001b[0m eta \u001b[36m0:00:00\u001b[0m\n",
            "\u001b[?25hDownloading mypy_extensions-1.0.0-py3-none-any.whl (4.7 kB)\n",
            "Building wheels for collected packages: langdetect, antlr4-python3-runtime\n",
            "  Building wheel for langdetect (setup.py) ... \u001b[?25l\u001b[?25hdone\n",
            "  Created wheel for langdetect: filename=langdetect-1.0.9-py3-none-any.whl size=993223 sha256=ec63857834627236f3f98a0fc3c9b381d244be9dc6334bd406864ce9e0aa86fc\n",
            "  Stored in directory: /root/.cache/pip/wheels/0a/f2/b2/e5ca405801e05eb7c8ed5b3b4bcf1fcabcd6272c167640072e\n",
            "  Building wheel for antlr4-python3-runtime (setup.py) ... \u001b[?25l\u001b[?25hdone\n",
            "  Created wheel for antlr4-python3-runtime: filename=antlr4_python3_runtime-4.9.3-py3-none-any.whl size=144554 sha256=6850975d61e7f374c1e1f46e7ca05abb7178e75f68623d7248a869db4bb3306e\n",
            "  Stored in directory: /root/.cache/pip/wheels/1a/97/32/461f837398029ad76911109f07047fde1d7b661a147c7c56d1\n",
            "Successfully built langdetect antlr4-python3-runtime\n",
            "Installing collected packages: filetype, antlr4-python3-runtime, XlsxWriter, unstructured.pytesseract, tenacity, rapidfuzz, python-multipart, python-magic, python-iso639, python-docx, pypdfium2, pypdf, pypandoc, pi-heif, pdf2image, omegaconf, olefile, nvidia-nvjitlink-cu12, nvidia-curand-cu12, nvidia-cufft-cu12, nvidia-cuda-runtime-cu12, nvidia-cuda-nvrtc-cu12, nvidia-cuda-cupti-cu12, nvidia-cublas-cu12, numpy, mypy-extensions, marshmallow, langdetect, humanfriendly, eval-type-backport, emoji, backoff, aiofiles, typing-inspect, python-pptx, python-oxmsg, pikepdf, onnx, nvidia-cusparse-cu12, nvidia-cudnn-cu12, faiss-cpu, coloredlogs, unstructured-client, pdfminer.six, onnxruntime, nvidia-cusolver-cu12, langsmith, langfuse, gigachat, dataclasses-json, unstructured, gigachain-core, google-cloud-vision, gigachain-text-splitters, gigachain, unstructured-inference, gigachain-community, effdet\n",
            "  Attempting uninstall: tenacity\n",
            "    Found existing installation: tenacity 9.0.0\n",
            "    Uninstalling tenacity-9.0.0:\n",
            "      Successfully uninstalled tenacity-9.0.0\n",
            "  Attempting uninstall: nvidia-nvjitlink-cu12\n",
            "    Found existing installation: nvidia-nvjitlink-cu12 12.5.82\n",
            "    Uninstalling nvidia-nvjitlink-cu12-12.5.82:\n",
            "      Successfully uninstalled nvidia-nvjitlink-cu12-12.5.82\n",
            "  Attempting uninstall: nvidia-curand-cu12\n",
            "    Found existing installation: nvidia-curand-cu12 10.3.6.82\n",
            "    Uninstalling nvidia-curand-cu12-10.3.6.82:\n",
            "      Successfully uninstalled nvidia-curand-cu12-10.3.6.82\n",
            "  Attempting uninstall: nvidia-cufft-cu12\n",
            "    Found existing installation: nvidia-cufft-cu12 11.2.3.61\n",
            "    Uninstalling nvidia-cufft-cu12-11.2.3.61:\n",
            "      Successfully uninstalled nvidia-cufft-cu12-11.2.3.61\n",
            "  Attempting uninstall: nvidia-cuda-runtime-cu12\n",
            "    Found existing installation: nvidia-cuda-runtime-cu12 12.5.82\n",
            "    Uninstalling nvidia-cuda-runtime-cu12-12.5.82:\n",
            "      Successfully uninstalled nvidia-cuda-runtime-cu12-12.5.82\n",
            "  Attempting uninstall: nvidia-cuda-nvrtc-cu12\n",
            "    Found existing installation: nvidia-cuda-nvrtc-cu12 12.5.82\n",
            "    Uninstalling nvidia-cuda-nvrtc-cu12-12.5.82:\n",
            "      Successfully uninstalled nvidia-cuda-nvrtc-cu12-12.5.82\n",
            "  Attempting uninstall: nvidia-cuda-cupti-cu12\n",
            "    Found existing installation: nvidia-cuda-cupti-cu12 12.5.82\n",
            "    Uninstalling nvidia-cuda-cupti-cu12-12.5.82:\n",
            "      Successfully uninstalled nvidia-cuda-cupti-cu12-12.5.82\n",
            "  Attempting uninstall: nvidia-cublas-cu12\n",
            "    Found existing installation: nvidia-cublas-cu12 12.5.3.2\n",
            "    Uninstalling nvidia-cublas-cu12-12.5.3.2:\n",
            "      Successfully uninstalled nvidia-cublas-cu12-12.5.3.2\n",
            "  Attempting uninstall: numpy\n",
            "    Found existing installation: numpy 2.0.2\n",
            "    Uninstalling numpy-2.0.2:\n",
            "      Successfully uninstalled numpy-2.0.2\n",
            "  Attempting uninstall: nvidia-cusparse-cu12\n",
            "    Found existing installation: nvidia-cusparse-cu12 12.5.1.3\n",
            "    Uninstalling nvidia-cusparse-cu12-12.5.1.3:\n",
            "      Successfully uninstalled nvidia-cusparse-cu12-12.5.1.3\n",
            "  Attempting uninstall: nvidia-cudnn-cu12\n",
            "    Found existing installation: nvidia-cudnn-cu12 9.3.0.75\n",
            "    Uninstalling nvidia-cudnn-cu12-9.3.0.75:\n",
            "      Successfully uninstalled nvidia-cudnn-cu12-9.3.0.75\n",
            "  Attempting uninstall: nvidia-cusolver-cu12\n",
            "    Found existing installation: nvidia-cusolver-cu12 11.6.3.83\n",
            "    Uninstalling nvidia-cusolver-cu12-11.6.3.83:\n",
            "      Successfully uninstalled nvidia-cusolver-cu12-11.6.3.83\n",
            "  Attempting uninstall: langsmith\n",
            "    Found existing installation: langsmith 0.3.19\n",
            "    Uninstalling langsmith-0.3.19:\n",
            "      Successfully uninstalled langsmith-0.3.19\n",
            "Successfully installed XlsxWriter-3.2.2 aiofiles-24.1.0 antlr4-python3-runtime-4.9.3 backoff-2.2.1 coloredlogs-15.0.1 dataclasses-json-0.6.7 effdet-0.4.1 emoji-2.14.1 eval-type-backport-0.2.2 faiss-cpu-1.10.0 filetype-1.2.0 gigachain-0.2.16 gigachain-community-0.2.16.post3 gigachain-core-0.2.38.post2 gigachain-text-splitters-0.2.4 gigachat-0.1.39.post1 google-cloud-vision-3.10.1 humanfriendly-10.0 langdetect-1.0.9 langfuse-2.60.2 langsmith-0.1.147 marshmallow-3.26.1 mypy-extensions-1.0.0 numpy-1.26.4 nvidia-cublas-cu12-12.4.5.8 nvidia-cuda-cupti-cu12-12.4.127 nvidia-cuda-nvrtc-cu12-12.4.127 nvidia-cuda-runtime-cu12-12.4.127 nvidia-cudnn-cu12-9.1.0.70 nvidia-cufft-cu12-11.2.1.3 nvidia-curand-cu12-10.3.5.147 nvidia-cusolver-cu12-11.6.1.9 nvidia-cusparse-cu12-12.3.1.170 nvidia-nvjitlink-cu12-12.4.127 olefile-0.47 omegaconf-2.3.0 onnx-1.17.0 onnxruntime-1.21.0 pdf2image-1.17.0 pdfminer.six-20250327 pi-heif-0.22.0 pikepdf-9.5.2 pypandoc-1.15 pypdf-5.4.0 pypdfium2-4.30.1 python-docx-1.1.2 python-iso639-2025.2.18 python-magic-0.4.27 python-multipart-0.0.20 python-oxmsg-0.0.2 python-pptx-1.0.2 rapidfuzz-3.12.2 tenacity-8.5.0 typing-inspect-0.9.0 unstructured-0.17.2 unstructured-client-0.32.0 unstructured-inference-0.8.10 unstructured.pytesseract-0.3.15\n"
          ]
        },
        {
          "output_type": "display_data",
          "data": {
            "application/vnd.colab-display-data+json": {
              "pip_warning": {
                "packages": [
                  "google",
                  "pydevd_plugins"
                ]
              },
              "id": "96c6560f0e1b4c938180fe3674750829"
            }
          },
          "metadata": {}
        }
      ],
      "source": [
        "!pip install gigachain gigachain-community unstructured[all-docs] faiss-cpu sentence-transformers"
      ]
    },
    {
      "cell_type": "markdown",
      "source": [
        "## Создание фрагментов на основе PDF\n",
        "Для подготовки фрагментов используется RecursiveCharacterTextSplitter. Также задается приблизительный размер фрагмента (chunk_size) и количество символов перекрытия (chunk_overlap). Сплиттер можно передать в метод load_and_split(). На выходе получаем список документов Document."
      ],
      "metadata": {
        "id": "5pQN9BddxY2t"
      }
    },
    {
      "cell_type": "code",
      "source": [
        "from langchain_community.document_loaders import UnstructuredPDFLoader\n",
        "from langchain.text_splitter import RecursiveCharacterTextSplitter\n",
        "\n",
        "text_splitter = RecursiveCharacterTextSplitter(chunk_size=1000,\n",
        "                                              chunk_overlap=500)\n",
        "pdf_file = 'КР359_3.pdf'\n",
        "loader = UnstructuredPDFLoader(pdf_file)\n",
        "splitted_data = loader.load_and_split(text_splitter)"
      ],
      "metadata": {
        "id": "Mk0r0fGtfWqZ"
      },
      "execution_count": 1,
      "outputs": []
    },
    {
      "cell_type": "markdown",
      "source": [
        "Смотрим количество фрагментов"
      ],
      "metadata": {
        "id": "UW8kSkGwx2mQ"
      }
    },
    {
      "cell_type": "code",
      "source": [
        "len(splitted_data)"
      ],
      "metadata": {
        "colab": {
          "base_uri": "https://localhost:8080/"
        },
        "id": "FqErMuOagRX8",
        "outputId": "7dafe995-feb2-48a8-94c4-c979b4a73a50"
      },
      "execution_count": 2,
      "outputs": [
        {
          "output_type": "execute_result",
          "data": {
            "text/plain": [
              "822"
            ]
          },
          "metadata": {},
          "execution_count": 2
        }
      ]
    },
    {
      "cell_type": "markdown",
      "source": [
        "Выведем на экран два соседних фрагмента, чтобы показать перекрытие."
      ],
      "metadata": {
        "id": "oZUBHsAKyAN-"
      }
    },
    {
      "cell_type": "code",
      "source": [
        "splitted_data[10]"
      ],
      "metadata": {
        "colab": {
          "base_uri": "https://localhost:8080/"
        },
        "id": "N2aRHSLlgTUl",
        "outputId": "b3b11bb4-8e73-4999-82b9-4b1db589effe"
      },
      "execution_count": 3,
      "outputs": [
        {
          "output_type": "execute_result",
          "data": {
            "text/plain": [
              "Document(metadata={'source': 'КР359_3.pdf'}, page_content='основанных на использовании природных лечебных факторов.............................................. 85\\n\\n5. Профилактика\\n\\nи\\n\\nдиспансерное\\n\\nнаблюдение, медицинские\\n\\nпоказания\\n\\nпротивопоказания к применению методов профилактики........................................................86\\n\\n6. Организация оказания медицинской помощи..........................................................................90\\n\\n7. Дополнительная информация (в том числе факторы, влияющие на исход заболевания\\n\\nили состояния)................................................................................................................................... 93\\n\\n8. Критерии оценки качества медицинской помощи..................................................................96\\n\\nСписок литературы...........................................................................................................................99\\n\\nПриложение А1. Состав рабочей группы по разработке и пересмотру клинических')"
            ]
          },
          "metadata": {},
          "execution_count": 3
        }
      ]
    },
    {
      "cell_type": "code",
      "source": [
        "splitted_data[11]"
      ],
      "metadata": {
        "id": "VJGcS-gtyDZQ",
        "colab": {
          "base_uri": "https://localhost:8080/"
        },
        "outputId": "22eaadf3-4bed-4905-ad8b-1345005684e1"
      },
      "execution_count": 4,
      "outputs": [
        {
          "output_type": "execute_result",
          "data": {
            "text/plain": [
              "Document(metadata={'source': 'КР359_3.pdf'}, page_content='или состояния)................................................................................................................................... 93\\n\\n8. Критерии оценки качества медицинской помощи..................................................................96\\n\\nСписок литературы...........................................................................................................................99\\n\\nПриложение А1. Состав рабочей группы по разработке и пересмотру клинических\\n\\nрекомендаций...................................................................................................................................146\\n\\nПриложение А2. Методология разработки клинических рекомендаций..............................151\\n\\nПриложение АЗ. Справочные материалы, включая соответствие показаний к применению\\n\\nи противопоказаний, способов применения и доз лекарственных препаратов, инструкции')"
            ]
          },
          "metadata": {},
          "execution_count": 4
        }
      ]
    },
    {
      "cell_type": "markdown",
      "source": [
        "## Создание векторных представлений и векторного хранилища\n",
        "В этом туториале опять используем модель paraphrase-multilingual-mpnet-base-v2 для векторизации фрагментов.\n",
        "\n",
        "В качестве хранилища используется FAISS."
      ],
      "metadata": {
        "id": "ZEi-0G1lyP6B"
      }
    },
    {
      "cell_type": "code",
      "source": [
        "from langchain.embeddings import HuggingFaceEmbeddings\n",
        "from langchain.retrievers import BM25Retriever, EnsembleRetriever\n",
        "from langchain.vectorstores.faiss import FAISS\n",
        "from langchain_core.documents import Document"
      ],
      "metadata": {
        "id": "ie4uzmk1geDN"
      },
      "execution_count": 5,
      "outputs": []
    },
    {
      "cell_type": "markdown",
      "source": [
        "Создаем ретривер и векторное хранилище для фрагментов текста."
      ],
      "metadata": {
        "id": "mFNUBaDYzN-E"
      }
    },
    {
      "cell_type": "code",
      "source": [
        "%%time\n",
        "model_name = \"sentence-transformers/paraphrase-multilingual-mpnet-base-v2\"\n",
        "model_kwargs = {'device': 'cpu'}\n",
        "encode_kwargs = {'normalize_embeddings': False}\n",
        "embedding = HuggingFaceEmbeddings(model_name=model_name,\n",
        "                                  model_kwargs=model_kwargs,\n",
        "                                  encode_kwargs=encode_kwargs)\n",
        "\n",
        "vector_store = FAISS.from_documents(splitted_data, embedding=embedding)"
      ],
      "metadata": {
        "colab": {
          "base_uri": "https://localhost:8080/",
          "height": 545,
          "referenced_widgets": [
            "af8d113625c84d8aa1035a5417422646",
            "d824af65c4e24f4ba13c34f4f958838e",
            "c32e337979de48c6ae2b102f50318f38",
            "7b1ca6f12beb4ca4af2f9908bf435b53",
            "eb5b095337d44de8a1cf3088348db0b8",
            "c67233edb3cb4e8ca36ae54d494eacf8",
            "7f9f665353af48aeb8c96a78468dee55",
            "b8e6bafc1a634e2195c74d3b8732a526",
            "db017d0fe01b4f6587d79a098c9103df",
            "32e8af8c48924f74888269f2476cae4a",
            "146c091cb9bb4e21a219073009bcc034",
            "12d39b992570415e91c4290219960180",
            "9ccf6c9d4e444c1f9135580c51bec068",
            "d77158c64d9e49e6835edd93da992529",
            "ffe12ec8a18c42798cb6bf75f2040846",
            "c11d3c244cec479d88e93bbe3619809c",
            "c42a3f80c7ec494196044d1d6ed1b998",
            "9f563542d2db4ef6aec6d8686ac1e1c1",
            "7cf2e04f8fd742cb960ab60ba25bcae3",
            "c91cb5f80e104e17b58c3a9088f43c8a",
            "6b7c265c03a143929bb4c2ba8f3d6cc9",
            "57a0c77492b3426ea2c28a925c65ffbe",
            "be6a10a5143a4170bc07fb5c0a455b3e",
            "e2a2151245074092a5b3648b5be607cb",
            "a830ea510a5d4af6b0e60f4b6c21335b",
            "57cd9e224ba649d589fcb96859755346",
            "379441121671483589e8e2ea8f70a43c",
            "096fd633d5a44a5da453121c2af9ab30",
            "bd7e8da2bf154274af080db96bc31077",
            "3a6f89420a0e491baf6690f56164b678",
            "5e610e2b957a4b1b9f135f81efbcc782",
            "8933f98b860d4947aa6f5b91dff79e70",
            "162d6bd3033f4507b1a0ac668c363306",
            "21f21b5295da446ab38808671cfbdc78",
            "67f76188aeb84ded938b26bbe9f5bed8",
            "18dae377c0d1487f8c8282583c3b3347",
            "b46522f006ee4618bb3ddc8ce6f0442d",
            "386bd33439a94d888a288165005d3929",
            "537cf6210beb40aa8e0628456b65f023",
            "2628e04150304470ba72b4dcafa5288c",
            "cda28a879c12400982c40501b7eb562b",
            "ebda0101b2af43439361f25772807e17",
            "4fa10546e68b4b1baf1c84a87a2db616",
            "c6ab24f62f484514afb283675f0b6a35",
            "293de0d3d14b4258ab6ddd474a191083",
            "3a98878941a3420fa76b8ca9d1f4e2ab",
            "1dafe8922687469f8afd7454af7ad997",
            "00b94fb7a7ac4d2b949577c9d9ed0d47",
            "4a321f84f10141d3bbc08dddbf1801f9",
            "77b431ed21774de7b443f7f76bbad9b5",
            "2f3a9acb215e40048718360d5a1fd2ac",
            "99946db832df44dd81ae84de19bb245b",
            "0ee6a25c33e84582a57f5a809c191059",
            "53cdef4e2bfb4a17bc7c3a3d42c09923",
            "3993e032bbb946be9f0432efe3290c4e",
            "ffd5a981dac04a50bcdb83a7a93dc851",
            "ee23413bb8f448419d8b7fbafc5e0583",
            "c779a62b552345108bd8eca0ae8fc196",
            "662c39dd42bb478f8dec3b4f0e53226b",
            "7a95560977aa45a780143056d473aa4b",
            "c96fdf24dc104ee0be9c059451eff053",
            "06a0f0c38d9b4b3887356ea7bd922fb1",
            "53ea6cfdabaf46a791f9ffb0c6907d40",
            "27fc683080a94a24838794eaefcbc9c5",
            "13e1b01fe57846b5b0f212e2d6dc8a98",
            "5560e08d7ae34ff59f0fe42adf333801",
            "468eb7123afc4b44a84e558f9e61a391",
            "ef3e9506ffe04d0eb6161582717298d7",
            "8507431835fd4e45abbb3426bf39744a",
            "58c42b449759486b9d62d70551d392bf",
            "0f36b7dce0b24fcfa85dcfe5247f4f5a",
            "9d1c0a95a7a340aeaa6e0773a0509164",
            "36bc908e804f448e8a5972f6b72f11e2",
            "b728284bc09d43b8b7d4dc3d438b7155",
            "e769105875b34ac381c57ab4c8f07601",
            "ae4eff2bf8df401a860ca3e7f88c1f17",
            "7873f59a5ec347fc95f16189ec3e6c6f",
            "8a76086aecbd4fb6a0a33b83fd5da0b1",
            "5089164bc27e4bf0925e570df9c7159e",
            "5507f6da214f4ea2a335d6f8e7d542ff",
            "2d6f4d1f70754604a98f6a666d22df02",
            "218ca336566f4ebba17ee1dd34d5332a",
            "27f2cf161bd7428585f1bfa82bd0c1e0",
            "8a50ee0cd32d427c908440315f9ca8f0",
            "5f20f8beb14e4d0e902ca35fa1041de8",
            "f960790c5a7a4301bf12bac76f25f4bf",
            "0620bc06837a4b9490f8728fd1666a54",
            "b4a2ffe10aac4978bfb55016b6238c05",
            "48b22632a1934016ae4be693b763b4d9",
            "803f33a1baa74e5095d2d7b1940a2168",
            "855f0a6cfbec49b3833698a199fa5211",
            "ea0041c924804dbab1ae295c826fdfda",
            "8c8026a1cb32483ab6d03cbdfc9680fe",
            "865d567b20604fa695650cbd3f635cd3",
            "9aa01b4d40cb4c8793483953f4b6a8bb",
            "fb1d8d053ef145ada5ae3fd158ba2b67",
            "5960797d231d4be2b95b823f7d883964",
            "c23ea525dec84e51a56caecf67633a7d",
            "7c5ce4bd76c448ad897b818cb1988df1",
            "af690c4092c54e2f86d2adff08459aeb",
            "a08b724104044771bd3f0a9d050615ec",
            "215c6faad8b84f8fb610ce962c931449",
            "bbc758deac904a368845d0d60031c484",
            "8caa80ab4cbd4e0eaf2001cb3146c1f0",
            "cb09369d1daf4e68aea80eb57d3a23f5",
            "136a30afbaf5460cb56c6799d9e4b788",
            "13fe1fad4cbe472bac70d7782db0c3dc",
            "446ffebdbcf14474897079667678039d",
            "cdf0e0d39f2e443db3f8b642a760e902",
            "b93125a0fdd24bf1b08decad7a6ddb8b",
            "076235d8b9114d1487b9d378ab14444e",
            "e3b5b911483044e3b49a0e85de0912fe",
            "99808bf07d7c459e932d871188ec3d29",
            "96ab02852f834256bf09f277d59710c8",
            "f104e64962ec4eedb749a1fb2aca20bb",
            "56e83c8e8a13485893d6df0b1b8774b4",
            "fe690db040b447dfb538b92a6da4b07b",
            "8ad471be8b644fcfb0f1702c9b69c867",
            "a004f781a1bc43fa90a1288d0f8418b7",
            "9d4b8a5d9d3c4949978b7c5372b9b590",
            "109fcc69579644a397eb3cdbf2d4aa6f"
          ]
        },
        "id": "qkIAHL8-gm8n",
        "outputId": "bf72678b-de09-442a-f7eb-715cfef18d76"
      },
      "execution_count": 6,
      "outputs": [
        {
          "output_type": "stream",
          "name": "stderr",
          "text": [
            "<timed exec>:4: LangChainDeprecationWarning: The class `HuggingFaceEmbeddings` was deprecated in LangChain 0.2.2 and will be removed in 1.0. An updated version of the class exists in the langchain-huggingface package and should be used instead. To use it run `pip install -U langchain-huggingface` and import as `from langchain_huggingface import HuggingFaceEmbeddings`.\n",
            "/usr/local/lib/python3.11/dist-packages/huggingface_hub/utils/_auth.py:94: UserWarning: \n",
            "The secret `HF_TOKEN` does not exist in your Colab secrets.\n",
            "To authenticate with the Hugging Face Hub, create a token in your settings tab (https://huggingface.co/settings/tokens), set it as secret in your Google Colab and restart your session.\n",
            "You will be able to reuse this secret in all of your notebooks.\n",
            "Please note that authentication is recommended but still optional to access public models or datasets.\n",
            "  warnings.warn(\n"
          ]
        },
        {
          "output_type": "display_data",
          "data": {
            "text/plain": [
              "modules.json:   0%|          | 0.00/229 [00:00<?, ?B/s]"
            ],
            "application/vnd.jupyter.widget-view+json": {
              "version_major": 2,
              "version_minor": 0,
              "model_id": "af8d113625c84d8aa1035a5417422646"
            }
          },
          "metadata": {}
        },
        {
          "output_type": "display_data",
          "data": {
            "text/plain": [
              "config_sentence_transformers.json:   0%|          | 0.00/122 [00:00<?, ?B/s]"
            ],
            "application/vnd.jupyter.widget-view+json": {
              "version_major": 2,
              "version_minor": 0,
              "model_id": "12d39b992570415e91c4290219960180"
            }
          },
          "metadata": {}
        },
        {
          "output_type": "display_data",
          "data": {
            "text/plain": [
              "README.md:   0%|          | 0.00/3.90k [00:00<?, ?B/s]"
            ],
            "application/vnd.jupyter.widget-view+json": {
              "version_major": 2,
              "version_minor": 0,
              "model_id": "be6a10a5143a4170bc07fb5c0a455b3e"
            }
          },
          "metadata": {}
        },
        {
          "output_type": "display_data",
          "data": {
            "text/plain": [
              "sentence_bert_config.json:   0%|          | 0.00/53.0 [00:00<?, ?B/s]"
            ],
            "application/vnd.jupyter.widget-view+json": {
              "version_major": 2,
              "version_minor": 0,
              "model_id": "21f21b5295da446ab38808671cfbdc78"
            }
          },
          "metadata": {}
        },
        {
          "output_type": "display_data",
          "data": {
            "text/plain": [
              "config.json:   0%|          | 0.00/723 [00:00<?, ?B/s]"
            ],
            "application/vnd.jupyter.widget-view+json": {
              "version_major": 2,
              "version_minor": 0,
              "model_id": "293de0d3d14b4258ab6ddd474a191083"
            }
          },
          "metadata": {}
        },
        {
          "output_type": "display_data",
          "data": {
            "text/plain": [
              "model.safetensors:   0%|          | 0.00/1.11G [00:00<?, ?B/s]"
            ],
            "application/vnd.jupyter.widget-view+json": {
              "version_major": 2,
              "version_minor": 0,
              "model_id": "ffd5a981dac04a50bcdb83a7a93dc851"
            }
          },
          "metadata": {}
        },
        {
          "output_type": "display_data",
          "data": {
            "text/plain": [
              "tokenizer_config.json:   0%|          | 0.00/402 [00:00<?, ?B/s]"
            ],
            "application/vnd.jupyter.widget-view+json": {
              "version_major": 2,
              "version_minor": 0,
              "model_id": "468eb7123afc4b44a84e558f9e61a391"
            }
          },
          "metadata": {}
        },
        {
          "output_type": "display_data",
          "data": {
            "text/plain": [
              "sentencepiece.bpe.model:   0%|          | 0.00/5.07M [00:00<?, ?B/s]"
            ],
            "application/vnd.jupyter.widget-view+json": {
              "version_major": 2,
              "version_minor": 0,
              "model_id": "8a76086aecbd4fb6a0a33b83fd5da0b1"
            }
          },
          "metadata": {}
        },
        {
          "output_type": "display_data",
          "data": {
            "text/plain": [
              "tokenizer.json:   0%|          | 0.00/9.08M [00:00<?, ?B/s]"
            ],
            "application/vnd.jupyter.widget-view+json": {
              "version_major": 2,
              "version_minor": 0,
              "model_id": "48b22632a1934016ae4be693b763b4d9"
            }
          },
          "metadata": {}
        },
        {
          "output_type": "display_data",
          "data": {
            "text/plain": [
              "special_tokens_map.json:   0%|          | 0.00/239 [00:00<?, ?B/s]"
            ],
            "application/vnd.jupyter.widget-view+json": {
              "version_major": 2,
              "version_minor": 0,
              "model_id": "af690c4092c54e2f86d2adff08459aeb"
            }
          },
          "metadata": {}
        },
        {
          "output_type": "display_data",
          "data": {
            "text/plain": [
              "config.json:   0%|          | 0.00/190 [00:00<?, ?B/s]"
            ],
            "application/vnd.jupyter.widget-view+json": {
              "version_major": 2,
              "version_minor": 0,
              "model_id": "076235d8b9114d1487b9d378ab14444e"
            }
          },
          "metadata": {}
        },
        {
          "output_type": "stream",
          "name": "stdout",
          "text": [
            "CPU times: user 5min 33s, sys: 21.8 s, total: 5min 54s\n",
            "Wall time: 6min 8s\n"
          ]
        }
      ]
    },
    {
      "cell_type": "markdown",
      "source": [
        "Задаем параметры извлечения, на запрос должны возвращаться 5 фрагментов, наиболее близких по смыслу."
      ],
      "metadata": {
        "id": "yOo7eItkzVS_"
      }
    },
    {
      "cell_type": "code",
      "source": [
        "embedding_retriever = vector_store.as_retriever(search_kwargs={\"k\": 5})"
      ],
      "metadata": {
        "id": "V-S9nY5BguEw"
      },
      "execution_count": 7,
      "outputs": []
    },
    {
      "cell_type": "markdown",
      "source": [
        "## Создание генеративной части пайплайна и составление цепочки RAG системы\n",
        "Необходимо использовать авторизационные данные для подключения к GigaChat API."
      ],
      "metadata": {
        "id": "ks90k2Qrza6e"
      }
    },
    {
      "cell_type": "code",
      "source": [
        "from google.colab import userdata\n",
        "auth = userdata.get('SBER_AUTH')"
      ],
      "metadata": {
        "id": "k6dh7FQugxTJ"
      },
      "execution_count": 8,
      "outputs": []
    },
    {
      "cell_type": "markdown",
      "source": [
        "Импортируем необходимые компоненты"
      ],
      "metadata": {
        "id": "HlDQ1Htszizr"
      }
    },
    {
      "cell_type": "code",
      "source": [
        "from langchain.chains.combine_documents import create_stuff_documents_chain\n",
        "from langchain_core.prompts import ChatPromptTemplate\n",
        "from langchain.chat_models.gigachat import GigaChat\n",
        "from langchain.chains import create_retrieval_chain"
      ],
      "metadata": {
        "id": "3Gd-9vZwg1Iz"
      },
      "execution_count": 9,
      "outputs": []
    },
    {
      "cell_type": "markdown",
      "source": [
        "Создадим объект GigaChat и подготовим промпт для вопросно-ответной системы."
      ],
      "metadata": {
        "id": "wpcUvfReznSu"
      }
    },
    {
      "cell_type": "code",
      "source": [
        "\n",
        "llm = GigaChat(credentials=auth,\n",
        "              model='GigaChat:latest',\n",
        "               verify_ssl_certs=False,\n",
        "               profanity_check=False)\n",
        "prompt = ChatPromptTemplate.from_template('''Ответь на вопрос пользователя. \\\n",
        "Используй при этом только информацию из контекста. Если в контексте нет \\\n",
        "информации для ответа, сообщи об этом пользователю.\n",
        "Контекст: {context}\n",
        "Вопрос: {input}\n",
        "Ответ:'''\n",
        ")"
      ],
      "metadata": {
        "id": "4s8lz7ALg3Pb"
      },
      "execution_count": 10,
      "outputs": []
    },
    {
      "cell_type": "markdown",
      "source": [
        "Создадим цепочку create_stuff_documents_chain, которая будет частью вопросно-ответной цепочки. Это нужно для того, чтобы подавать фрагменты текстов из векторной БД в промпт языковой модели. Промпт представляет из себя форматированную строку, а фрагменты являются экземплярами класса Document. Чтобы не писать код по извлечению атрибута page_content из Document, используем цепочку create_stuff_documents_chain, где это автоматизировано."
      ],
      "metadata": {
        "id": "clm5P_Ffzr4h"
      }
    },
    {
      "cell_type": "code",
      "source": [
        "document_chain = create_stuff_documents_chain(\n",
        "    llm=llm,\n",
        "    prompt=prompt\n",
        "    )"
      ],
      "metadata": {
        "id": "cSyWLDDNg5ES"
      },
      "execution_count": 11,
      "outputs": []
    },
    {
      "cell_type": "markdown",
      "source": [
        "Создадим вопросно-ответную цепочку с помощью функции create_retrieval_chain()."
      ],
      "metadata": {
        "id": "R-ZBZK-qz0xq"
      }
    },
    {
      "cell_type": "code",
      "source": [
        "retrieval_chain = create_retrieval_chain(embedding_retriever, document_chain)"
      ],
      "metadata": {
        "id": "bDKCUgpBg6td"
      },
      "execution_count": 12,
      "outputs": []
    },
    {
      "cell_type": "markdown",
      "source": [
        "## Запустим вопросно-ответную систему"
      ],
      "metadata": {
        "id": "7NZFDcS8z4Y4"
      }
    },
    {
      "cell_type": "code",
      "source": [
        "q1 = 'Как лечить астму?'"
      ],
      "metadata": {
        "id": "QwJDHwfDhCbT"
      },
      "execution_count": 13,
      "outputs": []
    },
    {
      "cell_type": "code",
      "source": [
        "\n",
        "resp1 = retrieval_chain.invoke(\n",
        "    {'input': q1}\n",
        ")"
      ],
      "metadata": {
        "id": "Nnx0F8nLhFv1"
      },
      "execution_count": 14,
      "outputs": []
    },
    {
      "cell_type": "code",
      "source": [
        "\n",
        "resp1\n"
      ],
      "metadata": {
        "colab": {
          "base_uri": "https://localhost:8080/"
        },
        "id": "aBXe8V4ThHN6",
        "outputId": "6e13d165-b47a-4500-b218-6ddd5b464202"
      },
      "execution_count": 15,
      "outputs": [
        {
          "output_type": "execute_result",
          "data": {
            "text/plain": [
              "{'input': 'Как лечить астму?',\n",
              " 'context': [Document(metadata={'source': 'КР359_3.pdf'}, page_content='6.\\n\\nастмы) Выполнено проведение окисгенотерапии(при сатурации менее 90%) (при обострении бронхиальной астмы при отсутствии .медицинских противопоказаний)\\n\\n7. Выполнено назначение лекарственных препаратов групп: адренергические средства для ингаляционного введения или адренергические средства в комбинации с кортикостероидами или другими препаратами, исключая антихолинергические средства (при отсутствии медицинских противопоказаний)\\n\\nДа/Нет\\n\\n8. Выполнено назначение лекарственных препаратов действия) групп: или (системного глюкокортикоидыов кортикостероидов (ингаляционно), кроме случаев применения адренергических с в другими глюкокортикоидамикортикостероидами препаратами, исключая кроме средства) и/или блокаторов лейкотриеновых рецепторов антагонисты (в зависимости от медицинских при медицинских противопоказаний)\\n\\nсредств\\n\\nкомбинации или\\n\\nантихолинергическихе\\n\\nпоказаний\\n\\nотсутствии\\n\\nДа/Нет'),\n",
              "  Document(metadata={'source': 'КР359_3.pdf'}, page_content='Обострение бронхиальной астмы - эпизоды нарастающей одышки, кашля,\\n\\nсвистящих хрипов, или заложенности в грудной клетке, требующие изменений обычного\\n\\nрежима терапии.\\n\\nПрофессиональная\\n\\nастма\\n\\n\\n\\nэто\\n\\nзаболевание,\\n\\nхарактеризующееся\\n\\nгиперчувствительностью дыхательных путей и преходящим ограничением проходимости\\n\\nвоздушного потока с развитием воспаления в ответ на экспозицию специфического агента\\n\\n(или комбинации факторов), присутствующего на рабочем месте, и никак не связанное с\\n\\nдругими причинными факторами вне рабочего места.\\n\\nСенсибилизация\\n\\n\\n\\nэто повышенная чувствительность к определенному\\n\\nаллергену/виду аллергенов, определяется при кожном тестировании и/или повышенным\\n\\nуровнем\\n\\nспецифических\\n\\n1§Е,\\n\\nвыделяют\\n\\nклинически\\n\\nзначимую и\\n\\nлатентную\\n\\nсенсибилизацию.\\n\\nФенотип - совокупность характеристик организма, развивающаяся в результате\\n\\nвзаимодействия генетических факторов и окружающей среды.\\n\\nЭндотип - субтип болезни, определяемый отличительным патобиологическим\\n\\nмеханизмом.\\n\\n10'),\n",
              "  Document(metadata={'source': 'КР359_3.pdf'}, page_content='пациентам старше 18 лет для регулярной терапии астмы и применения по\\n\\nпотребности для снятия симптомов и приступов удушья в режиме единого\\n\\nингалятора [21,127,131,143-147, 149-150].\\n\\nУровень убедительности рекомендаций А (уровень достоверности доказательств - 1)\\n\\nКомментарии: на 3 ступени терапии указанный режим терапии позволит\\n\\nизбежать типичного для пациентов с легкой астмой отказа от ИГКС, сохранив\\n\\nминимальный объем противовоспалительной терапии в период появления симптомов. У\\n\\nвзрослых и подростков комбинация ИГКС+формотерол в качестве комбинированной\\n\\nтерапии в режиме единого ингалятора - как поддерживающей, так и облегчающей\\n\\nсимптомы - более эффективна для снижения частоты обострений, по сравнению с теми\\n\\nже дозами ИГКС+ДДБА или более высокими дозами ИГКС базисной терапии [150].\\n\\nНаилучший эффект при переходе на комбинированную терапию наблюдается у\\n\\nпациентов с тяжелыми обострениями в анамнезе [147]\\n\\nБудесонид + формотерол**\\n\\n(код АТХ: К03АК07) в дозированном'),\n",
              "  Document(metadata={'source': 'КР359_3.pdf'}, page_content='данный препарат не имеет такого показания к применению. В то же время\\n\\nаминофиллин** имеет показания к применению при тяжелом обострении бронхиальной\\n\\nастмы, в т.ч. при астматическом статусе, имеет продолжительный успешный опыт\\n\\n75\\n\\nприменения (более 50 лет) и входил в международные и отечественные рекомендации по\\n\\nлечению астмы при оказании неотложной и стационарной помощи до 2020г:\\n\\n«внутривенное введение аминофиллина**рекомендуется взрослым и детям старше 2 лет\\n\\nс тяжелой или угрожающей жизни астмой, не отвечающим на максимальные дозы\\n\\nингаляционных бронхолитиков и стероидов» [273] Теофиллины (КОЗБА: Ксантины) в\\n\\nнизких\\n\\nдозах\\n\\nпомимо\\n\\nбронхолитического\\n\\nдействия\\n\\nтакже\\n\\nобладают\\n\\nпротивовоспалительными свойствами, среди которых наиболее важным является их\\n\\nспособность восстанавливать гистондеацетилазу-2 (НБАС2), активность которой\\n\\nприводит к улучшению чувствительности к кортикостероидам ( [274-276]. Ограничение'),\n",
              "  Document(metadata={'source': 'КР359_3.pdf'}, page_content='с тяжелой или угрожающей жизни астмой, не отвечающим на максимальные дозы\\n\\nингаляционных бронхолитиков и стероидов» [273] Теофиллины (КОЗБА: Ксантины) в\\n\\nнизких\\n\\nдозах\\n\\nпомимо\\n\\nбронхолитического\\n\\nдействия\\n\\nтакже\\n\\nобладают\\n\\nпротивовоспалительными свойствами, среди которых наиболее важным является их\\n\\nспособность восстанавливать гистондеацетилазу-2 (НБАС2), активность которой\\n\\nприводит к улучшению чувствительности к кортикостероидам ( [274-276]. Ограничение\\n\\nприменения аминофиллина** имело место в связи с потенциально серьезными побочными\\n\\nэффектами при быстром (струйном) внутривенном введении и введении в высоких дозах\\n\\n(более 20 мг/мл) в виде тошноты, рвоты и нарушения сердечного ритма. Согласно\\n\\nкохрейновскому обзору, добавление аминофиллина к ингаляционным селективным бета2-\\n\\nадреномиметикам и\\n\\nглюкокортикоидам\\n\\n(Н02АВ: Глюкокортикоиды) не оказало\\n\\nдополнительного позитивного эффекта в отношении сокращения сроков госпитализации')],\n",
              " 'answer': 'Лечение астмы включает следующие основные аспекты:\\n\\n1. **Оксигенотерапия** – проводится при снижении уровня кислорода в крови (сатурация < 90%), особенно при обострениях бронхиальной астмы.\\n\\n2. **Назначение лекарственных препаратов** – могут быть использованы различные группы препаратов, включая:\\n   - Адренергические средства для ингаляционного введения или в комбинации с кортикостероидами.\\n   - Системные глюкокортикоиды (включая ингаляционные формы).\\n   - Блокаторы лейкотриеновых рецепторов или антагонисты рецепторов.\\n\\n3. **Применение ингаляционных кортикостероидов (ИГКС)** – используется в сочетании с бета-агонистами длительного действия (например, комбинация будесонида и формотерола).\\n\\n4. **Другие препараты** – например, теофиллины, которые обладают противовоспалительными свойствами и способствуют повышению чувствительности к кортикостероидам.\\n\\nВажно отметить, что выбор конкретного лечения зависит от степени тяжести заболевания, наличия обострений и индивидуальных особенностей пациента. Решение о выборе того или иного метода лечения принимается врачом на основе клинической картины и результатов диагностики.'}"
            ]
          },
          "metadata": {},
          "execution_count": 15
        }
      ]
    },
    {
      "cell_type": "code",
      "source": [
        "q2 = 'Какие диагностические исследования необходимы?'"
      ],
      "metadata": {
        "id": "yut0D523llzL"
      },
      "execution_count": 16,
      "outputs": []
    },
    {
      "cell_type": "code",
      "source": [
        "resp2 = retrieval_chain.invoke(\n",
        "    {'input': q2}\n",
        ")"
      ],
      "metadata": {
        "id": "Bi4dvk6Vl1Ky"
      },
      "execution_count": 17,
      "outputs": []
    },
    {
      "cell_type": "code",
      "source": [
        "resp2"
      ],
      "metadata": {
        "colab": {
          "base_uri": "https://localhost:8080/"
        },
        "id": "jwnxUORZl6mS",
        "outputId": "1f2f92b5-0631-4e57-87ec-5883c385595c"
      },
      "execution_count": 18,
      "outputs": [
        {
          "output_type": "execute_result",
          "data": {
            "text/plain": [
              "{'input': 'Какие диагностические исследования необходимы?',\n",
              " 'context': [Document(metadata={'source': 'КР359_3.pdf'}, page_content='всех симптомов не обязательно. Важнейшим фактором диагностики является\\n\\nтщательный\\n\\nсбор\\n\\nанамнеза,\\n\\nкоторый\\n\\nукажет\\n\\nна\\n\\nпричины\\n\\nвозникновения,\\n\\nпродолжительность и разрешение симптомов, наличие аллергических заболеваний\\n\\n(атопический дерматит, аллергически ринит, пищевая аллергия) у пациента и его\\n\\nкровных родственников, причинно-следственные особенности возникновения признаков\\n\\nболезни и ее обострений с учетом основных клинических признаков, повышающих\\n\\nвероятность наличия БА у пациента.\\n\\nПри сборе анамнеза следует обратить внимание на наличие типичного\\n\\nсимптомокомплекса:\\n\\nповторяющиеся\\n\\nприступы\\n\\nкашля,\\n\\nсвистящее\\n\\nдыхание,\\n\\nзатрудненное дыхание или чувство стеснения в груди, вызванные различными триггерами\\n\\n(такими как респираторная инфекция, табачный дым, контакт с животными или\\n\\nпыльцой и т.д.; физической нагрузкой, стрессом) и проявляющиеся в основном ночью или\\n\\nранним утром. Важным клиническим маркером БА является исчезновение симптомов'),\n",
              "  Document(metadata={'source': 'КР359_3.pdf'}, page_content='Основополагающим является сбор и анализ медицинской документации, сбор\\n\\nжалоб и анамнеза, проведение спирометрии\\n\\n(исследование неспровоцированных\\n\\nдыхательных объемов и потоков), бронходилятационного теста, и, при необходимости,\\n\\nбронхоконстрикторного теста\\n\\nс физической нагрузкой. Следует учитывать\\n\\nфизиологические особенности течения БА и частую спонтанную ремиссию в\\n\\nпубертатном периоде, ассоциированную с нормальным показателями при исследовании\\n\\nфункции внешнего дыхания. Нормальные исходные показатели ФВД, отрицательные\\n\\n46\\n\\nбронхолитические и бронхоконстрикторные тесты при наличии медицинской\\n\\nдокументации о ранее установленном диагнозе БА не являются основанием для снятия\\n\\nдиагноза БА.\\n\\nОсвидетельствование при впервые выявленных признаках БА проводится только\\n\\nпосле обследования в стационарных условиях. При наличии БА, подтвержденной\\n\\nмедицинскими документами о лечении в стационарных условиях и обращениях за'),\n",
              "  Document(metadata={'source': 'КР359_3.pdf'}, page_content='часто применяют рпск-тесты\\n\\n(тесты уколом) или скарификационные тесты.\\n\\nРезультаты тестирования с аллергенами соотносят с результатами отрицательного и\\n\\nположительного тест-контроля. Результаты кожных проб очень важны для\\n\\nдиагностики атопических заболеваний, однако они не являются абсолютными, имеют\\n\\nпротивопоказания [58]. На достоверность результатов могут влиять ранний детский\\n\\n(до 5 лет) или, наоборот, преклонный (старше 60 лет) возраст пациента, прием\\n\\nсистемных\\n\\nглюкокортикостероиды\\n\\n(группа АТХ Н02АВ:\\n\\nГлюкокортикоиды),\\n\\nантигистаминных средств системного действия, психотропных средств\\n\\n(группа АТХ\\n\\nN05: Психотропные средства) - снижают кожную чувствительность, дермографизм\\n\\n(ложноположительный результат),\\n\\nнепродолжительный период\\n\\nпосле\\n\\nострой\\n\\nаллергической реакции (ложноотрицателъиый результат) и др. При динамическом\\n\\nнаблюдении в течение года возможно повторное проведение исследования при подозрении\\n\\nна появление новой клинически значимой сенсибшизации.'),\n",
              "  Document(metadata={'source': 'КР359_3.pdf'}, page_content='как на фоне ОРИ, так и между эпизодами респираторных инфекций, а также\\n\\nнаследственную отягощенность и данные аллергоанамнеза. При сборе анамнеза следует\\n\\nвыявить весь спектр проявлений за последние 3-4 месяца, обратив особое внимание на\\n\\nте, которые беспокоили в течение 2-х предшествующих недель [30].\\n\\n25\\n\\nКлинические признаки, увеличивающие и уменьшающие вероятность наличия БА,\\n\\nсм. Приложение Б.\\n\\n2.1 Жалобы и анамнез\\n\\nРекомендуется всем пациентам, как при подозрении на БА, так и при\\n\\nустановленном диагнозе проводить сбор анамнеза и жалоб при болезнях\\n\\nверхних дыхательных путей и сбор анамнеза и жалоб при заболеваниях\\n\\nлегких и бронхов с целью подтверждения диагноза, определения степени\\n\\nтяжести и выявления факторов, которые могут повлиять иа выбор тактики\\n\\nлечения [4].\\n\\nУровень убедительности рекомендаций -С (уровень достоверности доказательств - 5)\\n\\nКомментарии: характерными являются приступы затруднения дыхания, удушья,'),\n",
              "  Document(metadata={'source': 'КР359_3.pdf'}, page_content=\"доказательной базой для рекомендаций являются публикации, вошедшие в\\n\\nКокрановскую библиотеку, базы данных ЕМВА8Е и МЕОЫЫЕ. Глубина\\n\\nпоиска составляла 15 лет.\\n\\nТаблица 1.Шкала оценки уровней достоверности доказательств (УДД)для методов\\n\\n' диагностики (диагностических вмешательств)\\n\\nУДД 1\\n\\n2\\n\\n3\\n\\nРасшифровка Систематические обзоры исследований с контролем референсным методом или с систематический обзор рандомизированных клинических исследований применением мета-анализа Отдельные исследования с контролем референсным методом или отдельные рандомизированные клинические исследования и систематические обзоры исследований любого дизайна, за исключением рандомизированных клинических исследований, с применением мета-анализа Исследования без последовательного контроля референсным методом или исследования с референсным методом, не являющимся независимым от исследуемого метода или нерандомизированные сравнительные исследования, в том числе когортные исследования\\n\\n151\\n\\n4 5\")],\n",
              " 'answer': 'Для диагностики бронхиальной астмы необходимо провести следующие диагностические исследования:\\n\\n1. **Спирометрия** – исследование неспровоцированных дыхательных объемов и потоков.\\n2. **Бронходилатационный тест** – проводится после ингаляции бронхорасширяющего препарата для оценки обратимости бронхиальной обструкции.\\n3. **Бронхоконстрикторный тест с физической нагрузкой** – применяется для оценки реакции дыхательных путей на физическую активность.\\n4. В некоторых случаях может потребоваться **бронхоконстрикторный тест** с использованием аллергенов.\\n\\nДополнительно учитываются результаты анализа медицинской документации, жалобы и анамнез пациента, а также физиологические особенности течения болезни.'}"
            ]
          },
          "metadata": {},
          "execution_count": 18
        }
      ]
    },
    {
      "cell_type": "code",
      "source": [
        "q3 = 'Диагностика астмы'"
      ],
      "metadata": {
        "id": "icB-ZWC2mbCD"
      },
      "execution_count": 19,
      "outputs": []
    },
    {
      "cell_type": "code",
      "source": [
        "resp3 = retrieval_chain.invoke(\n",
        "    {'input': q3}\n",
        ")"
      ],
      "metadata": {
        "id": "EVOeey42mgN6"
      },
      "execution_count": 20,
      "outputs": []
    },
    {
      "cell_type": "code",
      "source": [
        "resp3"
      ],
      "metadata": {
        "colab": {
          "base_uri": "https://localhost:8080/"
        },
        "id": "bRhYQ00Rmjp2",
        "outputId": "63761b68-4bb8-4347-dfcb-e546fb5b199f"
      },
      "execution_count": 21,
      "outputs": [
        {
          "output_type": "execute_result",
          "data": {
            "text/plain": [
              "{'input': 'Диагностика астмы',\n",
              " 'context': [Document(metadata={'source': 'КР359_3.pdf'}, page_content='дыхания в анамнезе диагноз бронхиальной астмы становится более вероятным если:\\n\\nсвистящее дыхание или кашель появляются на фоне физической нагрузки, смехе,\\n\\nплаче или в отсутствие явных признаков респираторной инфекции\\n\\nналичие сопутствующих аллергических заболеваний (атопический дерматит,\\n\\nаллергический ринит) у самого ребенка или наличие сенсибилизации к аллергенам или\\n\\nастмы у родственников первой линии;\\n\\nклиническое улучшение в течение 2-3 месячного курса низкодозной терапии\\n\\nингаляционными глюкокортикостероидами (группа АТХ КОЗВА: Кортикостероиды) в\\n\\nсочетании с коротко действующими бета2-агонистами (некоторые препараты из\\n\\nгруппы АТХ КОЗ АС: Селективные\\n\\nбета2-адреномиметики,\\n\\nхарактеризующиеся\\n\\nпродолжительностью действия менее 6 часов) по требованию. При отмене терапии\\n\\nнаступает ухудшение.\\n\\nисключены альтернативные заболевания [21].\\n\\n162\\n\\nКлинические признаки, свидетельствующие о высокой вероятности БА у\\n\\nвзрослых\\n\\nКлинические\\n\\nпризнаки,\\n\\nКлинические\\n\\nпризнаки,'),\n",
              "  Document(metadata={'source': 'КР359_3.pdf'}, page_content='89\\n\\nпотребность в проведении исследований, подтверждающих астму в случаях\\n\\nсомнений в диагнозе;\\n\\nуровень\\n\\nконтроля над\\n\\nсимптомами\\n\\nастмы,\\n\\nа также\\n\\nкоморбидньгми\\n\\nзаболеваниями;\\n\\nтехнику ингаляции;\\n\\nприверженность лечению и контроль возможных побочных эффектов терапии;\\n\\nналичие/присоединение коморбидных состояний;\\n\\nфункцию внешнего дыхания (спирометрия, исследование неспровоцированных\\n\\nдыхательных объемов и потоков) (при возможности выполнения маневра);\\n\\nконтроль спектра сенсибилизации (Накожные исследования реакции на аллергены\\n\\nи/или Исследование уровня антител к антигенам растительного, э/сивотного и\\n\\nхимического происхождения в крови) (при наличии показаний)\\n\\nналичие воспаления в дыхательных путях (определение уровеня оксида азота в\\n\\nвыдыхаемом воздухе - РеЫО)- при возможности\\n\\nуровень информированности пациента о заболевании\\n\\nналичие индивидуального плана ведения у пациента (и его коррекция при\\n\\nнеобходимости) и дневника пикфлоуметрии'),\n",
              "  Document(metadata={'source': 'КР359_3.pdf'}, page_content='Обострение бронхиальной астмы - эпизоды нарастающей одышки, кашля,\\n\\nсвистящих хрипов, или заложенности в грудной клетке, требующие изменений обычного\\n\\nрежима терапии.\\n\\nПрофессиональная\\n\\nастма\\n\\n\\n\\nэто\\n\\nзаболевание,\\n\\nхарактеризующееся\\n\\nгиперчувствительностью дыхательных путей и преходящим ограничением проходимости\\n\\nвоздушного потока с развитием воспаления в ответ на экспозицию специфического агента\\n\\n(или комбинации факторов), присутствующего на рабочем месте, и никак не связанное с\\n\\nдругими причинными факторами вне рабочего места.\\n\\nСенсибилизация\\n\\n\\n\\nэто повышенная чувствительность к определенному\\n\\nаллергену/виду аллергенов, определяется при кожном тестировании и/или повышенным\\n\\nуровнем\\n\\nспецифических\\n\\n1§Е,\\n\\nвыделяют\\n\\nклинически\\n\\nзначимую и\\n\\nлатентную\\n\\nсенсибилизацию.\\n\\nФенотип - совокупность характеристик организма, развивающаяся в результате\\n\\nвзаимодействия генетических факторов и окружающей среды.\\n\\nЭндотип - субтип болезни, определяемый отличительным патобиологическим\\n\\nмеханизмом.\\n\\n10'),\n",
              "  Document(metadata={'source': 'КР359_3.pdf'}, page_content='Комментарии: Тест рекомендуется проводить только в специализированных\\n\\nцентрах с использованием экспозиционных камер при отсутствии возможности\\n\\nподтвердить диагноз профессиональной астмы другими методами. Исследование\\n\\nпроводят в первые часы после рабочей смены и в первый день после продолжительного\\n\\nперерыва в работе. Результаты теста, как правило, коррелируют с дозой\\n\\nтестированных веществ и ухудшением течент БА на рабочем месте. Отсутствие\\n\\nбронхиальной гиперреактивности не позволяет исключить диагноз профессиональной БА.\\n\\n45\\n\\nДля уточнения наличия бронхиальной гипервосприимчивости к профессиональным\\n\\nфакторам, показано повторное проведение теста в периоды элиминации агентов (после\\n\\n7-14 дневного перерыва в работе) [113-117].\\n\\n2.5.2\\n\\nПодтверждение диагноза БА у лиц, подлежащих п р и з ы в у на военную\\n\\nслужбу\\n\\nОбследование и освидетельствование пациентов при первоначальной постановке\\n\\nна воинский учет, призыве на военную службу (военные сборы), поступлении на военную'),\n",
              "  Document(metadata={'source': 'КР359_3.pdf'}, page_content='23\\n\\n2. Диагностика заболевания или состояния (группы заболеваний или\\n\\nсостояний), медицинские показания и противопоказания к применению\\n\\nметодов диагностики\\n\\nДиагноз бронхиальной астмы устанавливается на основании анализа жалоб и\\n\\nанамнеза пациента,\\n\\nхарактера клинических\\n\\nсимптомов,\\n\\nданных физикального\\n\\nобследования, функциональных методов обследования, результатов специфического\\n\\nаллергологического обследования, исключения других заболеваний, эффекта пробной\\n\\nтерапии [21].\\n\\nПри диагностике бронхиальной астмы у детей следует учитывать клинические\\n\\nсимптомы (наличие рецидивирующего бронхообструктивного синдрома, связанного как с\\n\\nреспираторными вирусными инфекциями, так и с другими триггерами), данные\\n\\nфизикального обследования, наличие факторов риска развития бронхиальной астмы\\n\\n(отягощенный семейный анамнез, наличие других аллергических заболеваний у пациента,\\n\\nнапример, атопический дерматит, аллергический ринит) при исключении других')],\n",
              " 'answer': 'Диагностика бронхиальной астмы включает анализ жалоб и анамнеза пациента, характера клинических симптомов, данных физикального обследования, функциональных методов обследования, результатов специфического аллергологического обследования, а также исключение других заболеваний. Клинические признаки, такие как свистящее дыхание или кашель при физической нагрузке, плаче или смехе, без явных признаков респираторной инфекции, могут указывать на вероятность астмы. Наличие сопутствующих аллергических заболеваний у ребенка или родственников, положительный эффект от низкодозовой терапии ингаляционными глюкокортикостероидами и бета2-агонистами по требованию, а также улучшение состояния после начала лечения – все это может подтверждать диагноз бронхиальной астмы.'}"
            ]
          },
          "metadata": {},
          "execution_count": 21
        }
      ]
    },
    {
      "cell_type": "code",
      "source": [
        "q4 = 'Факторы, влияющие на развитие и проявление астмы'"
      ],
      "metadata": {
        "id": "SUmyv88jm2TB"
      },
      "execution_count": 22,
      "outputs": []
    },
    {
      "cell_type": "code",
      "source": [
        "resp4 = retrieval_chain.invoke(\n",
        "    {'input': q4}\n",
        ")"
      ],
      "metadata": {
        "id": "BFDjZHV_m7Lf"
      },
      "execution_count": 23,
      "outputs": []
    },
    {
      "cell_type": "code",
      "source": [
        "resp4"
      ],
      "metadata": {
        "colab": {
          "base_uri": "https://localhost:8080/"
        },
        "id": "mtbaZiK2m90j",
        "outputId": "67a25fcd-fae7-428a-f3b7-fbe103c85ba7"
      },
      "execution_count": 24,
      "outputs": [
        {
          "output_type": "execute_result",
          "data": {
            "text/plain": [
              "{'input': 'Факторы, влияющие на развитие и проявление астмы',\n",
              " 'context': [Document(metadata={'source': 'КР359_3.pdf'}, page_content='дыхания в анамнезе диагноз бронхиальной астмы становится более вероятным если:\\n\\nсвистящее дыхание или кашель появляются на фоне физической нагрузки, смехе,\\n\\nплаче или в отсутствие явных признаков респираторной инфекции\\n\\nналичие сопутствующих аллергических заболеваний (атопический дерматит,\\n\\nаллергический ринит) у самого ребенка или наличие сенсибилизации к аллергенам или\\n\\nастмы у родственников первой линии;\\n\\nклиническое улучшение в течение 2-3 месячного курса низкодозной терапии\\n\\nингаляционными глюкокортикостероидами (группа АТХ КОЗВА: Кортикостероиды) в\\n\\nсочетании с коротко действующими бета2-агонистами (некоторые препараты из\\n\\nгруппы АТХ КОЗ АС: Селективные\\n\\nбета2-адреномиметики,\\n\\nхарактеризующиеся\\n\\nпродолжительностью действия менее 6 часов) по требованию. При отмене терапии\\n\\nнаступает ухудшение.\\n\\nисключены альтернативные заболевания [21].\\n\\n162\\n\\nКлинические признаки, свидетельствующие о высокой вероятности БА у\\n\\nвзрослых\\n\\nКлинические\\n\\nпризнаки,\\n\\nКлинические\\n\\nпризнаки,'),\n",
              "  Document(metadata={'source': 'КР359_3.pdf'}, page_content='формирующих разные фенотипы и эндотипы болезни. Сложное взаимодействие между\\n\\nиммунными ответами 1-го и 2-го типов способствует возникновению различных\\n\\nбиологических фенотипов астмы. Основные иммуно-воспалительные механизмы БА\\n\\nвключают эндотипы с высоким Т2-воспалением (Т2-астма), низким Т2-воспалением\\n\\n(неТ2-астма) и смешанные, которые могут иметь общие генетические, эпигенетические,\\n\\nметаболические, нейрогенные и ремоделирующие характеристики [1]. В соответствии с\\n\\nэтой концепцией, в основе аллергической БА, поздней эозинофильной БА, «аспирин-\\n\\nиндуцированном»\\n\\nреспираторном\\n\\nзаболевании,\\n\\nлежит\\n\\nпреимущественно\\n\\nэозинофильное воспаление, тогда как воспалительную основу БА, ассоциированной с\\n\\nожирением, БА курильщиков и БА с очень поздним дебютом составляет неТ2-воспаление.\\n\\nЭто может быть нейтрофильное или малогранулоцитарное воспаление, в формировании\\n\\nкоторых роль цитокинов Т2-профиля\\n\\n(ИЛ-4, ИЛ-5, ИЛ-13) не столь значима.'),\n",
              "  Document(metadata={'source': 'КР359_3.pdf'}, page_content='Обострение бронхиальной астмы - эпизоды нарастающей одышки, кашля,\\n\\nсвистящих хрипов, или заложенности в грудной клетке, требующие изменений обычного\\n\\nрежима терапии.\\n\\nПрофессиональная\\n\\nастма\\n\\n\\n\\nэто\\n\\nзаболевание,\\n\\nхарактеризующееся\\n\\nгиперчувствительностью дыхательных путей и преходящим ограничением проходимости\\n\\nвоздушного потока с развитием воспаления в ответ на экспозицию специфического агента\\n\\n(или комбинации факторов), присутствующего на рабочем месте, и никак не связанное с\\n\\nдругими причинными факторами вне рабочего места.\\n\\nСенсибилизация\\n\\n\\n\\nэто повышенная чувствительность к определенному\\n\\nаллергену/виду аллергенов, определяется при кожном тестировании и/или повышенным\\n\\nуровнем\\n\\nспецифических\\n\\n1§Е,\\n\\nвыделяют\\n\\nклинически\\n\\nзначимую и\\n\\nлатентную\\n\\nсенсибилизацию.\\n\\nФенотип - совокупность характеристик организма, развивающаяся в результате\\n\\nвзаимодействия генетических факторов и окружающей среды.\\n\\nЭндотип - субтип болезни, определяемый отличительным патобиологическим\\n\\nмеханизмом.\\n\\n10'),\n",
              "  Document(metadata={'source': 'КР359_3.pdf'}, page_content='2Измерение\\n\\nсатурации\\n\\nпроводится\\n\\nдо\\n\\nприема\\n\\nКДБА\\n\\nи/или\\n\\nкислородотерапии.\\n\\n3 Необходимо учитывать возраст и возможности ребенка\\n\\nПод\\n\\nастматическим\\n\\nстатусом\\n\\nпонимают\\n\\nэпизод\\n\\nострой\\n\\nдыхательной\\n\\nнедостаточности (ОДН) вследствие обострения БА. Термин астматический статус\\n\\nэквивалентен понятиям «жизнеугрожающая астма» и «астма, близкая к фатальной».\\n\\nФормулировка диагноза\\n\\nПримеры формулировки диагноза указаны в Приложении Б8.\\n\\nПри формулировке диагноза необходимо указывать\\n\\nстепень дыхательной\\n\\nнедостаточности.\\n\\nДыхательная недостаточность (ДН) - неспособность системы дыхания обеспечить\\n\\nнормальный газовый состав артериальной крови. По скорости развития различают острую\\n\\nи хроническую ДН [24].\\n\\nОстрая ДН (ОДН) развивается в течение нескольких дней, часов или даже минут и\\n\\nтребует проведения интенсивной терапии, так как может представлять непосредственную\\n\\nугрозу для жизни больного. При быстром развитии ДН не успевают включиться'),\n",
              "  Document(metadata={'source': 'КР359_3.pdf'}, page_content='Симптомы астмы могут впервые появиться во время беременности вследствие\\n\\nизмененной реактивности организма и повышенной чувствительности к эндогенному\\n\\nпростагландину Р2а (РСР2а) [327].\\n\\nЖенщины, страдающие неконтролируемой или частично контролируемой БА,\\n\\nимеют большую вероятность рождения детей с низкой массой тела, неврологическими\\n\\nрасстройствами, асфиксией, врожденными пороками развития. Наибольшая доля\\n\\nрождения детей с малой массой тела наблюдается у женщин, страдающих\\n\\nстероидозависимой БА [328,329].\\n\\nБеременные с БА подвержены высокому риску развития токсикоза раннего срока\\n\\n(37 %>), гестоза (43 %), угрозе прерывания беременности (26 %), плацентарной\\n\\nнедостаточности (29 %), преждевременных родов (19 %) [330].\\n\\nАкушерские\\n\\nосложнения,\\n\\nкак\\n\\nправшо,\\n\\nвстречаются\\n\\nпри тяжелом\\n\\nнеконтролируемом течении заболевания. Основным фактором, который моэюет\\n\\nоказывать влияние на снижение вероятности развития осложнений беременности,')],\n",
              " 'answer': 'На развитие и проявление бронхиальной астмы влияют следующие факторы:\\n\\n1. **Наследственность**: Наличие бронхиальной астмы у близких родственников увеличивает риск развития астмы у ребенка.\\n   \\n2. **Аллергии**: Склонность к аллергическим реакциям, например, атопический дерматит или аллергический ринит, повышает вероятность развития астмы.\\n\\n3. **Физическая активность**: Симптомы астмы могут появляться при физической нагрузке, смехе или плаче.\\n\\n4. **Влияние внешней среды**: Контакт с различными аллергенами (например, пыльцой растений, шерстью животных, домашней пылью) и раздражителями (табачным дымом, загрязненным воздухом) может провоцировать обострения астмы.\\n\\n5. **Курение**: Курение, включая пассивное курение, может способствовать развитию и ухудшению симптомов астмы.\\n\\n6. **Инфекционные заболевания**: Частые респираторные инфекции могут ослаблять дыхательные пути и способствовать развитию астмы.\\n\\n7. **Психоэмоциональный стресс**: Эмоциональные перегрузки и стрессовые ситуации могут провоцировать обострения астмы.\\n\\n8. **Медикаменты**: Некоторые лекарства, такие как бета-блокаторы, могут вызывать спазм бронхов и усугублять симптомы астмы.\\n\\n9. **Питание**: Неправильное питание, дефицит витамина D и ожирение также могут оказывать негативное влияние на состояние дыхательной системы и усиливать проявления астмы.\\n\\nЭти факторы могут действовать совместно, формируя различные фенотипы и эндотипы астмы, что влияет на тяжесть заболевания и его прогноз.'}"
            ]
          },
          "metadata": {},
          "execution_count": 24
        }
      ]
    },
    {
      "cell_type": "markdown",
      "source": [
        "## Загрузка кодов МКБ из xlsx-файла"
      ],
      "metadata": {
        "id": "1r6hULv9EdFI"
      }
    },
    {
      "cell_type": "code",
      "source": [
        "from langchain_community.document_loaders import UnstructuredExcelLoader\n",
        "\n",
        "loader = UnstructuredExcelLoader('mkb10.xlsx')\n",
        "splitted_xlsx = loader.load_and_split(text_splitter)"
      ],
      "metadata": {
        "id": "WuAUL21SES_T"
      },
      "execution_count": 25,
      "outputs": []
    },
    {
      "cell_type": "markdown",
      "source": [
        "Смотрим количество фрагментов"
      ],
      "metadata": {
        "id": "n-tnsETyEsiR"
      }
    },
    {
      "cell_type": "code",
      "source": [
        "len(splitted_xlsx)"
      ],
      "metadata": {
        "id": "wQEEEIDeEcFK",
        "colab": {
          "base_uri": "https://localhost:8080/"
        },
        "outputId": "7c6c71f3-10ff-4c91-b164-2bd180fa1b78"
      },
      "execution_count": 26,
      "outputs": [
        {
          "output_type": "execute_result",
          "data": {
            "text/plain": [
              "310"
            ]
          },
          "metadata": {},
          "execution_count": 26
        }
      ]
    },
    {
      "cell_type": "markdown",
      "source": [
        "Увидим содержимое отдельного фрагмента"
      ],
      "metadata": {
        "id": "0Q3jwmDuExYg"
      }
    },
    {
      "cell_type": "code",
      "source": [
        "splitted_xlsx[5]"
      ],
      "metadata": {
        "id": "B1tjXNjNE1BZ",
        "colab": {
          "base_uri": "https://localhost:8080/"
        },
        "outputId": "3b35e9bc-5554-41a2-86f5-b88e7f2be19c"
      },
      "execution_count": 27,
      "outputs": [
        {
          "output_type": "execute_result",
          "data": {
            "text/plain": [
              "Document(metadata={'source': 'mkb10.xlsx'}, page_content='Некоммерческая организация \"Ассоциация онкологических организаций Сибири и Дальнего Востока Да 2025-01-24 12:51:34.887000 Применяется 355_5 Рак поджелудочной железы C25, D37.7 Взрослые Ассоциация онкологов России, Общероссийская общественная организация \"Российское общество хирургов\", Общероссийская общественная организация «Российское общество клинической онкологии», Общероссийская общественная организация содействия развитию лучевой диагностики и терапии \"Российское общество рентгенологов и радиологов\" Да 2025-01-23 16:31:25.343000 Применяется 460_4 Рак тела матки и саркомы матки C54, C55, D07.0 Взрослые Ассоциация онкологов России, Общероссийская общественная организация «Российское общество клинической онкологии», Общероссийская общественная организация «Российское общество специалистов по профилактике и лечению опухолей репродуктивной системы» Да 2025-01-23 14:42:38.013000 Применяется 144_2 Множественная миелома C90.0 Взрослые Ассоциация онкологов России, Национальное')"
            ]
          },
          "metadata": {},
          "execution_count": 27
        }
      ]
    },
    {
      "cell_type": "code",
      "source": [
        "splitted_xlsx1 = loader.load_and_split()"
      ],
      "metadata": {
        "id": "sgbd2AlEN1ZM"
      },
      "execution_count": 39,
      "outputs": []
    },
    {
      "cell_type": "code",
      "source": [
        "len(splitted_xlsx1)"
      ],
      "metadata": {
        "colab": {
          "base_uri": "https://localhost:8080/"
        },
        "id": "rupXPZQfN3aD",
        "outputId": "26ae7705-4496-41c9-d7ef-711a5c45fd1a"
      },
      "execution_count": 40,
      "outputs": [
        {
          "output_type": "execute_result",
          "data": {
            "text/plain": [
              "41"
            ]
          },
          "metadata": {},
          "execution_count": 40
        }
      ]
    },
    {
      "cell_type": "code",
      "source": [
        "splitted_xlsx1[3]"
      ],
      "metadata": {
        "colab": {
          "base_uri": "https://localhost:8080/"
        },
        "id": "rSEbpwcwN5Pv",
        "outputId": "10d6dbb3-be7e-4674-f9cc-3716212a2e17"
      },
      "execution_count": 41,
      "outputs": [
        {
          "output_type": "execute_result",
          "data": {
            "text/plain": [
              "Document(metadata={'source': 'mkb10.xlsx'}, page_content='– реаниматологов\", Межрегиональная ассоциация по клинической микробиологии и антимикробной химиотерапии, Межрегиональная общественная организация «Альянс клинических химиотерапевтов и микробиологов», Межрегиональная общественная организация врачей и медицинских сестер «Сепсис Форум», Общероссийская общественная организация «Российское общество скорой медицинской помощи», Национальная ассоциация специалистов по тромбозам, клинической гемостазиологии и гемореологии, Российская Ассоциация специалистов по лечению хирургических инфекций Да 2024-12-27 15:31:08.733000 Применяется 590_2 Психические и поведенческие расстройства, вызванные употреблением психоактивных веществ Абстинентное состояние (синдром отмены) с делирием F10.4, F11.4, F13.4, F19.4 Взрослые Общественная организация \"Российское общество психиатров\", Общероссийская общественная организация \"Федерация анестезиологов и реаниматологов\" Да 2024-12-27 14:56:58.420000 Применяется 897_1 Острые отравления неопиоидными анальгезирующими, жаропонижающими и противоревматическими средствами T39 Взрослые, дети Межрегиональная благотворительная общественная организация \"Ассоциация клинических токсикологов, Общероссийская общественная организация «Российское общество скорой медицинской помощи» Да 2024-12-26 18:45:06.890000 Применяется 895_1 Краниальные мононейропатии у взрослых B02.2, G44.0, G50.0, G50.1, G50.8, G50.9, G51.0, G51.1, G51.2, G51.3, G51.4, G51.8, G51.9, G52.0, G52.1, G52.2, G52.3, G52.7, G52.8, G52.9, G53.0, G90.0 Взрослые Ассоциация нейрохирургов России, Всероссийское общество неврологов, Общероссийская общественная организация \"Союз реабилитологов России\", ООО «Общество специалистов в области челюстно-лицевой хирургии», Ассоциация специалистов по клинической нейрофизиологии, Некоммерческая организация «Ассоциация интервенционного лечения боли» Да 2024-12-26 18:23:00.523000 Применяется 896_1 Перелом верхней челюсти и скуловой кости S02.4 Дети ООО «Общество специалистов в области челюстно-лицевой хирургии» Да 2024-12-26 17:52:58.327000 Применяется 894_1 Гломерулярные болезни: иммуноглобулин А-нефропатия N00.1, N00.3, N00.4, N00.7, N00.8, N01.1, N01.3, N01.4, N01.7, N01.8, N02.1, N02.3, N02.4, N02.7, N02.8, N03.1, N03.3, N03.4, N03.7, N03.8, N04.1, N04.3, N04.4, N04.7, N04.8, N06.1, N06.3, N06.4, N06.7, N06.8, N08.2, N18.1, N18.2, N18.3, N18.4, N18.5, N18.9 Взрослые, дети Союз педиатров России, Творческое объединение детских нефрологов, Национальная Ассоциация нефрологов Да 2024-12-26 17:31:29.887000 Применяется 893_1 Опухоли невыявленной первичной локализации C76, C77, C78, C79, C80, D37, D38, D39, D40, D41, D42, D43, D44, D45, D46, D47, D48 Взрослые, дети Ассоциация онкологов России, Общероссийская общественная организация «Российское общество клинической онкологии», Региональная общественная организация \"Общество Специалистов Поддерживающей Терапии в Онкологии\", Российское общество детских онкологов и гематологов Да 2024-12-26 16:53:39.217000 Применяется 883_1 Другие плазмоклеточные новообразования C90 Взрослые Ассоциация содействия развитию гематологии, трансфузиологии и трансплантации костного мозга \"Национальное гематологическое общество\" Да 2024-12-26 15:59:30.017000 Применяется 682_2 Болезнь Крона K50, K52.3, K52.9 Дети Союз педиатров России, Общероссийская общественная организация \"Российская ассоциация детских хирургов\", Автономная некоммерческая организация \"Общество детских гастроэнтерологов, гепатологов и нутрициологов\" Да 2024-12-26 14:39:27.417000 Применяется 891_1 Острый бронхит J20 Взрослые Общероссийская общественная организация \"Российское научное медицинское общество терапевтов\", Российское респираторное общество, Межрегиональная ассоциация специалистов респираторной медицины (МАСРМ) Да 2024-12-26 13:20:02.317000 Применяется 892_1 Синдром раздраженного кишечника K52.3, K52.9, K58.0, K58.1, K58.2, K58.3, K58.8, K58.9, K59.1, K59.2, K59.8, K59.9 Взрослые, дети Союз педиатров России, Общероссийская общественная организация \"Ассоциация колопроктологов')"
            ]
          },
          "metadata": {},
          "execution_count": 41
        }
      ]
    },
    {
      "cell_type": "markdown",
      "source": [
        "## Создание векторных представлений и векторного хранилища\n",
        "Используется загрузчик с настройками по умолчанию. Создаем очередное векторное хранилище."
      ],
      "metadata": {
        "id": "hKnhUhuxE_hc"
      }
    },
    {
      "cell_type": "code",
      "source": [
        "vector_store_xlsx = FAISS.from_documents(splitted_xlsx1, embedding=embedding)"
      ],
      "metadata": {
        "id": "0SD2RPdVNr8b"
      },
      "execution_count": 47,
      "outputs": []
    },
    {
      "cell_type": "markdown",
      "source": [
        "## Получаем ответ на вопрос по кодам МКБ"
      ],
      "metadata": {
        "id": "yAnWSQvrOMfy"
      }
    },
    {
      "cell_type": "code",
      "source": [
        "q5 = 'Какой код МКБ-10 у дистонии?'"
      ],
      "metadata": {
        "id": "5kztabzwL80H"
      },
      "execution_count": 48,
      "outputs": []
    },
    {
      "cell_type": "code",
      "source": [
        "resp5 = retrieval_chain.invoke(\n",
        "    {'input': q5}\n",
        ")\n"
      ],
      "metadata": {
        "id": "Pt7dg0v-MCBs"
      },
      "execution_count": 49,
      "outputs": []
    },
    {
      "cell_type": "code",
      "source": [
        "resp5"
      ],
      "metadata": {
        "colab": {
          "base_uri": "https://localhost:8080/"
        },
        "id": "4nIT0GiVMFlP",
        "outputId": "3d9a9f40-d523-42f0-a02d-b10747171744"
      },
      "execution_count": 50,
      "outputs": [
        {
          "output_type": "execute_result",
          "data": {
            "text/plain": [
              "{'input': 'Какой код МКБ-10 у дистонии?',\n",
              " 'context': [Document(metadata={'source': 'КР359_3.pdf'}, page_content='Степень тяжести\\n\\nЛегкое/умеренное\\n\\nТяжелое 1\\n\\nобострения\\n\\nСимптомы\\n\\nИзмененное сознание\\n\\nСатурация (8р02)2 Речь3 Пульс\\n\\nчдд Центральный цианоз Интенсивность хрипов\\n\\nНет\\n\\n>95% Предложениями <100 ударов в минуту\\n\\n<40 в минуту Отсутствует Вариабельна\\n\\nВозбуждение, спутанность сознания или сонливость <92% Словами >180 ударов в минуту (0-3 года) >150 ударов в минуту (4-5 лет) >40 в минуту Чаще всего присутствует Возможно наличие «немой»\\n\\n19\\n\\n______________________________ ________________________ грудной клетки____________ Примечание.1 Каждый из этих симптомов указывает на наличие тяжелого обострения.\\n\\n2Измерение\\n\\nсатурации\\n\\nпроводится\\n\\nдо\\n\\nприема\\n\\nКДБА\\n\\nи/или\\n\\nкислородотерапии.\\n\\n3 Необходимо учитывать возраст и возможности ребенка\\n\\nПод\\n\\nастматическим\\n\\nстатусом\\n\\nпонимают\\n\\nэпизод\\n\\nострой\\n\\nдыхательной\\n\\nнедостаточности (ОДН) вследствие обострения БА. Термин астматический статус\\n\\nэквивалентен понятиям «жизнеугрожающая астма» и «астма, близкая к фатальной».\\n\\nФормулировка диагноза'),\n",
              "  Document(metadata={'source': 'КР359_3.pdf'}, page_content='ПСВ\\n\\nРазброс ПСВ или ОФВ1>30%\\n\\nКлассификация БА по уровню контроля:\\n\\n16\\n\\nконтролируемая;\\n\\nчастично контролируемая;\\n\\nнеконтролируемая.\\n\\nУровень контроля БА определяется по частоте дневных и ночных приступов БА,\\n\\nпотребности в симптоматической терапии и ограничения в активности в результате БА.\\n\\nНеконтролируемая БА может наблюдаться у пациентов с любой степенью тяжести в силу\\n\\nразличных\\n\\nпричин:\\n\\nнеадекватность\\n\\nбазисной\\n\\nтерапии\\n\\n(недостаточный\\n\\nобъем\\n\\nфармакологической\\n\\nнагрузки,\\n\\nнеправильное\\n\\nвыполнение\\n\\nтехники\\n\\nингаляций,\\n\\nнесоблюдение режима лечения), наличие сопутствующих заболеваний, течение и терапия\\n\\nкоторых негативно сказываются на состоянии пациента, продолжающееся воздействие\\n\\nтриггерных факторов (аллергенов, табачного дыма) и др.\\n\\nКонтроль БА означает отсутствие клинических проявлений\\n\\nзаболевания.\\n\\nКритериями полного контроля являются:\\n\\n\\n\\nОтсутствие дневных симптомов чаще 2-х раз в неделю (для детей до 6 лет -\\n\\nчаще, чем 1 раз в неделю);'),\n",
              "  Document(metadata={'source': 'КР359_3.pdf'}, page_content='быть незаметным, постепенным, или она может развиться при неполном восстановлении\\n\\nпосле ОДН. Длительное существование ХДН позволяет включиться компенсаторным\\n\\nмеханизмам, среди которых полицитемия, повышение сердечного выброса, задержка\\n\\nпочками бикарбонатов (приводящая к коррекции респираторного ацидоза). ОДН может\\n\\n20\\n\\nразвиваться и у пациентов с уже существующей ХДН - так называемая “ОДН на фоне\\n\\nХДН”.\\n\\n1.6\\n\\nКлиническая картина заболевания или состояния ( г р у п п ы заболеваний\\n\\nили состояний!\\n\\nБА является хроническим воспалительным заболеванием дыхательных путей,\\n\\nосновным патогенетическим механизмом которого является гиперреактивность бронхов, а\\n\\nосновным клиническим проявлением — частично или полностью обратимая (спонтанно\\n\\nили в результате лечения) обструкция вследствие бронхоспазма, гиперсекреции и отека\\n\\nслизистой оболочки бронхов, сопровождающиеся характерной аускультативной картиной\\n\\nв виде удлинения выдоха и сухих высокотональных хрипов над всей поверхностью'),\n",
              "  Document(metadata={'source': 'КР359_3.pdf'}, page_content='техника ингаляции, плохая приверженность лечению, курение или сопутствующие\\n\\nзаболевания, или из-за неправильного диагноза.\\n\\nПоскольку течение БА крайне вариабельно, степень тяжести заболевания может\\n\\nменяться на протяжении месяцев и лет.\\n\\nУ пациентов с впервые выявленной БА классификация по степени тяжести\\n\\nпроводится на основании клинической картины (Табл. 2).\\n\\nТаблица 2. Классификация впервые выявленной БА по степени тяжести\\n\\nХарактерно -тики\\n\\nДневные симптомы\\n\\nНочные симптомы\\n\\nОбострения\\n\\nФункцио\\xad нальные показатели\\n\\nИнтермитти- ругощая БА\\n\\nРеже 1 раза в неделю\\n\\nНе чаще 2-х раз в месяц\\n\\nОбострения короткие\\n\\nОФВ1 или ПСВ > 80% от должного\\n\\n%\\n\\nЛегкая персистирую- щая БА Чаще 1 раза в неделю, но реже 1 раза в день\\n\\nНе чаще 2-х раз в месяц\\n\\nОбострения могут снижать физическую активность нарушать сон\\n\\nОФВ1 или ПСВ > 80% от должного\\n\\nи'),\n",
              "  Document(metadata={'source': 'КР359_3.pdf'}, page_content='клиническим ситуациям, продолжает обсуждаться клиническим и научным сообществом.\\n\\nОбострение БА представляет собой эпизоды нарастающей одышки, кашля,\\n\\nсвистящих хрипов или заложенности в грудной клетке, учащения приступов затруднения\\n\\nдыхания\\n\\nи\\n\\nудушья,\\n\\nповышенной\\n\\nпотребностью\\n\\nв\\n\\nиспользовании КДБА,\\n\\nсопровождающиеся снижением ПСВ и ОФВ1, требующие изменений обычного режима\\n\\nтерапии. Выраженное снижение ПСВ и ОФВ1 являются надежными показателями тяжести\\n\\nобострения. Однако, необходимо помнить, что у небольшого количества пациентов\\n\\nзначительное снижение функции легких в периоде обострения не сопровождается\\n\\nизменением/появлением симптомов [22,23].\\n\\nОбострение может развиваться как у пациентов с уже установленным диагнозом\\n\\nБА, так и быть первым проявлением заболевания вне зависимости от его тяжести. Чаще\\n\\nвсего оно возникает при трудно контролируемой БА и может развиться в считанные\\n\\nминуты/часы или в течение нескольких дней. Разрешение симптомов происходит, как')],\n",
              " 'answer': 'В предоставленном контексте информация о коде МКБ-10 для дистонии отсутствует.'}"
            ]
          },
          "metadata": {},
          "execution_count": 50
        }
      ]
    }
  ]
}