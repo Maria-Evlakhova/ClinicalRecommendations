{
  "nbformat": 4,
  "nbformat_minor": 0,
  "metadata": {
    "colab": {
      "provenance": [],
      "include_colab_link": true
    },
    "kernelspec": {
      "name": "python3",
      "display_name": "Python 3"
    },
    "language_info": {
      "name": "python"
    }
  },
  "cells": [
    {
      "cell_type": "markdown",
      "metadata": {
        "id": "view-in-github",
        "colab_type": "text"
      },
      "source": [
        "<a href=\"https://colab.research.google.com/github/Maria-Evlakhova/ClinicalRecommendations/blob/main/%D0%91%D0%BB%D0%BE%D0%BA%D0%BD%D0%BE%D1%82_%22%D0%9A%D0%BB%D0%B8%D0%BD%D0%B8%D1%87%D0%B5%D1%81%D0%BA%D0%B8%D0%B5_%D1%80%D0%B5%D0%BA%D0%BE%D0%BC%D0%B5%D0%BD%D0%B4%D0%B0%D1%86%D0%B8%D0%B8_ipynb%22%22.ipynb\" target=\"_parent\"><img src=\"https://colab.research.google.com/assets/colab-badge.svg\" alt=\"Open In Colab\"/></a>"
      ]
    },
    {
      "cell_type": "markdown",
      "source": [
        "# Создание вопросно-ответной системы\n",
        "## Что из себя представляют вопросно-ответные системы с использованием языковых моделей\n",
        "\n",
        "\n",
        "Инструменты:\n",
        "- `gigachain` - основной инструмент построения пайплайнов с большими языковыми моделями;\n",
        "- `faiss-cpu` - используем векторное хранилище FAISS для размещения чанков (фрагментов текстов для контекста)и эмбеддингов (векторных представлений) этих чанков;\n",
        "- `sentence-transformers` - библиотека для локального использования эмбеддинговых моделей с ресурса Hugging Face;\n",
        "- `rank_bm25` - библиотека для работы с алгоритмами векторизации BM25 (вариации TF-IDF);\n",
        "- `playwright` - библиотека для автоматизации браузера, в нашем случае для парсинга списка статей с веб-сайта."
      ],
      "metadata": {
        "id": "vSmpuEoBD7b4"
      }
    },
    {
      "cell_type": "code",
      "source": [
        "!pip install gigachain faiss-cpu sentence-transformers rank_bm25 playwright langchain-community unstructured[all-docs] pdf2image --quiet\n",
        "!pip install -U langchain-community"
      ],
      "metadata": {
        "id": "ajJ_Q4-GONsp",
        "colab": {
          "base_uri": "https://localhost:8080/"
        },
        "outputId": "c693655c-f0e6-40a4-fdee-61454372c476"
      },
      "execution_count": 7,
      "outputs": [
        {
          "output_type": "stream",
          "name": "stdout",
          "text": [
            "\u001b[2K     \u001b[90m━━━━━━━━━━━━━━━━━━━━━━━━━━━━━━━━━━━━━━━━\u001b[0m \u001b[32m61.0/61.0 kB\u001b[0m \u001b[31m3.7 MB/s\u001b[0m eta \u001b[36m0:00:00\u001b[0m\n",
            "\u001b[2K     \u001b[90m━━━━━━━━━━━━━━━━━━━━━━━━━━━━━━━━━━━━━━━━\u001b[0m \u001b[32m981.5/981.5 kB\u001b[0m \u001b[31m43.6 MB/s\u001b[0m eta \u001b[36m0:00:00\u001b[0m\n",
            "\u001b[?25h  Preparing metadata (setup.py) ... \u001b[?25l\u001b[?25hdone\n",
            "\u001b[2K     \u001b[90m━━━━━━━━━━━━━━━━━━━━━━━━━━━━━━━━━━━━━━━━\u001b[0m \u001b[32m48.2/48.2 kB\u001b[0m \u001b[31m3.3 MB/s\u001b[0m eta \u001b[36m0:00:00\u001b[0m\n",
            "\u001b[2K     \u001b[90m━━━━━━━━━━━━━━━━━━━━━━━━━━━━━━━━━━━━━━━━\u001b[0m \u001b[32m117.0/117.0 kB\u001b[0m \u001b[31m9.7 MB/s\u001b[0m eta \u001b[36m0:00:00\u001b[0m\n",
            "\u001b[?25h  Preparing metadata (setup.py) ... \u001b[?25l\u001b[?25hdone\n",
            "\u001b[2K   \u001b[90m━━━━━━━━━━━━━━━━━━━━━━━━━━━━━━━━━━━━━━━━\u001b[0m \u001b[32m1.0/1.0 MB\u001b[0m \u001b[31m41.2 MB/s\u001b[0m eta \u001b[36m0:00:00\u001b[0m\n",
            "\u001b[2K   \u001b[90m━━━━━━━━━━━━━━━━━━━━━━━━━━━━━━━━━━━━━━━━\u001b[0m \u001b[32m30.7/30.7 MB\u001b[0m \u001b[31m37.3 MB/s\u001b[0m eta \u001b[36m0:00:00\u001b[0m\n",
            "\u001b[2K   \u001b[90m━━━━━━━━━━━━━━━━━━━━━━━━━━━━━━━━━━━━━━━━\u001b[0m \u001b[32m45.2/45.2 MB\u001b[0m \u001b[31m14.6 MB/s\u001b[0m eta \u001b[36m0:00:00\u001b[0m\n",
            "\u001b[?25h\u001b[33mWARNING: Retrying (Retry(total=4, connect=None, read=None, redirect=None, status=None)) after connection broken by 'ProtocolError('Connection aborted.', RemoteDisconnected('Remote end closed connection without response'))': /packages/ab/4b/2652cfd2baa482cb3cdbec1ccccae1674418b7576f21ba7724d8730de9db/langchain_community-0.3.20-py3-none-any.whl\u001b[0m\u001b[33m\n",
            "\u001b[2K   \u001b[90m━━━━━━━━━━━━━━━━━━━━━━━━━━━━━━━━━━━━━━━━\u001b[0m \u001b[32m2.5/2.5 MB\u001b[0m \u001b[31m46.6 MB/s\u001b[0m eta \u001b[36m0:00:00\u001b[0m\n",
            "\u001b[2K   \u001b[90m━━━━━━━━━━━━━━━━━━━━━━━━━━━━━━━━━━━━━━━━\u001b[0m \u001b[32m403.7/403.7 kB\u001b[0m \u001b[31m26.7 MB/s\u001b[0m eta \u001b[36m0:00:00\u001b[0m\n",
            "\u001b[2K   \u001b[90m━━━━━━━━━━━━━━━━━━━━━━━━━━━━━━━━━━━━━━━━\u001b[0m \u001b[32m67.3/67.3 kB\u001b[0m \u001b[31m4.9 MB/s\u001b[0m eta \u001b[36m0:00:00\u001b[0m\n",
            "\u001b[2K   \u001b[90m━━━━━━━━━━━━━━━━━━━━━━━━━━━━━━━━━━━━━━━━\u001b[0m \u001b[32m311.8/311.8 kB\u001b[0m \u001b[31m20.6 MB/s\u001b[0m eta \u001b[36m0:00:00\u001b[0m\n",
            "\u001b[2K   \u001b[90m━━━━━━━━━━━━━━━━━━━━━━━━━━━━━━━━━━━━━━━━\u001b[0m \u001b[32m18.3/18.3 MB\u001b[0m \u001b[31m80.9 MB/s\u001b[0m eta \u001b[36m0:00:00\u001b[0m\n",
            "\u001b[2K   \u001b[90m━━━━━━━━━━━━━━━━━━━━━━━━━━━━━━━━━━━━━━━━\u001b[0m \u001b[32m16.0/16.0 MB\u001b[0m \u001b[31m85.5 MB/s\u001b[0m eta \u001b[36m0:00:00\u001b[0m\n",
            "\u001b[2K   \u001b[90m━━━━━━━━━━━━━━━━━━━━━━━━━━━━━━━━━━━━━━━━\u001b[0m \u001b[32m16.0/16.0 MB\u001b[0m \u001b[31m22.7 MB/s\u001b[0m eta \u001b[36m0:00:00\u001b[0m\n",
            "\u001b[2K   \u001b[90m━━━━━━━━━━━━━━━━━━━━━━━━━━━━━━━━━━━━━━━━\u001b[0m \u001b[32m244.3/244.3 kB\u001b[0m \u001b[31m16.7 MB/s\u001b[0m eta \u001b[36m0:00:00\u001b[0m\n",
            "\u001b[2K   \u001b[90m━━━━━━━━━━━━━━━━━━━━━━━━━━━━━━━━━━━━━━━━\u001b[0m \u001b[32m472.8/472.8 kB\u001b[0m \u001b[31m29.5 MB/s\u001b[0m eta \u001b[36m0:00:00\u001b[0m\n",
            "\u001b[2K   \u001b[90m━━━━━━━━━━━━━━━━━━━━━━━━━━━━━━━━━━━━━━━━\u001b[0m \u001b[32m363.4/363.4 MB\u001b[0m \u001b[31m3.9 MB/s\u001b[0m eta \u001b[36m0:00:00\u001b[0m\n",
            "\u001b[2K   \u001b[90m━━━━━━━━━━━━━━━━━━━━━━━━━━━━━━━━━━━━━━━━\u001b[0m \u001b[32m13.8/13.8 MB\u001b[0m \u001b[31m24.3 MB/s\u001b[0m eta \u001b[36m0:00:00\u001b[0m\n",
            "\u001b[2K   \u001b[90m━━━━━━━━━━━━━━━━━━━━━━━━━━━━━━━━━━━━━━━━\u001b[0m \u001b[32m24.6/24.6 MB\u001b[0m \u001b[31m28.4 MB/s\u001b[0m eta \u001b[36m0:00:00\u001b[0m\n",
            "\u001b[2K   \u001b[90m━━━━━━━━━━━━━━━━━━━━━━━━━━━━━━━━━━━━━━━━\u001b[0m \u001b[32m883.7/883.7 kB\u001b[0m \u001b[31m39.6 MB/s\u001b[0m eta \u001b[36m0:00:00\u001b[0m\n",
            "\u001b[2K   \u001b[90m━━━━━━━━━━━━━━━━━━━━━━━━━━━━━━━━━━━━━━━━\u001b[0m \u001b[32m664.8/664.8 MB\u001b[0m \u001b[31m861.8 kB/s\u001b[0m eta \u001b[36m0:00:00\u001b[0m\n",
            "\u001b[2K   \u001b[90m━━━━━━━━━━━━━━━━━━━━━━━━━━━━━━━━━━━━━━━━\u001b[0m \u001b[32m211.5/211.5 MB\u001b[0m \u001b[31m3.2 MB/s\u001b[0m eta \u001b[36m0:00:00\u001b[0m\n",
            "\u001b[2K   \u001b[90m━━━━━━━━━━━━━━━━━━━━━━━━━━━━━━━━━━━━━━━━\u001b[0m \u001b[32m56.3/56.3 MB\u001b[0m \u001b[31m11.4 MB/s\u001b[0m eta \u001b[36m0:00:00\u001b[0m\n",
            "\u001b[2K   \u001b[90m━━━━━━━━━━━━━━━━━━━━━━━━━━━━━━━━━━━━━━━━\u001b[0m \u001b[32m127.9/127.9 MB\u001b[0m \u001b[31m7.4 MB/s\u001b[0m eta \u001b[36m0:00:00\u001b[0m\n",
            "\u001b[2K   \u001b[90m━━━━━━━━━━━━━━━━━━━━━━━━━━━━━━━━━━━━━━━━\u001b[0m \u001b[32m207.5/207.5 MB\u001b[0m \u001b[31m5.9 MB/s\u001b[0m eta \u001b[36m0:00:00\u001b[0m\n",
            "\u001b[2K   \u001b[90m━━━━━━━━━━━━━━━━━━━━━━━━━━━━━━━━━━━━━━━━\u001b[0m \u001b[32m21.1/21.1 MB\u001b[0m \u001b[31m76.9 MB/s\u001b[0m eta \u001b[36m0:00:00\u001b[0m\n",
            "\u001b[2K   \u001b[90m━━━━━━━━━━━━━━━━━━━━━━━━━━━━━━━━━━━━━━━━\u001b[0m \u001b[32m48.9/48.9 kB\u001b[0m \u001b[31m3.4 MB/s\u001b[0m eta \u001b[36m0:00:00\u001b[0m\n",
            "\u001b[2K   \u001b[90m━━━━━━━━━━━━━━━━━━━━━━━━━━━━━━━━━━━━━━━━\u001b[0m \u001b[32m112.5/112.5 kB\u001b[0m \u001b[31m8.7 MB/s\u001b[0m eta \u001b[36m0:00:00\u001b[0m\n",
            "\u001b[2K   \u001b[90m━━━━━━━━━━━━━━━━━━━━━━━━━━━━━━━━━━━━━━━━\u001b[0m \u001b[32m590.6/590.6 kB\u001b[0m \u001b[31m35.0 MB/s\u001b[0m eta \u001b[36m0:00:00\u001b[0m\n",
            "\u001b[2K   \u001b[90m━━━━━━━━━━━━━━━━━━━━━━━━━━━━━━━━━━━━━━━━\u001b[0m \u001b[32m526.1/526.1 kB\u001b[0m \u001b[31m27.3 MB/s\u001b[0m eta \u001b[36m0:00:00\u001b[0m\n",
            "\u001b[2K   \u001b[90m━━━━━━━━━━━━━━━━━━━━━━━━━━━━━━━━━━━━━━━━\u001b[0m \u001b[32m5.6/5.6 MB\u001b[0m \u001b[31m76.3 MB/s\u001b[0m eta \u001b[36m0:00:00\u001b[0m\n",
            "\u001b[2K   \u001b[90m━━━━━━━━━━━━━━━━━━━━━━━━━━━━━━━━━━━━━━━━\u001b[0m \u001b[32m1.2/1.2 MB\u001b[0m \u001b[31m55.7 MB/s\u001b[0m eta \u001b[36m0:00:00\u001b[0m\n",
            "\u001b[2K   \u001b[90m━━━━━━━━━━━━━━━━━━━━━━━━━━━━━━━━━━━━━━━━\u001b[0m \u001b[32m2.4/2.4 MB\u001b[0m \u001b[31m66.5 MB/s\u001b[0m eta \u001b[36m0:00:00\u001b[0m\n",
            "\u001b[2K   \u001b[90m━━━━━━━━━━━━━━━━━━━━━━━━━━━━━━━━━━━━━━━━\u001b[0m \u001b[32m302.3/302.3 kB\u001b[0m \u001b[31m19.2 MB/s\u001b[0m eta \u001b[36m0:00:00\u001b[0m\n",
            "\u001b[2K   \u001b[90m━━━━━━━━━━━━━━━━━━━━━━━━━━━━━━━━━━━━━━━━\u001b[0m \u001b[32m167.6/167.6 kB\u001b[0m \u001b[31m11.5 MB/s\u001b[0m eta \u001b[36m0:00:00\u001b[0m\n",
            "\u001b[2K   \u001b[90m━━━━━━━━━━━━━━━━━━━━━━━━━━━━━━━━━━━━━━━━\u001b[0m \u001b[32m3.1/3.1 MB\u001b[0m \u001b[31m81.8 MB/s\u001b[0m eta \u001b[36m0:00:00\u001b[0m\n",
            "\u001b[2K   \u001b[90m━━━━━━━━━━━━━━━━━━━━━━━━━━━━━━━━━━━━━━━━\u001b[0m \u001b[32m1.8/1.8 MB\u001b[0m \u001b[31m62.2 MB/s\u001b[0m eta \u001b[36m0:00:00\u001b[0m\n",
            "\u001b[2K   \u001b[90m━━━━━━━━━━━━━━━━━━━━━━━━━━━━━━━━━━━━━━━━\u001b[0m \u001b[32m175.8/175.8 kB\u001b[0m \u001b[31m12.4 MB/s\u001b[0m eta \u001b[36m0:00:00\u001b[0m\n",
            "\u001b[2K   \u001b[90m━━━━━━━━━━━━━━━━━━━━━━━━━━━━━━━━━━━━━━━━\u001b[0m \u001b[32m275.0/275.0 kB\u001b[0m \u001b[31m17.6 MB/s\u001b[0m eta \u001b[36m0:00:00\u001b[0m\n",
            "\u001b[2K   \u001b[90m━━━━━━━━━━━━━━━━━━━━━━━━━━━━━━━━━━━━━━━━\u001b[0m \u001b[32m50.9/50.9 kB\u001b[0m \u001b[31m3.2 MB/s\u001b[0m eta \u001b[36m0:00:00\u001b[0m\n",
            "\u001b[2K   \u001b[90m━━━━━━━━━━━━━━━━━━━━━━━━━━━━━━━━━━━━━━━━\u001b[0m \u001b[32m79.5/79.5 kB\u001b[0m \u001b[31m6.0 MB/s\u001b[0m eta \u001b[36m0:00:00\u001b[0m\n",
            "\u001b[2K   \u001b[90m━━━━━━━━━━━━━━━━━━━━━━━━━━━━━━━━━━━━━━━━\u001b[0m \u001b[32m165.1/165.1 kB\u001b[0m \u001b[31m11.9 MB/s\u001b[0m eta \u001b[36m0:00:00\u001b[0m\n",
            "\u001b[2K   \u001b[90m━━━━━━━━━━━━━━━━━━━━━━━━━━━━━━━━━━━━━━━━\u001b[0m \u001b[32m46.0/46.0 kB\u001b[0m \u001b[31m2.9 MB/s\u001b[0m eta \u001b[36m0:00:00\u001b[0m\n",
            "\u001b[2K   \u001b[90m━━━━━━━━━━━━━━━━━━━━━━━━━━━━━━━━━━━━━━━━\u001b[0m \u001b[32m114.6/114.6 kB\u001b[0m \u001b[31m9.0 MB/s\u001b[0m eta \u001b[36m0:00:00\u001b[0m\n",
            "\u001b[2K   \u001b[90m━━━━━━━━━━━━━━━━━━━━━━━━━━━━━━━━━━━━━━━━\u001b[0m \u001b[32m2.9/2.9 MB\u001b[0m \u001b[31m76.3 MB/s\u001b[0m eta \u001b[36m0:00:00\u001b[0m\n",
            "\u001b[2K   \u001b[90m━━━━━━━━━━━━━━━━━━━━━━━━━━━━━━━━━━━━━━━━\u001b[0m \u001b[32m86.8/86.8 kB\u001b[0m \u001b[31m6.6 MB/s\u001b[0m eta \u001b[36m0:00:00\u001b[0m\n",
            "\u001b[?25h  Building wheel for langdetect (setup.py) ... \u001b[?25l\u001b[?25hdone\n",
            "  Building wheel for antlr4-python3-runtime (setup.py) ... \u001b[?25l\u001b[?25hdone\n",
            "Requirement already satisfied: langchain-community in /usr/local/lib/python3.11/dist-packages (0.3.20)\n",
            "Requirement already satisfied: langchain-core<1.0.0,>=0.3.45 in /usr/local/lib/python3.11/dist-packages (from langchain-community) (0.3.47)\n",
            "Requirement already satisfied: langchain<1.0.0,>=0.3.21 in /usr/local/lib/python3.11/dist-packages (from langchain-community) (0.3.21)\n",
            "Requirement already satisfied: SQLAlchemy<3,>=1.4 in /usr/local/lib/python3.11/dist-packages (from langchain-community) (2.0.39)\n",
            "Requirement already satisfied: requests<3,>=2 in /usr/local/lib/python3.11/dist-packages (from langchain-community) (2.32.3)\n",
            "Requirement already satisfied: PyYAML>=5.3 in /usr/local/lib/python3.11/dist-packages (from langchain-community) (6.0.2)\n",
            "Requirement already satisfied: aiohttp<4.0.0,>=3.8.3 in /usr/local/lib/python3.11/dist-packages (from langchain-community) (3.11.14)\n",
            "Requirement already satisfied: tenacity!=8.4.0,<10,>=8.1.0 in /usr/local/lib/python3.11/dist-packages (from langchain-community) (8.5.0)\n",
            "Requirement already satisfied: dataclasses-json<0.7,>=0.5.7 in /usr/local/lib/python3.11/dist-packages (from langchain-community) (0.6.7)\n",
            "Requirement already satisfied: pydantic-settings<3.0.0,>=2.4.0 in /usr/local/lib/python3.11/dist-packages (from langchain-community) (2.8.1)\n",
            "Requirement already satisfied: langsmith<0.4,>=0.1.125 in /usr/local/lib/python3.11/dist-packages (from langchain-community) (0.1.147)\n",
            "Requirement already satisfied: httpx-sse<1.0.0,>=0.4.0 in /usr/local/lib/python3.11/dist-packages (from langchain-community) (0.4.0)\n",
            "Requirement already satisfied: numpy<3,>=1.26.2 in /usr/local/lib/python3.11/dist-packages (from langchain-community) (1.26.4)\n",
            "Requirement already satisfied: aiohappyeyeballs>=2.3.0 in /usr/local/lib/python3.11/dist-packages (from aiohttp<4.0.0,>=3.8.3->langchain-community) (2.6.1)\n",
            "Requirement already satisfied: aiosignal>=1.1.2 in /usr/local/lib/python3.11/dist-packages (from aiohttp<4.0.0,>=3.8.3->langchain-community) (1.3.2)\n",
            "Requirement already satisfied: attrs>=17.3.0 in /usr/local/lib/python3.11/dist-packages (from aiohttp<4.0.0,>=3.8.3->langchain-community) (25.3.0)\n",
            "Requirement already satisfied: frozenlist>=1.1.1 in /usr/local/lib/python3.11/dist-packages (from aiohttp<4.0.0,>=3.8.3->langchain-community) (1.5.0)\n",
            "Requirement already satisfied: multidict<7.0,>=4.5 in /usr/local/lib/python3.11/dist-packages (from aiohttp<4.0.0,>=3.8.3->langchain-community) (6.2.0)\n",
            "Requirement already satisfied: propcache>=0.2.0 in /usr/local/lib/python3.11/dist-packages (from aiohttp<4.0.0,>=3.8.3->langchain-community) (0.3.0)\n",
            "Requirement already satisfied: yarl<2.0,>=1.17.0 in /usr/local/lib/python3.11/dist-packages (from aiohttp<4.0.0,>=3.8.3->langchain-community) (1.18.3)\n",
            "Requirement already satisfied: marshmallow<4.0.0,>=3.18.0 in /usr/local/lib/python3.11/dist-packages (from dataclasses-json<0.7,>=0.5.7->langchain-community) (3.26.1)\n",
            "Requirement already satisfied: typing-inspect<1,>=0.4.0 in /usr/local/lib/python3.11/dist-packages (from dataclasses-json<0.7,>=0.5.7->langchain-community) (0.9.0)\n",
            "Requirement already satisfied: langchain-text-splitters<1.0.0,>=0.3.7 in /usr/local/lib/python3.11/dist-packages (from langchain<1.0.0,>=0.3.21->langchain-community) (0.3.7)\n",
            "Requirement already satisfied: pydantic<3.0.0,>=2.7.4 in /usr/local/lib/python3.11/dist-packages (from langchain<1.0.0,>=0.3.21->langchain-community) (2.10.6)\n",
            "Requirement already satisfied: jsonpatch<2.0,>=1.33 in /usr/local/lib/python3.11/dist-packages (from langchain-core<1.0.0,>=0.3.45->langchain-community) (1.33)\n",
            "Requirement already satisfied: packaging<25,>=23.2 in /usr/local/lib/python3.11/dist-packages (from langchain-core<1.0.0,>=0.3.45->langchain-community) (24.2)\n",
            "Requirement already satisfied: typing-extensions>=4.7 in /usr/local/lib/python3.11/dist-packages (from langchain-core<1.0.0,>=0.3.45->langchain-community) (4.12.2)\n",
            "Requirement already satisfied: httpx<1,>=0.23.0 in /usr/local/lib/python3.11/dist-packages (from langsmith<0.4,>=0.1.125->langchain-community) (0.28.1)\n",
            "Requirement already satisfied: orjson<4.0.0,>=3.9.14 in /usr/local/lib/python3.11/dist-packages (from langsmith<0.4,>=0.1.125->langchain-community) (3.10.15)\n",
            "Requirement already satisfied: requests-toolbelt<2.0.0,>=1.0.0 in /usr/local/lib/python3.11/dist-packages (from langsmith<0.4,>=0.1.125->langchain-community) (1.0.0)\n",
            "Requirement already satisfied: python-dotenv>=0.21.0 in /usr/local/lib/python3.11/dist-packages (from pydantic-settings<3.0.0,>=2.4.0->langchain-community) (1.1.0)\n",
            "Requirement already satisfied: charset-normalizer<4,>=2 in /usr/local/lib/python3.11/dist-packages (from requests<3,>=2->langchain-community) (3.4.1)\n",
            "Requirement already satisfied: idna<4,>=2.5 in /usr/local/lib/python3.11/dist-packages (from requests<3,>=2->langchain-community) (3.10)\n",
            "Requirement already satisfied: urllib3<3,>=1.21.1 in /usr/local/lib/python3.11/dist-packages (from requests<3,>=2->langchain-community) (2.3.0)\n",
            "Requirement already satisfied: certifi>=2017.4.17 in /usr/local/lib/python3.11/dist-packages (from requests<3,>=2->langchain-community) (2025.1.31)\n",
            "Requirement already satisfied: greenlet!=0.4.17 in /usr/local/lib/python3.11/dist-packages (from SQLAlchemy<3,>=1.4->langchain-community) (3.1.1)\n",
            "Requirement already satisfied: anyio in /usr/local/lib/python3.11/dist-packages (from httpx<1,>=0.23.0->langsmith<0.4,>=0.1.125->langchain-community) (4.9.0)\n",
            "Requirement already satisfied: httpcore==1.* in /usr/local/lib/python3.11/dist-packages (from httpx<1,>=0.23.0->langsmith<0.4,>=0.1.125->langchain-community) (1.0.7)\n",
            "Requirement already satisfied: h11<0.15,>=0.13 in /usr/local/lib/python3.11/dist-packages (from httpcore==1.*->httpx<1,>=0.23.0->langsmith<0.4,>=0.1.125->langchain-community) (0.14.0)\n",
            "Requirement already satisfied: jsonpointer>=1.9 in /usr/local/lib/python3.11/dist-packages (from jsonpatch<2.0,>=1.33->langchain-core<1.0.0,>=0.3.45->langchain-community) (3.0.0)\n",
            "Requirement already satisfied: annotated-types>=0.6.0 in /usr/local/lib/python3.11/dist-packages (from pydantic<3.0.0,>=2.7.4->langchain<1.0.0,>=0.3.21->langchain-community) (0.7.0)\n",
            "Requirement already satisfied: pydantic-core==2.27.2 in /usr/local/lib/python3.11/dist-packages (from pydantic<3.0.0,>=2.7.4->langchain<1.0.0,>=0.3.21->langchain-community) (2.27.2)\n",
            "Requirement already satisfied: mypy-extensions>=0.3.0 in /usr/local/lib/python3.11/dist-packages (from typing-inspect<1,>=0.4.0->dataclasses-json<0.7,>=0.5.7->langchain-community) (1.0.0)\n",
            "Requirement already satisfied: sniffio>=1.1 in /usr/local/lib/python3.11/dist-packages (from anyio->httpx<1,>=0.23.0->langsmith<0.4,>=0.1.125->langchain-community) (1.3.1)\n"
          ]
        }
      ]
    },
    {
      "cell_type": "markdown",
      "source": [
        "установка браузера для сбора списка статей."
      ],
      "metadata": {
        "id": "ugkbCiC9EZhf"
      }
    },
    {
      "cell_type": "code",
      "source": [
        "!playwright install"
      ],
      "metadata": {
        "id": "IdSmZjhiwwgC",
        "colab": {
          "base_uri": "https://localhost:8080/"
        },
        "outputId": "8c5685cb-b2cc-40a2-c96e-cd05df830610"
      },
      "execution_count": 8,
      "outputs": [
        {
          "output_type": "stream",
          "name": "stdout",
          "text": [
            "Downloading Chromium 134.0.6998.35 (playwright build v1161)\u001b[2m from https://cdn.playwright.dev/dbazure/download/playwright/builds/chromium/1161/chromium-linux.zip\u001b[22m\n",
            "\u001b[1G164.9 MiB [] 0% 0.0s\u001b[0K\u001b[1G164.9 MiB [] 0% 7.8s\u001b[0K\u001b[1G164.9 MiB [] 0% 6.8s\u001b[0K\u001b[1G164.9 MiB [] 0% 5.2s\u001b[0K\u001b[1G164.9 MiB [] 1% 5.4s\u001b[0K\u001b[1G164.9 MiB [] 1% 6.6s\u001b[0K\u001b[1G164.9 MiB [] 1% 6.7s\u001b[0K\u001b[1G164.9 MiB [] 2% 6.9s\u001b[0K\u001b[1G164.9 MiB [] 2% 7.2s\u001b[0K\u001b[1G164.9 MiB [] 2% 7.0s\u001b[0K\u001b[1G164.9 MiB [] 2% 6.6s\u001b[0K\u001b[1G164.9 MiB [] 3% 6.6s\u001b[0K\u001b[1G164.9 MiB [] 3% 6.5s\u001b[0K\u001b[1G164.9 MiB [] 3% 6.6s\u001b[0K\u001b[1G164.9 MiB [] 4% 6.5s\u001b[0K\u001b[1G164.9 MiB [] 4% 6.3s\u001b[0K\u001b[1G164.9 MiB [] 5% 5.9s\u001b[0K\u001b[1G164.9 MiB [] 5% 5.6s\u001b[0K\u001b[1G164.9 MiB [] 6% 5.4s\u001b[0K\u001b[1G164.9 MiB [] 6% 5.8s\u001b[0K\u001b[1G164.9 MiB [] 6% 5.9s\u001b[0K\u001b[1G164.9 MiB [] 6% 6.2s\u001b[0K\u001b[1G164.9 MiB [] 6% 6.5s\u001b[0K\u001b[1G164.9 MiB [] 7% 7.0s\u001b[0K\u001b[1G164.9 MiB [] 7% 7.3s\u001b[0K\u001b[1G164.9 MiB [] 7% 7.2s\u001b[0K\u001b[1G164.9 MiB [] 8% 9.4s\u001b[0K\u001b[1G164.9 MiB [] 8% 9.3s\u001b[0K\u001b[1G164.9 MiB [] 9% 9.2s\u001b[0K\u001b[1G164.9 MiB [] 9% 9.0s\u001b[0K\u001b[1G164.9 MiB [] 10% 8.8s\u001b[0K\u001b[1G164.9 MiB [] 10% 8.4s\u001b[0K\u001b[1G164.9 MiB [] 11% 8.2s\u001b[0K\u001b[1G164.9 MiB [] 11% 8.1s\u001b[0K\u001b[1G164.9 MiB [] 11% 8.2s\u001b[0K\u001b[1G164.9 MiB [] 12% 8.6s\u001b[0K\u001b[1G164.9 MiB [] 12% 8.7s\u001b[0K\u001b[1G164.9 MiB [] 12% 8.5s\u001b[0K\u001b[1G164.9 MiB [] 13% 8.4s\u001b[0K\u001b[1G164.9 MiB [] 14% 7.9s\u001b[0K\u001b[1G164.9 MiB [] 14% 8.3s\u001b[0K\u001b[1G164.9 MiB [] 14% 8.2s\u001b[0K\u001b[1G164.9 MiB [] 15% 8.8s\u001b[0K\u001b[1G164.9 MiB [] 15% 9.0s\u001b[0K\u001b[1G164.9 MiB [] 16% 8.9s\u001b[0K\u001b[1G164.9 MiB [] 16% 8.8s\u001b[0K\u001b[1G164.9 MiB [] 16% 8.6s\u001b[0K\u001b[1G164.9 MiB [] 17% 8.7s\u001b[0K\u001b[1G164.9 MiB [] 17% 8.6s\u001b[0K\u001b[1G164.9 MiB [] 18% 8.6s\u001b[0K\u001b[1G164.9 MiB [] 18% 8.5s\u001b[0K\u001b[1G164.9 MiB [] 18% 8.4s\u001b[0K\u001b[1G164.9 MiB [] 19% 8.2s\u001b[0K\u001b[1G164.9 MiB [] 20% 8.0s\u001b[0K\u001b[1G164.9 MiB [] 20% 8.1s\u001b[0K\u001b[1G164.9 MiB [] 21% 7.9s\u001b[0K\u001b[1G164.9 MiB [] 22% 7.8s\u001b[0K\u001b[1G164.9 MiB [] 23% 7.5s\u001b[0K\u001b[1G164.9 MiB [] 23% 7.4s\u001b[0K\u001b[1G164.9 MiB [] 23% 7.5s\u001b[0K\u001b[1G164.9 MiB [] 23% 7.6s\u001b[0K\u001b[1G164.9 MiB [] 23% 7.5s\u001b[0K\u001b[1G164.9 MiB [] 24% 7.3s\u001b[0K\u001b[1G164.9 MiB [] 25% 7.1s\u001b[0K\u001b[1G164.9 MiB [] 25% 7.0s\u001b[0K\u001b[1G164.9 MiB [] 26% 6.5s\u001b[0K\u001b[1G164.9 MiB [] 27% 6.3s\u001b[0K\u001b[1G164.9 MiB [] 27% 6.4s\u001b[0K\u001b[1G164.9 MiB [] 28% 6.4s\u001b[0K\u001b[1G164.9 MiB [] 28% 6.3s\u001b[0K\u001b[1G164.9 MiB [] 29% 6.6s\u001b[0K\u001b[1G164.9 MiB [] 29% 6.8s\u001b[0K\u001b[1G164.9 MiB [] 30% 6.8s\u001b[0K\u001b[1G164.9 MiB [] 30% 6.7s\u001b[0K\u001b[1G164.9 MiB [] 31% 6.6s\u001b[0K\u001b[1G164.9 MiB [] 31% 6.5s\u001b[0K\u001b[1G164.9 MiB [] 32% 6.3s\u001b[0K\u001b[1G164.9 MiB [] 33% 6.1s\u001b[0K\u001b[1G164.9 MiB [] 34% 6.0s\u001b[0K\u001b[1G164.9 MiB [] 35% 5.8s\u001b[0K\u001b[1G164.9 MiB [] 35% 5.6s\u001b[0K\u001b[1G164.9 MiB [] 36% 5.5s\u001b[0K\u001b[1G164.9 MiB [] 37% 5.3s\u001b[0K\u001b[1G164.9 MiB [] 38% 5.3s\u001b[0K\u001b[1G164.9 MiB [] 38% 5.5s\u001b[0K\u001b[1G164.9 MiB [] 38% 5.7s\u001b[0K\u001b[1G164.9 MiB [] 39% 5.7s\u001b[0K\u001b[1G164.9 MiB [] 39% 5.6s\u001b[0K\u001b[1G164.9 MiB [] 40% 5.8s\u001b[0K\u001b[1G164.9 MiB [] 40% 5.9s\u001b[0K\u001b[1G164.9 MiB [] 40% 5.8s\u001b[0K\u001b[1G164.9 MiB [] 41% 5.7s\u001b[0K\u001b[1G164.9 MiB [] 41% 5.6s\u001b[0K\u001b[1G164.9 MiB [] 42% 5.6s\u001b[0K\u001b[1G164.9 MiB [] 43% 5.5s\u001b[0K\u001b[1G164.9 MiB [] 43% 5.6s\u001b[0K\u001b[1G164.9 MiB [] 44% 5.6s\u001b[0K\u001b[1G164.9 MiB [] 45% 5.6s\u001b[0K\u001b[1G164.9 MiB [] 45% 5.5s\u001b[0K\u001b[1G164.9 MiB [] 46% 5.5s\u001b[0K\u001b[1G164.9 MiB [] 46% 5.4s\u001b[0K\u001b[1G164.9 MiB [] 47% 5.4s\u001b[0K\u001b[1G164.9 MiB [] 47% 5.5s\u001b[0K\u001b[1G164.9 MiB [] 48% 5.5s\u001b[0K\u001b[1G164.9 MiB [] 48% 5.4s\u001b[0K\u001b[1G164.9 MiB [] 49% 5.3s\u001b[0K\u001b[1G164.9 MiB [] 50% 5.2s\u001b[0K\u001b[1G164.9 MiB [] 51% 5.2s\u001b[0K\u001b[1G164.9 MiB [] 51% 5.1s\u001b[0K\u001b[1G164.9 MiB [] 52% 5.2s\u001b[0K\u001b[1G164.9 MiB [] 53% 5.1s\u001b[0K\u001b[1G164.9 MiB [] 53% 5.0s\u001b[0K\u001b[1G164.9 MiB [] 54% 4.9s\u001b[0K\u001b[1G164.9 MiB [] 54% 4.8s\u001b[0K\u001b[1G164.9 MiB [] 55% 4.7s\u001b[0K\u001b[1G164.9 MiB [] 55% 4.6s\u001b[0K\u001b[1G164.9 MiB [] 56% 4.5s\u001b[0K\u001b[1G164.9 MiB [] 57% 4.4s\u001b[0K\u001b[1G164.9 MiB [] 57% 4.3s\u001b[0K\u001b[1G164.9 MiB [] 58% 4.4s\u001b[0K\u001b[1G164.9 MiB [] 59% 4.2s\u001b[0K\u001b[1G164.9 MiB [] 60% 4.1s\u001b[0K\u001b[1G164.9 MiB [] 61% 4.0s\u001b[0K\u001b[1G164.9 MiB [] 61% 3.9s\u001b[0K\u001b[1G164.9 MiB [] 62% 3.9s\u001b[0K\u001b[1G164.9 MiB [] 62% 3.8s\u001b[0K\u001b[1G164.9 MiB [] 63% 3.8s\u001b[0K\u001b[1G164.9 MiB [] 63% 3.7s\u001b[0K\u001b[1G164.9 MiB [] 64% 3.6s\u001b[0K\u001b[1G164.9 MiB [] 65% 3.5s\u001b[0K\u001b[1G164.9 MiB [] 65% 3.4s\u001b[0K\u001b[1G164.9 MiB [] 66% 3.4s\u001b[0K\u001b[1G164.9 MiB [] 66% 3.3s\u001b[0K\u001b[1G164.9 MiB [] 67% 3.3s\u001b[0K\u001b[1G164.9 MiB [] 67% 3.2s\u001b[0K\u001b[1G164.9 MiB [] 68% 3.2s\u001b[0K\u001b[1G164.9 MiB [] 68% 3.1s\u001b[0K\u001b[1G164.9 MiB [] 69% 3.0s\u001b[0K\u001b[1G164.9 MiB [] 70% 2.9s\u001b[0K\u001b[1G164.9 MiB [] 71% 2.8s\u001b[0K\u001b[1G164.9 MiB [] 72% 2.7s\u001b[0K\u001b[1G164.9 MiB [] 72% 2.6s\u001b[0K\u001b[1G164.9 MiB [] 73% 2.6s\u001b[0K\u001b[1G164.9 MiB [] 73% 2.5s\u001b[0K\u001b[1G164.9 MiB [] 74% 2.5s\u001b[0K\u001b[1G164.9 MiB [] 75% 2.4s\u001b[0K\u001b[1G164.9 MiB [] 75% 2.3s\u001b[0K\u001b[1G164.9 MiB [] 76% 2.2s\u001b[0K\u001b[1G164.9 MiB [] 77% 2.1s\u001b[0K\u001b[1G164.9 MiB [] 78% 2.0s\u001b[0K\u001b[1G164.9 MiB [] 79% 2.0s\u001b[0K\u001b[1G164.9 MiB [] 80% 1.9s\u001b[0K\u001b[1G164.9 MiB [] 81% 1.8s\u001b[0K\u001b[1G164.9 MiB [] 82% 1.7s\u001b[0K\u001b[1G164.9 MiB [] 83% 1.6s\u001b[0K\u001b[1G164.9 MiB [] 84% 1.5s\u001b[0K\u001b[1G164.9 MiB [] 84% 1.4s\u001b[0K\u001b[1G164.9 MiB [] 85% 1.4s\u001b[0K\u001b[1G164.9 MiB [] 85% 1.3s\u001b[0K\u001b[1G164.9 MiB [] 86% 1.3s\u001b[0K\u001b[1G164.9 MiB [] 87% 1.3s\u001b[0K\u001b[1G164.9 MiB [] 87% 1.2s\u001b[0K\u001b[1G164.9 MiB [] 88% 1.1s\u001b[0K\u001b[1G164.9 MiB [] 89% 1.0s\u001b[0K\u001b[1G164.9 MiB [] 90% 0.9s\u001b[0K\u001b[1G164.9 MiB [] 91% 0.9s\u001b[0K\u001b[1G164.9 MiB [] 92% 0.8s\u001b[0K\u001b[1G164.9 MiB [] 93% 0.7s\u001b[0K\u001b[1G164.9 MiB [] 93% 0.6s\u001b[0K\u001b[1G164.9 MiB [] 94% 0.5s\u001b[0K\u001b[1G164.9 MiB [] 95% 0.4s\u001b[0K\u001b[1G164.9 MiB [] 96% 0.4s\u001b[0K\u001b[1G164.9 MiB [] 96% 0.3s\u001b[0K\u001b[1G164.9 MiB [] 97% 0.3s\u001b[0K\u001b[1G164.9 MiB [] 97% 0.2s\u001b[0K\u001b[1G164.9 MiB [] 98% 0.2s\u001b[0K\u001b[1G164.9 MiB [] 98% 0.1s\u001b[0K\u001b[1G164.9 MiB [] 99% 0.1s\u001b[0K\u001b[1G164.9 MiB [] 100% 0.0s\u001b[0K\n",
            "Chromium 134.0.6998.35 (playwright build v1161) downloaded to /root/.cache/ms-playwright/chromium-1161\n",
            "Downloading Chromium Headless Shell 134.0.6998.35 (playwright build v1161)\u001b[2m from https://cdn.playwright.dev/dbazure/download/playwright/builds/chromium/1161/chromium-headless-shell-linux.zip\u001b[22m\n",
            "\u001b[1G100.9 MiB [] 0% 0.0s\u001b[0K\u001b[1G100.9 MiB [] 0% 460.6s\u001b[0K\u001b[1G100.9 MiB [] 0% 508.5s\u001b[0K\u001b[1G100.9 MiB [] 0% 383.8s\u001b[0K\u001b[1G100.9 MiB [] 0% 232.9s\u001b[0K\u001b[1G100.9 MiB [] 0% 204.6s\u001b[0K\u001b[1G100.9 MiB [] 0% 145.2s\u001b[0K\u001b[1G100.9 MiB [] 0% 73.0s\u001b[0K\u001b[1G100.9 MiB [] 0% 33.1s\u001b[0K\u001b[1G100.9 MiB [] 0% 27.1s\u001b[0K\u001b[1G100.9 MiB [] 0% 24.1s\u001b[0K\u001b[1G100.9 MiB [] 1% 21.4s\u001b[0K\u001b[1G100.9 MiB [] 1% 18.4s\u001b[0K\u001b[1G100.9 MiB [] 1% 18.1s\u001b[0K\u001b[1G100.9 MiB [] 1% 15.9s\u001b[0K\u001b[1G100.9 MiB [] 2% 14.4s\u001b[0K\u001b[1G100.9 MiB [] 2% 14.3s\u001b[0K\u001b[1G100.9 MiB [] 2% 13.6s\u001b[0K\u001b[1G100.9 MiB [] 2% 13.8s\u001b[0K\u001b[1G100.9 MiB [] 2% 13.7s\u001b[0K\u001b[1G100.9 MiB [] 3% 13.6s\u001b[0K\u001b[1G100.9 MiB [] 3% 13.0s\u001b[0K\u001b[1G100.9 MiB [] 3% 12.8s\u001b[0K\u001b[1G100.9 MiB [] 3% 13.0s\u001b[0K\u001b[1G100.9 MiB [] 3% 12.7s\u001b[0K\u001b[1G100.9 MiB [] 4% 12.5s\u001b[0K\u001b[1G100.9 MiB [] 4% 12.2s\u001b[0K\u001b[1G100.9 MiB [] 4% 12.1s\u001b[0K\u001b[1G100.9 MiB [] 5% 11.8s\u001b[0K\u001b[1G100.9 MiB [] 5% 11.5s\u001b[0K\u001b[1G100.9 MiB [] 5% 11.3s\u001b[0K\u001b[1G100.9 MiB [] 5% 10.9s\u001b[0K\u001b[1G100.9 MiB [] 6% 10.7s\u001b[0K\u001b[1G100.9 MiB [] 6% 10.5s\u001b[0K\u001b[1G100.9 MiB [] 6% 10.2s\u001b[0K\u001b[1G100.9 MiB [] 6% 9.9s\u001b[0K\u001b[1G100.9 MiB [] 7% 9.8s\u001b[0K\u001b[1G100.9 MiB [] 7% 9.7s\u001b[0K\u001b[1G100.9 MiB [] 7% 9.6s\u001b[0K\u001b[1G100.9 MiB [] 8% 9.6s\u001b[0K\u001b[1G100.9 MiB [] 8% 9.4s\u001b[0K\u001b[1G100.9 MiB [] 8% 9.5s\u001b[0K\u001b[1G100.9 MiB [] 8% 9.4s\u001b[0K\u001b[1G100.9 MiB [] 9% 9.2s\u001b[0K\u001b[1G100.9 MiB [] 9% 9.1s\u001b[0K\u001b[1G100.9 MiB [] 9% 9.0s\u001b[0K\u001b[1G100.9 MiB [] 9% 8.9s\u001b[0K\u001b[1G100.9 MiB [] 10% 8.9s\u001b[0K\u001b[1G100.9 MiB [] 10% 8.8s\u001b[0K\u001b[1G100.9 MiB [] 10% 9.1s\u001b[0K\u001b[1G100.9 MiB [] 10% 9.2s\u001b[0K\u001b[1G100.9 MiB [] 11% 9.1s\u001b[0K\u001b[1G100.9 MiB [] 11% 9.4s\u001b[0K\u001b[1G100.9 MiB [] 11% 9.5s\u001b[0K\u001b[1G100.9 MiB [] 11% 9.6s\u001b[0K\u001b[1G100.9 MiB [] 11% 9.5s\u001b[0K\u001b[1G100.9 MiB [] 11% 9.6s\u001b[0K\u001b[1G100.9 MiB [] 12% 9.7s\u001b[0K\u001b[1G100.9 MiB [] 12% 9.6s\u001b[0K\u001b[1G100.9 MiB [] 12% 9.4s\u001b[0K\u001b[1G100.9 MiB [] 13% 9.3s\u001b[0K\u001b[1G100.9 MiB [] 13% 9.2s\u001b[0K\u001b[1G100.9 MiB [] 13% 9.1s\u001b[0K\u001b[1G100.9 MiB [] 13% 9.0s\u001b[0K\u001b[1G100.9 MiB [] 14% 8.7s\u001b[0K\u001b[1G100.9 MiB [] 14% 8.6s\u001b[0K\u001b[1G100.9 MiB [] 15% 8.5s\u001b[0K\u001b[1G100.9 MiB [] 15% 8.6s\u001b[0K\u001b[1G100.9 MiB [] 15% 8.5s\u001b[0K\u001b[1G100.9 MiB [] 16% 8.4s\u001b[0K\u001b[1G100.9 MiB [] 16% 8.5s\u001b[0K\u001b[1G100.9 MiB [] 16% 8.4s\u001b[0K\u001b[1G100.9 MiB [] 17% 8.4s\u001b[0K\u001b[1G100.9 MiB [] 17% 8.5s\u001b[0K\u001b[1G100.9 MiB [] 17% 8.4s\u001b[0K\u001b[1G100.9 MiB [] 18% 8.3s\u001b[0K\u001b[1G100.9 MiB [] 18% 8.2s\u001b[0K\u001b[1G100.9 MiB [] 18% 8.1s\u001b[0K\u001b[1G100.9 MiB [] 19% 8.0s\u001b[0K\u001b[1G100.9 MiB [] 19% 7.9s\u001b[0K\u001b[1G100.9 MiB [] 19% 7.8s\u001b[0K\u001b[1G100.9 MiB [] 20% 7.6s\u001b[0K\u001b[1G100.9 MiB [] 20% 7.5s\u001b[0K\u001b[1G100.9 MiB [] 20% 7.4s\u001b[0K\u001b[1G100.9 MiB [] 21% 7.4s\u001b[0K\u001b[1G100.9 MiB [] 21% 7.3s\u001b[0K\u001b[1G100.9 MiB [] 22% 7.2s\u001b[0K\u001b[1G100.9 MiB [] 22% 7.3s\u001b[0K\u001b[1G100.9 MiB [] 22% 7.4s\u001b[0K\u001b[1G100.9 MiB [] 22% 7.3s\u001b[0K\u001b[1G100.9 MiB [] 23% 7.2s\u001b[0K\u001b[1G100.9 MiB [] 23% 7.1s\u001b[0K\u001b[1G100.9 MiB [] 24% 7.0s\u001b[0K\u001b[1G100.9 MiB [] 24% 6.9s\u001b[0K\u001b[1G100.9 MiB [] 25% 6.8s\u001b[0K\u001b[1G100.9 MiB [] 25% 6.7s\u001b[0K\u001b[1G100.9 MiB [] 26% 6.6s\u001b[0K\u001b[1G100.9 MiB [] 26% 6.7s\u001b[0K\u001b[1G100.9 MiB [] 26% 6.6s\u001b[0K\u001b[1G100.9 MiB [] 27% 6.6s\u001b[0K\u001b[1G100.9 MiB [] 28% 6.5s\u001b[0K\u001b[1G100.9 MiB [] 28% 6.3s\u001b[0K\u001b[1G100.9 MiB [] 30% 5.9s\u001b[0K\u001b[1G100.9 MiB [] 32% 5.5s\u001b[0K\u001b[1G100.9 MiB [] 34% 5.0s\u001b[0K\u001b[1G100.9 MiB [] 36% 4.6s\u001b[0K\u001b[1G100.9 MiB [] 38% 4.3s\u001b[0K\u001b[1G100.9 MiB [] 39% 4.1s\u001b[0K\u001b[1G100.9 MiB [] 41% 3.7s\u001b[0K\u001b[1G100.9 MiB [] 43% 3.4s\u001b[0K\u001b[1G100.9 MiB [] 45% 3.2s\u001b[0K\u001b[1G100.9 MiB [] 46% 3.1s\u001b[0K\u001b[1G100.9 MiB [] 48% 3.0s\u001b[0K\u001b[1G100.9 MiB [] 50% 2.7s\u001b[0K\u001b[1G100.9 MiB [] 53% 2.4s\u001b[0K\u001b[1G100.9 MiB [] 55% 2.3s\u001b[0K\u001b[1G100.9 MiB [] 57% 2.1s\u001b[0K\u001b[1G100.9 MiB [] 59% 1.9s\u001b[0K\u001b[1G100.9 MiB [] 62% 1.7s\u001b[0K\u001b[1G100.9 MiB [] 64% 1.6s\u001b[0K\u001b[1G100.9 MiB [] 67% 1.4s\u001b[0K\u001b[1G100.9 MiB [] 70% 1.2s\u001b[0K\u001b[1G100.9 MiB [] 72% 1.1s\u001b[0K\u001b[1G100.9 MiB [] 74% 1.0s\u001b[0K\u001b[1G100.9 MiB [] 77% 0.9s\u001b[0K\u001b[1G100.9 MiB [] 79% 0.8s\u001b[0K\u001b[1G100.9 MiB [] 81% 0.7s\u001b[0K\u001b[1G100.9 MiB [] 84% 0.5s\u001b[0K\u001b[1G100.9 MiB [] 87% 0.4s\u001b[0K\u001b[1G100.9 MiB [] 90% 0.3s\u001b[0K\u001b[1G100.9 MiB [] 92% 0.3s\u001b[0K\u001b[1G100.9 MiB [] 94% 0.2s\u001b[0K\u001b[1G100.9 MiB [] 96% 0.1s\u001b[0K\u001b[1G100.9 MiB [] 99% 0.0s\u001b[0K\u001b[1G100.9 MiB [] 100% 0.0s\u001b[0K\n",
            "Chromium Headless Shell 134.0.6998.35 (playwright build v1161) downloaded to /root/.cache/ms-playwright/chromium_headless_shell-1161\n",
            "Downloading Firefox 135.0 (playwright build v1475)\u001b[2m from https://cdn.playwright.dev/dbazure/download/playwright/builds/firefox/1475/firefox-ubuntu-22.04.zip\u001b[22m\n",
            "\u001b[1G90.6 MiB [] 0% 0.0s\u001b[0K\u001b[1G90.6 MiB [] 0% 2.6s\u001b[0K\u001b[1G90.6 MiB [] 1% 2.0s\u001b[0K\u001b[1G90.6 MiB [] 2% 1.8s\u001b[0K\u001b[1G90.6 MiB [] 3% 1.8s\u001b[0K\u001b[1G90.6 MiB [] 4% 1.7s\u001b[0K\u001b[1G90.6 MiB [] 5% 1.7s\u001b[0K\u001b[1G90.6 MiB [] 6% 1.7s\u001b[0K\u001b[1G90.6 MiB [] 7% 1.6s\u001b[0K\u001b[1G90.6 MiB [] 8% 1.5s\u001b[0K\u001b[1G90.6 MiB [] 9% 1.5s\u001b[0K\u001b[1G90.6 MiB [] 10% 1.5s\u001b[0K\u001b[1G90.6 MiB [] 11% 1.5s\u001b[0K\u001b[1G90.6 MiB [] 12% 1.5s\u001b[0K\u001b[1G90.6 MiB [] 12% 1.7s\u001b[0K\u001b[1G90.6 MiB [] 12% 1.8s\u001b[0K\u001b[1G90.6 MiB [] 13% 1.8s\u001b[0K\u001b[1G90.6 MiB [] 14% 1.7s\u001b[0K\u001b[1G90.6 MiB [] 15% 1.7s\u001b[0K\u001b[1G90.6 MiB [] 16% 1.6s\u001b[0K\u001b[1G90.6 MiB [] 17% 1.7s\u001b[0K\u001b[1G90.6 MiB [] 18% 1.6s\u001b[0K\u001b[1G90.6 MiB [] 20% 1.6s\u001b[0K\u001b[1G90.6 MiB [] 21% 1.5s\u001b[0K\u001b[1G90.6 MiB [] 22% 1.5s\u001b[0K\u001b[1G90.6 MiB [] 23% 1.4s\u001b[0K\u001b[1G90.6 MiB [] 24% 1.4s\u001b[0K\u001b[1G90.6 MiB [] 25% 1.4s\u001b[0K\u001b[1G90.6 MiB [] 26% 1.4s\u001b[0K\u001b[1G90.6 MiB [] 28% 1.3s\u001b[0K\u001b[1G90.6 MiB [] 30% 1.2s\u001b[0K\u001b[1G90.6 MiB [] 32% 1.2s\u001b[0K\u001b[1G90.6 MiB [] 33% 1.1s\u001b[0K\u001b[1G90.6 MiB [] 35% 1.1s\u001b[0K\u001b[1G90.6 MiB [] 36% 1.1s\u001b[0K\u001b[1G90.6 MiB [] 37% 1.0s\u001b[0K\u001b[1G90.6 MiB [] 38% 1.0s\u001b[0K\u001b[1G90.6 MiB [] 40% 1.0s\u001b[0K\u001b[1G90.6 MiB [] 41% 1.0s\u001b[0K\u001b[1G90.6 MiB [] 42% 0.9s\u001b[0K\u001b[1G90.6 MiB [] 43% 0.9s\u001b[0K\u001b[1G90.6 MiB [] 44% 0.9s\u001b[0K\u001b[1G90.6 MiB [] 45% 0.9s\u001b[0K\u001b[1G90.6 MiB [] 47% 0.9s\u001b[0K\u001b[1G90.6 MiB [] 48% 0.8s\u001b[0K\u001b[1G90.6 MiB [] 49% 0.8s\u001b[0K\u001b[1G90.6 MiB [] 50% 0.8s\u001b[0K\u001b[1G90.6 MiB [] 51% 0.8s\u001b[0K\u001b[1G90.6 MiB [] 53% 0.7s\u001b[0K\u001b[1G90.6 MiB [] 56% 0.7s\u001b[0K\u001b[1G90.6 MiB [] 57% 0.6s\u001b[0K\u001b[1G90.6 MiB [] 60% 0.6s\u001b[0K\u001b[1G90.6 MiB [] 63% 0.5s\u001b[0K\u001b[1G90.6 MiB [] 66% 0.5s\u001b[0K\u001b[1G90.6 MiB [] 68% 0.4s\u001b[0K\u001b[1G90.6 MiB [] 71% 0.4s\u001b[0K\u001b[1G90.6 MiB [] 74% 0.3s\u001b[0K\u001b[1G90.6 MiB [] 76% 0.3s\u001b[0K\u001b[1G90.6 MiB [] 78% 0.3s\u001b[0K\u001b[1G90.6 MiB [] 80% 0.2s\u001b[0K\u001b[1G90.6 MiB [] 83% 0.2s\u001b[0K\u001b[1G90.6 MiB [] 86% 0.2s\u001b[0K\u001b[1G90.6 MiB [] 89% 0.1s\u001b[0K\u001b[1G90.6 MiB [] 91% 0.1s\u001b[0K\u001b[1G90.6 MiB [] 93% 0.1s\u001b[0K\u001b[1G90.6 MiB [] 96% 0.0s\u001b[0K\u001b[1G90.6 MiB [] 99% 0.0s\u001b[0K\u001b[1G90.6 MiB [] 100% 0.0s\u001b[0K\n",
            "Firefox 135.0 (playwright build v1475) downloaded to /root/.cache/ms-playwright/firefox-1475\n",
            "Downloading Webkit 18.4 (playwright build v2140)\u001b[2m from https://cdn.playwright.dev/dbazure/download/playwright/builds/webkit/2140/webkit-ubuntu-22.04.zip\u001b[22m\n",
            "\u001b[1G92.3 MiB [] 0% 0.0s\u001b[0K\u001b[1G92.3 MiB [] 0% 2.2s\u001b[0K\u001b[1G92.3 MiB [] 2% 1.4s\u001b[0K\u001b[1G92.3 MiB [] 3% 1.2s\u001b[0K\u001b[1G92.3 MiB [] 5% 1.1s\u001b[0K\u001b[1G92.3 MiB [] 7% 1.0s\u001b[0K\u001b[1G92.3 MiB [] 9% 0.9s\u001b[0K\u001b[1G92.3 MiB [] 10% 0.9s\u001b[0K\u001b[1G92.3 MiB [] 11% 1.0s\u001b[0K\u001b[1G92.3 MiB [] 13% 1.0s\u001b[0K\u001b[1G92.3 MiB [] 15% 0.9s\u001b[0K\u001b[1G92.3 MiB [] 16% 0.9s\u001b[0K\u001b[1G92.3 MiB [] 18% 0.9s\u001b[0K\u001b[1G92.3 MiB [] 19% 0.9s\u001b[0K\u001b[1G92.3 MiB [] 21% 0.8s\u001b[0K\u001b[1G92.3 MiB [] 24% 0.8s\u001b[0K\u001b[1G92.3 MiB [] 25% 0.8s\u001b[0K\u001b[1G92.3 MiB [] 27% 0.8s\u001b[0K\u001b[1G92.3 MiB [] 29% 0.7s\u001b[0K\u001b[1G92.3 MiB [] 31% 0.7s\u001b[0K\u001b[1G92.3 MiB [] 33% 0.6s\u001b[0K\u001b[1G92.3 MiB [] 36% 0.6s\u001b[0K\u001b[1G92.3 MiB [] 38% 0.6s\u001b[0K\u001b[1G92.3 MiB [] 40% 0.5s\u001b[0K\u001b[1G92.3 MiB [] 43% 0.5s\u001b[0K\u001b[1G92.3 MiB [] 45% 0.5s\u001b[0K\u001b[1G92.3 MiB [] 48% 0.5s\u001b[0K\u001b[1G92.3 MiB [] 49% 0.5s\u001b[0K\u001b[1G92.3 MiB [] 51% 0.4s\u001b[0K\u001b[1G92.3 MiB [] 53% 0.4s\u001b[0K\u001b[1G92.3 MiB [] 55% 0.4s\u001b[0K\u001b[1G92.3 MiB [] 57% 0.4s\u001b[0K\u001b[1G92.3 MiB [] 59% 0.4s\u001b[0K\u001b[1G92.3 MiB [] 60% 0.3s\u001b[0K\u001b[1G92.3 MiB [] 63% 0.3s\u001b[0K\u001b[1G92.3 MiB [] 66% 0.3s\u001b[0K\u001b[1G92.3 MiB [] 69% 0.3s\u001b[0K\u001b[1G92.3 MiB [] 72% 0.2s\u001b[0K\u001b[1G92.3 MiB [] 74% 0.2s\u001b[0K\u001b[1G92.3 MiB [] 76% 0.2s\u001b[0K\u001b[1G92.3 MiB [] 79% 0.2s\u001b[0K\u001b[1G92.3 MiB [] 80% 0.2s\u001b[0K\u001b[1G92.3 MiB [] 83% 0.1s\u001b[0K\u001b[1G92.3 MiB [] 84% 0.1s\u001b[0K\u001b[1G92.3 MiB [] 86% 0.1s\u001b[0K\u001b[1G92.3 MiB [] 88% 0.1s\u001b[0K\u001b[1G92.3 MiB [] 89% 0.1s\u001b[0K\u001b[1G92.3 MiB [] 91% 0.1s\u001b[0K\u001b[1G92.3 MiB [] 92% 0.1s\u001b[0K\u001b[1G92.3 MiB [] 94% 0.0s\u001b[0K\u001b[1G92.3 MiB [] 95% 0.0s\u001b[0K\u001b[1G92.3 MiB [] 96% 0.0s\u001b[0K\u001b[1G92.3 MiB [] 98% 0.0s\u001b[0K\u001b[1G92.3 MiB [] 100% 0.0s\u001b[0K\n",
            "Webkit 18.4 (playwright build v2140) downloaded to /root/.cache/ms-playwright/webkit-2140\n",
            "Downloading FFMPEG playwright build v1011\u001b[2m from https://cdn.playwright.dev/dbazure/download/playwright/builds/ffmpeg/1011/ffmpeg-linux.zip\u001b[22m\n",
            "\u001b[1G2.3 MiB [] 0% 0.0s\u001b[0K\u001b[1G2.3 MiB [] 28% 0.0s\u001b[0K\u001b[1G2.3 MiB [] 94% 0.0s\u001b[0K\u001b[1G2.3 MiB [] 100% 0.0s\u001b[0K\n",
            "FFMPEG playwright build v1011 downloaded to /root/.cache/ms-playwright/ffmpeg-1011\n",
            "Playwright Host validation warning: \n",
            "╔══════════════════════════════════════════════════════╗\n",
            "║ Host system is missing dependencies to run browsers. ║\n",
            "║ Missing libraries:                                   ║\n",
            "║     libwoff2dec.so.1.0.2                             ║\n",
            "║     libgstgl-1.0.so.0                                ║\n",
            "║     libgstcodecparsers-1.0.so.0                      ║\n",
            "║     libavif.so.13                                    ║\n",
            "║     libharfbuzz-icu.so.0                             ║\n",
            "║     libenchant-2.so.2                                ║\n",
            "║     libsecret-1.so.0                                 ║\n",
            "║     libhyphen.so.0                                   ║\n",
            "║     libmanette-0.2.so.0                              ║\n",
            "╚══════════════════════════════════════════════════════╝\n",
            "    at validateDependenciesLinux (/usr/local/lib/python3.11/dist-packages/playwright/driver/package/lib/server/registry/dependencies.js:216:9)\n",
            "\u001b[90m    at process.processTicksAndRejections (node:internal/process/task_queues:105:5)\u001b[39m\n",
            "    at async Registry._validateHostRequirements (/usr/local/lib/python3.11/dist-packages/playwright/driver/package/lib/server/registry/index.js:859:52)\n",
            "    at async Registry._validateHostRequirementsForExecutableIfNeeded (/usr/local/lib/python3.11/dist-packages/playwright/driver/package/lib/server/registry/index.js:957:7)\n",
            "    at async Registry.validateHostRequirementsForExecutablesIfNeeded (/usr/local/lib/python3.11/dist-packages/playwright/driver/package/lib/server/registry/index.js:946:43)\n",
            "    at async t.<anonymous> (/usr/local/lib/python3.11/dist-packages/playwright/driver/package/lib/cli/program.js:122:7)\n"
          ]
        }
      ]
    },
    {
      "cell_type": "code",
      "source": [
        "import os\n",
        "\n",
        "# Словари для хранения диагнозов и кодов МКБ-10\n",
        "diagnoses = {\n",
        "    \"Грипп\": \"J10\",\n",
        "    \"Пневмония\": \"J18\",\n",
        "    \"Диабет\": \"E11\"\n",
        "}\n",
        "\n",
        "icd_codes = {\n",
        "    \"J10\": \"грипп\",\n",
        "    \"J18\": \"пневмония\",\n",
        "    \"E11\": \"диабет\"\n",
        "}\n",
        "\n",
        "# Словарь для связывания кодов МКБ с PDF-файлами\n",
        "pdf_files = {\n",
        "    \"J10\": \"грипп.pdf\",\n",
        "    \"J18\": \"пневмония.pdf\",\n",
        "    \"E11\": \"диабет.pdf\"\n",
        "}\n",
        "\n",
        "def get_icd_code(diagnosis):\n",
        "    return diagnoses.get(diagnosis)\n",
        "\n",
        "def main():\n",
        "    # Запрос диагноза у пользователя\n",
        "    diagnosis = input(\"Введите диагноз: \")\n",
        "\n",
        "    # Получение кода МКБ-10\n",
        "    icd_code = get_icd_code(diagnosis)\n",
        "\n",
        "    if icd_code:\n",
        "        print(f\"Код МКБ-10 для '{diagnosis}': {icd_code}\")\n",
        "        confirmation = input(\"Подтверждаете? (да/нет): \").strip().lower()\n",
        "\n",
        "        if confirmation == \"да\":\n",
        "            # Проверка наличия PDF-файла\n",
        "            pdf_file = pdf_files.get(icd_code)\n",
        "            if pdf_file and os.path.exists(pdf_file):\n",
        "                print(f\"Загружаем файл: {pdf_file}\")\n",
        "                # Здесь можно добавить код для открытия PDF-файла\n",
        "            else:\n",
        "                print(\"PDF-файл не найден.\")\n",
        "        else:\n",
        "            print(\"Введите другой диагноз.\")\n",
        "            # Можно добавить логику для поиска другого кода МКБ-10\n",
        "    else:\n",
        "        print(\"Диагноз не найден.\")\n",
        "\n",
        "if __name__ == \"__main__\":\n",
        "    main()"
      ],
      "metadata": {
        "colab": {
          "base_uri": "https://localhost:8080/"
        },
        "id": "PdyI6fsud2en",
        "outputId": "64014159-794b-4920-d8bb-a70989ba0b74"
      },
      "execution_count": 9,
      "outputs": [
        {
          "output_type": "stream",
          "name": "stdout",
          "text": [
            "Введите диагноз: Грипп\n",
            "Код МКБ-10 для 'Грипп': J10\n",
            "Подтверждаете? (да/нет): да\n",
            "PDF-файл не найден.\n"
          ]
        }
      ]
    },
    {
      "cell_type": "markdown",
      "source": [
        "### Сбор информации о клинических рекомендациях\n"
      ],
      "metadata": {
        "id": "sOBFNlFbE7-g"
      }
    },
    {
      "cell_type": "code",
      "source": [
        "%%writefile parser.py\n",
        "\n",
        "from langchain_community.document_loaders import AsyncChromiumLoader\n",
        "from bs4 import BeautifulSoup\n",
        "\n",
        "# Инициализируем загрузчик\n",
        "loader = AsyncChromiumLoader([\"https://org.gnicpm.ru/pomosh/klinicheskie-rekomendaczii.html\"])\n",
        "html = loader.load()\n",
        "articles = 'download'\n",
        "with open('page.html', 'w') as f:\n",
        "  f.write(html[0].page_content)\n",
        "soup = BeautifulSoup(html[0].page_content, 'html.parser')\n",
        "links = []\n",
        "with open('links.txt', 'w') as f:\n",
        "  for link in soup.find_all('a', class_=articles):\n",
        "    print(link)\n",
        "    links.append(link['href'])\n",
        "    f.write(link['href']+' ')\n"
      ],
      "metadata": {
        "id": "W4sZ74bw1vdk",
        "colab": {
          "base_uri": "https://localhost:8080/"
        },
        "outputId": "c0f5c618-acd4-4a0a-d698-2b88aba24c37"
      },
      "execution_count": 10,
      "outputs": [
        {
          "output_type": "stream",
          "name": "stdout",
          "text": [
            "Writing parser.py\n"
          ]
        }
      ]
    },
    {
      "cell_type": "code",
      "source": [
        "!python parser.py"
      ],
      "metadata": {
        "id": "z80wOeSRwpVa",
        "colab": {
          "base_uri": "https://localhost:8080/"
        },
        "outputId": "124568a3-6e5f-49fc-829b-94ceb300de80"
      },
      "execution_count": 11,
      "outputs": [
        {
          "output_type": "stream",
          "name": "stdout",
          "text": [
            "USER_AGENT environment variable not set, consider setting it to identify your requests.\n",
            "<a class=\"download\" href=\"https://org.gnicpm.ru/wp-content/uploads/2024/01/323-fz.pdf\">Федеральный закон от 21.11.2011 № 323-ФЗ (ред. от 25.12.2023) «Об основах охраны здоровья граждан в Российской Федерации»</a>\n",
            "<a class=\"download\" href=\"https://org.gnicpm.ru/wp-content/uploads/2024/04/pp-rf-ot-17.11.2021-№1968.pdf\">Постановление Правительства РФ от 17.11.2021 № 1968 (ред. от 14.03.2024) «Об утверждении Правил поэтапного перехода медицинских организаций к оказанию медицинской помощи на основе клинических рекомендаций, разработанных и утвержденных в соответствии с частями 3, 4, 6 — 9 и 11 статьи 37 Федерального закона «Об основах охраны здоровья граждан в Российской Федерации»</a>\n",
            "<a class=\"download\" href=\"https://org.gnicpm.ru/wp-content/uploads/2024/05/postanovlenie-pravitelstva-rf-ot-28_12_2023-n-2353-v-redakczii-ot-23.03.2024g.pdf\">Постановление Правительства Российской Федерации от 28.12.2023 № 2353 «О Программе государственных гарантий бесплатного оказания гражданам медицинской помощи на 2024 год и на плановый период 2025 и 2026 годов»</a>\n",
            "<a class=\"download\" href=\"https://org.gnicpm.ru/wp-content/uploads/2024/04/pp-ot-14.03.2024-№299.pdf\">Постановление Правительства РФ от 14.03.2024 № 299 «О внесении изменений в постановление Правительства Российской Федерации от 17 ноября 2021 г. № 1968»</a>\n",
            "<a class=\"download\" href=\"https://cr.minzdrav.gov.ru/preview-cr/62_3\" rel=\"noopener\" target=\"_blank\">Артериальная гипертензия у взрослых</a>\n",
            "<a class=\"download\" href=\"https://cr.minzdrav.gov.ru/preview-cr/155_2\" rel=\"noopener\" target=\"blank\">Стабильная ишемическая болезнь сердца</a>\n",
            "<a class=\"download\" href=\"https://cr.minzdrav.gov.ru/preview-cr/160_1\" rel=\"noopener\" target=\"_blank\">Брадиаритмии и нарушения проводимости</a>\n",
            "<a class=\"download\" href=\"https://cr.minzdrav.gov.ru/preview-cr/382_1\" rel=\"noopener\" target=\"_blank\">Фибрилляция и трепетание предсердий у взрослых</a>\n",
            "<a class=\"download\" href=\"https://cr.minzdrav.gov.ru/preview-cr/619_2\" rel=\"noopener\" target=\"_blank\">Наджелудочковые тахикардии</a>\n",
            "<a class=\"download\" href=\"https://cr.minzdrav.gov.ru/preview-cr/569_1\" rel=\"noopener\" target=\"_blank\">Желудочковые нарушения ритма. Желудочковые тахикардии и внезапная сердечная смерть</a>\n",
            "<a class=\"download\" href=\"https://cr.minzdrav.gov.ru/preview-cr/156_2\" rel=\"noopener\" target=\"_blank\">Хроническая сердечная недостаточность</a>\n",
            "<a class=\"download\" href=\"https://cr.minzdrav.gov.ru/preview-cr/752_1\" rel=\"noopener\" target=\"_blank\">Нарушения липидного обмена</a>\n",
            "<a class=\"download\" href=\"https://cr.minzdrav.gov.ru/preview-cr/290_2\" rel=\"noopener\" target=\"_blank\">Сахарный диабет 2 типа у взрослых</a>\n",
            "<a class=\"download\" href=\"https://cr.minzdrav.gov.ru/preview-cr/277_1\" rel=\"noopener\" target=\"_blank\">Язвенная болезнь</a>\n",
            "<a class=\"download\" href=\"https://cr.minzdrav.gov.ru/preview-cr/273_4\" rel=\"noopener\" target=\"_blank\">Хронический панкреатит</a>\n",
            "<a class=\"download\" href=\"https://cr.minzdrav.gov.ru/preview-cr/655_1\" rel=\"noopener\" target=\"_blank\">Хронический бронхит</a>\n",
            "<a class=\"download\" href=\"https://cr.minzdrav.gov.ru/preview-cr/603_2\" rel=\"noopener\" target=\"_blank\">Хроническая обструктивная болезнь легких</a>\n",
            "<a class=\"download\" href=\"https://cr.minzdrav.gov.ru/preview-cr/359_3\" rel=\"noopener\" target=\"_blank\">Бронхиальная астма</a>\n",
            "<a class=\"download\" href=\"https://cr.minzdrav.gov.ru/preview-cr/654_1\" rel=\"noopener\" target=\"_blank\">Внебольничная пневмония у взрослых</a>\n",
            "<a class=\"download\" href=\"https://cr.minzdrav.gov.ru/preview-cr/677_1\" rel=\"noopener\" target=\"_blank\">Идиопатический легочный фиброз</a>\n",
            "<a class=\"download\" href=\"https://cr.minzdrav.gov.ru/preview-cr/469_3\" rel=\"noopener\" target=\"_blank\">Хроническая болезнь почек (ХБП)</a>\n",
            "<a class=\"download\" href=\"https://cr.minzdrav.gov.ru/preview-cr/708_2\" rel=\"noopener\" target=\"_blank\">Гастрит и дуоденит</a>\n",
            "<a class=\"download\" href=\"https://cr.minzdrav.gov.ru/preview-cr/738_1\" rel=\"noopener\" target=\"_blank\">Аденоматозный полипозный синдром</a>\n",
            "<a class=\"download\" href=\"https://cr.minzdrav.gov.ru/preview-cr/173_2\" rel=\"noopener\" target=\"_blank\">Полип анального канала</a>\n",
            "<a class=\"download\" href=\"https://cr.minzdrav.gov.ru/preview-cr/176_2\" rel=\"noopener\" target=\"_blank\">Болезнь Крона</a>\n",
            "<a class=\"download\" href=\"https://cr.minzdrav.gov.ru/preview-cr/193_2\" rel=\"noopener\" target=\"_blank\">Язвенный колит</a>\n",
            "<a class=\"download\" href=\"https://cr.minzdrav.gov.ru/preview-cr/711_2\" rel=\"noopener\" target=\"_blank\">Алкогольная болезнь печени</a>\n",
            "<a class=\"download\" href=\"https://cr.minzdrav.gov.ru/preview-cr/715_1\" rel=\"noopener\" target=\"_blank\">Цирроз и фиброз печени</a>\n",
            "<a class=\"download\" href=\"https://cr.minzdrav.gov.ru/preview-cr/748_1\" rel=\"noopener\" target=\"_blank\">Неалкогольная жировая болезнь печени у взрослых</a>\n",
            "<a class=\"download\" href=\"https://cr.minzdrav.gov.ru/preview-cr/783_1\" rel=\"noopener\" target=\"_blank\">Гиперчувствительный пневмонит</a>\n"
          ]
        }
      ]
    },
    {
      "cell_type": "markdown",
      "source": [
        "## Подготовка фрагментов статей, векторизация и загрузка в векторную БД\n",
        "\n",
        "Откроем файл со ссылками."
      ],
      "metadata": {
        "id": "oI9-sMh7jwbp"
      }
    },
    {
      "cell_type": "code",
      "source": [
        "\n",
        "with open('links.txt') as f:\n",
        "  sources = f.read()\n",
        "\n",
        "print(sources.split())\n"
      ],
      "metadata": {
        "id": "0nskjcYvPf34",
        "colab": {
          "base_uri": "https://localhost:8080/"
        },
        "outputId": "0e3abcb9-c437-4199-d0cd-370cbc5a9f59"
      },
      "execution_count": 12,
      "outputs": [
        {
          "output_type": "stream",
          "name": "stdout",
          "text": [
            "['https://org.gnicpm.ru/wp-content/uploads/2024/01/323-fz.pdf', 'https://org.gnicpm.ru/wp-content/uploads/2024/04/pp-rf-ot-17.11.2021-№1968.pdf', 'https://org.gnicpm.ru/wp-content/uploads/2024/05/postanovlenie-pravitelstva-rf-ot-28_12_2023-n-2353-v-redakczii-ot-23.03.2024g.pdf', 'https://org.gnicpm.ru/wp-content/uploads/2024/04/pp-ot-14.03.2024-№299.pdf', 'https://cr.minzdrav.gov.ru/preview-cr/62_3', 'https://cr.minzdrav.gov.ru/preview-cr/155_2', 'https://cr.minzdrav.gov.ru/preview-cr/160_1', 'https://cr.minzdrav.gov.ru/preview-cr/382_1', 'https://cr.minzdrav.gov.ru/preview-cr/619_2', 'https://cr.minzdrav.gov.ru/preview-cr/569_1', 'https://cr.minzdrav.gov.ru/preview-cr/156_2', 'https://cr.minzdrav.gov.ru/preview-cr/752_1', 'https://cr.minzdrav.gov.ru/preview-cr/290_2', 'https://cr.minzdrav.gov.ru/preview-cr/277_1', 'https://cr.minzdrav.gov.ru/preview-cr/273_4', 'https://cr.minzdrav.gov.ru/preview-cr/655_1', 'https://cr.minzdrav.gov.ru/preview-cr/603_2', 'https://cr.minzdrav.gov.ru/preview-cr/359_3', 'https://cr.minzdrav.gov.ru/preview-cr/654_1', 'https://cr.minzdrav.gov.ru/preview-cr/677_1', 'https://cr.minzdrav.gov.ru/preview-cr/469_3', 'https://cr.minzdrav.gov.ru/preview-cr/708_2', 'https://cr.minzdrav.gov.ru/preview-cr/738_1', 'https://cr.minzdrav.gov.ru/preview-cr/173_2', 'https://cr.minzdrav.gov.ru/preview-cr/176_2', 'https://cr.minzdrav.gov.ru/preview-cr/193_2', 'https://cr.minzdrav.gov.ru/preview-cr/711_2', 'https://cr.minzdrav.gov.ru/preview-cr/715_1', 'https://cr.minzdrav.gov.ru/preview-cr/748_1', 'https://cr.minzdrav.gov.ru/preview-cr/783_1']\n"
          ]
        }
      ]
    },
    {
      "cell_type": "markdown",
      "source": [
        "Импортируем нужные инструменты.\n"
      ],
      "metadata": {
        "id": "pyPxjOf_kKf0"
      }
    },
    {
      "cell_type": "code",
      "execution_count": 13,
      "metadata": {
        "id": "m2f6M6arOMAl",
        "colab": {
          "base_uri": "https://localhost:8080/",
          "height": 339
        },
        "outputId": "95dca671-f92c-414d-f470-08952af25aae"
      },
      "outputs": [
        {
          "output_type": "stream",
          "name": "stderr",
          "text": [
            "/usr/local/lib/python3.11/dist-packages/pydantic/v1/validators.py:767: UserWarning: Mixing V1 and V2 models is not supported. `ChatGeneration` is a V2 model.\n",
            "  warn(f'Mixing V1 and V2 models is not supported. `{type_.__name__}` is a V2 model.', UserWarning)\n"
          ]
        },
        {
          "output_type": "error",
          "ename": "RuntimeError",
          "evalue": "no validator found for <class 'langchain_core.outputs.chat_generation.ChatGeneration'>, see `arbitrary_types_allowed` in Config",
          "traceback": [
            "\u001b[0;31m---------------------------------------------------------------------------\u001b[0m",
            "\u001b[0;31mRuntimeError\u001b[0m                              Traceback (most recent call last)",
            "\u001b[0;32m<ipython-input-13-a5b66d9c99e4>\u001b[0m in \u001b[0;36m<cell line: 0>\u001b[0;34m()\u001b[0m\n\u001b[1;32m      1\u001b[0m \u001b[0;32mfrom\u001b[0m \u001b[0mlangchain\u001b[0m\u001b[0;34m.\u001b[0m\u001b[0membeddings\u001b[0m \u001b[0;32mimport\u001b[0m \u001b[0mHuggingFaceEmbeddings\u001b[0m\u001b[0;34m\u001b[0m\u001b[0;34m\u001b[0m\u001b[0m\n\u001b[0;32m----> 2\u001b[0;31m \u001b[0;32mfrom\u001b[0m \u001b[0mlangchain\u001b[0m\u001b[0;34m.\u001b[0m\u001b[0mretrievers\u001b[0m \u001b[0;32mimport\u001b[0m \u001b[0mBM25Retriever\u001b[0m\u001b[0;34m,\u001b[0m \u001b[0mEnsembleRetriever\u001b[0m\u001b[0;34m\u001b[0m\u001b[0;34m\u001b[0m\u001b[0m\n\u001b[0m\u001b[1;32m      3\u001b[0m \u001b[0;32mfrom\u001b[0m \u001b[0mlangchain\u001b[0m\u001b[0;34m.\u001b[0m\u001b[0mvectorstores\u001b[0m\u001b[0;34m.\u001b[0m\u001b[0mfaiss\u001b[0m \u001b[0;32mimport\u001b[0m \u001b[0mFAISS\u001b[0m\u001b[0;34m\u001b[0m\u001b[0;34m\u001b[0m\u001b[0m\n\u001b[1;32m      4\u001b[0m \u001b[0;32mfrom\u001b[0m \u001b[0mlangchain_core\u001b[0m\u001b[0;34m.\u001b[0m\u001b[0mdocuments\u001b[0m \u001b[0;32mimport\u001b[0m \u001b[0mDocument\u001b[0m\u001b[0;34m\u001b[0m\u001b[0;34m\u001b[0m\u001b[0m\n",
            "\u001b[0;32m/usr/local/lib/python3.11/dist-packages/langchain/retrievers/__init__.py\u001b[0m in \u001b[0;36m<module>\u001b[0;34m\u001b[0m\n\u001b[1;32m     22\u001b[0m \u001b[0;34m\u001b[0m\u001b[0m\n\u001b[1;32m     23\u001b[0m \u001b[0;32mfrom\u001b[0m \u001b[0mlangchain\u001b[0m\u001b[0;34m.\u001b[0m\u001b[0m_api\u001b[0m\u001b[0;34m.\u001b[0m\u001b[0mmodule_import\u001b[0m \u001b[0;32mimport\u001b[0m \u001b[0mcreate_importer\u001b[0m\u001b[0;34m\u001b[0m\u001b[0;34m\u001b[0m\u001b[0m\n\u001b[0;32m---> 24\u001b[0;31m \u001b[0;32mfrom\u001b[0m \u001b[0mlangchain\u001b[0m\u001b[0;34m.\u001b[0m\u001b[0mretrievers\u001b[0m\u001b[0;34m.\u001b[0m\u001b[0mcontextual_compression\u001b[0m \u001b[0;32mimport\u001b[0m \u001b[0mContextualCompressionRetriever\u001b[0m\u001b[0;34m\u001b[0m\u001b[0;34m\u001b[0m\u001b[0m\n\u001b[0m\u001b[1;32m     25\u001b[0m \u001b[0;32mfrom\u001b[0m \u001b[0mlangchain\u001b[0m\u001b[0;34m.\u001b[0m\u001b[0mretrievers\u001b[0m\u001b[0;34m.\u001b[0m\u001b[0mensemble\u001b[0m \u001b[0;32mimport\u001b[0m \u001b[0mEnsembleRetriever\u001b[0m\u001b[0;34m\u001b[0m\u001b[0;34m\u001b[0m\u001b[0m\n\u001b[1;32m     26\u001b[0m \u001b[0;32mfrom\u001b[0m \u001b[0mlangchain\u001b[0m\u001b[0;34m.\u001b[0m\u001b[0mretrievers\u001b[0m\u001b[0;34m.\u001b[0m\u001b[0mmerger_retriever\u001b[0m \u001b[0;32mimport\u001b[0m \u001b[0mMergerRetriever\u001b[0m\u001b[0;34m\u001b[0m\u001b[0;34m\u001b[0m\u001b[0m\n",
            "\u001b[0;32m/usr/local/lib/python3.11/dist-packages/langchain/retrievers/contextual_compression.py\u001b[0m in \u001b[0;36m<module>\u001b[0;34m\u001b[0m\n\u001b[1;32m      1\u001b[0m \u001b[0;32mfrom\u001b[0m \u001b[0mtyping\u001b[0m \u001b[0;32mimport\u001b[0m \u001b[0mAny\u001b[0m\u001b[0;34m,\u001b[0m \u001b[0mList\u001b[0m\u001b[0;34m\u001b[0m\u001b[0;34m\u001b[0m\u001b[0m\n\u001b[1;32m      2\u001b[0m \u001b[0;34m\u001b[0m\u001b[0m\n\u001b[0;32m----> 3\u001b[0;31m from langchain_core.callbacks import (\n\u001b[0m\u001b[1;32m      4\u001b[0m     \u001b[0mAsyncCallbackManagerForRetrieverRun\u001b[0m\u001b[0;34m,\u001b[0m\u001b[0;34m\u001b[0m\u001b[0;34m\u001b[0m\u001b[0m\n\u001b[1;32m      5\u001b[0m     \u001b[0mCallbackManagerForRetrieverRun\u001b[0m\u001b[0;34m,\u001b[0m\u001b[0;34m\u001b[0m\u001b[0;34m\u001b[0m\u001b[0m\n",
            "\u001b[0;32m/usr/local/lib/python3.11/dist-packages/langchain_core/callbacks/__init__.py\u001b[0m in \u001b[0;36m<module>\u001b[0;34m\u001b[0m\n\u001b[1;32m     21\u001b[0m )\n\u001b[1;32m     22\u001b[0m \u001b[0;32mfrom\u001b[0m \u001b[0mlangchain_core\u001b[0m\u001b[0;34m.\u001b[0m\u001b[0mcallbacks\u001b[0m\u001b[0;34m.\u001b[0m\u001b[0mfile\u001b[0m \u001b[0;32mimport\u001b[0m \u001b[0mFileCallbackHandler\u001b[0m\u001b[0;34m\u001b[0m\u001b[0;34m\u001b[0m\u001b[0m\n\u001b[0;32m---> 23\u001b[0;31m from langchain_core.callbacks.manager import (\n\u001b[0m\u001b[1;32m     24\u001b[0m     \u001b[0mAsyncCallbackManager\u001b[0m\u001b[0;34m,\u001b[0m\u001b[0;34m\u001b[0m\u001b[0;34m\u001b[0m\u001b[0m\n\u001b[1;32m     25\u001b[0m     \u001b[0mAsyncCallbackManagerForChainGroup\u001b[0m\u001b[0;34m,\u001b[0m\u001b[0;34m\u001b[0m\u001b[0;34m\u001b[0m\u001b[0m\n",
            "\u001b[0;32m/usr/local/lib/python3.11/dist-packages/langchain_core/callbacks/manager.py\u001b[0m in \u001b[0;36m<module>\u001b[0;34m\u001b[0m\n\u001b[1;32m     47\u001b[0m \u001b[0;32mfrom\u001b[0m \u001b[0mlangchain_core\u001b[0m\u001b[0;34m.\u001b[0m\u001b[0mcallbacks\u001b[0m\u001b[0;34m.\u001b[0m\u001b[0mstdout\u001b[0m \u001b[0;32mimport\u001b[0m \u001b[0mStdOutCallbackHandler\u001b[0m\u001b[0;34m\u001b[0m\u001b[0;34m\u001b[0m\u001b[0m\n\u001b[1;32m     48\u001b[0m \u001b[0;32mfrom\u001b[0m \u001b[0mlangchain_core\u001b[0m\u001b[0;34m.\u001b[0m\u001b[0mmessages\u001b[0m \u001b[0;32mimport\u001b[0m \u001b[0mBaseMessage\u001b[0m\u001b[0;34m,\u001b[0m \u001b[0mget_buffer_string\u001b[0m\u001b[0;34m\u001b[0m\u001b[0;34m\u001b[0m\u001b[0m\n\u001b[0;32m---> 49\u001b[0;31m \u001b[0;32mfrom\u001b[0m \u001b[0mlangchain_core\u001b[0m\u001b[0;34m.\u001b[0m\u001b[0mtracers\u001b[0m\u001b[0;34m.\u001b[0m\u001b[0mschemas\u001b[0m \u001b[0;32mimport\u001b[0m \u001b[0mRun\u001b[0m\u001b[0;34m\u001b[0m\u001b[0;34m\u001b[0m\u001b[0m\n\u001b[0m\u001b[1;32m     50\u001b[0m \u001b[0;32mfrom\u001b[0m \u001b[0mlangchain_core\u001b[0m\u001b[0;34m.\u001b[0m\u001b[0mutils\u001b[0m\u001b[0;34m.\u001b[0m\u001b[0menv\u001b[0m \u001b[0;32mimport\u001b[0m \u001b[0menv_var_is_set\u001b[0m\u001b[0;34m\u001b[0m\u001b[0;34m\u001b[0m\u001b[0m\n\u001b[1;32m     51\u001b[0m \u001b[0;34m\u001b[0m\u001b[0m\n",
            "\u001b[0;32m/usr/local/lib/python3.11/dist-packages/langchain_core/tracers/__init__.py\u001b[0m in \u001b[0;36m<module>\u001b[0;34m\u001b[0m\n\u001b[1;32m     20\u001b[0m ]\n\u001b[1;32m     21\u001b[0m \u001b[0;34m\u001b[0m\u001b[0m\n\u001b[0;32m---> 22\u001b[0;31m \u001b[0;32mfrom\u001b[0m \u001b[0mlangchain_core\u001b[0m\u001b[0;34m.\u001b[0m\u001b[0mtracers\u001b[0m\u001b[0;34m.\u001b[0m\u001b[0mbase\u001b[0m \u001b[0;32mimport\u001b[0m \u001b[0mBaseTracer\u001b[0m\u001b[0;34m\u001b[0m\u001b[0;34m\u001b[0m\u001b[0m\n\u001b[0m\u001b[1;32m     23\u001b[0m \u001b[0;32mfrom\u001b[0m \u001b[0mlangchain_core\u001b[0m\u001b[0;34m.\u001b[0m\u001b[0mtracers\u001b[0m\u001b[0;34m.\u001b[0m\u001b[0mevaluation\u001b[0m \u001b[0;32mimport\u001b[0m \u001b[0mEvaluatorCallbackHandler\u001b[0m\u001b[0;34m\u001b[0m\u001b[0;34m\u001b[0m\u001b[0m\n\u001b[1;32m     24\u001b[0m \u001b[0;32mfrom\u001b[0m \u001b[0mlangchain_core\u001b[0m\u001b[0;34m.\u001b[0m\u001b[0mtracers\u001b[0m\u001b[0;34m.\u001b[0m\u001b[0mlangchain\u001b[0m \u001b[0;32mimport\u001b[0m \u001b[0mLangChainTracer\u001b[0m\u001b[0;34m\u001b[0m\u001b[0;34m\u001b[0m\u001b[0m\n",
            "\u001b[0;32m/usr/local/lib/python3.11/dist-packages/langchain_core/tracers/base.py\u001b[0m in \u001b[0;36m<module>\u001b[0;34m\u001b[0m\n\u001b[1;32m     22\u001b[0m \u001b[0;32mfrom\u001b[0m \u001b[0mlangchain_core\u001b[0m\u001b[0;34m.\u001b[0m\u001b[0mexceptions\u001b[0m \u001b[0;32mimport\u001b[0m \u001b[0mTracerException\u001b[0m  \u001b[0;31m# noqa\u001b[0m\u001b[0;34m\u001b[0m\u001b[0;34m\u001b[0m\u001b[0m\n\u001b[1;32m     23\u001b[0m \u001b[0;32mfrom\u001b[0m \u001b[0mlangchain_core\u001b[0m\u001b[0;34m.\u001b[0m\u001b[0mmessages\u001b[0m \u001b[0;32mimport\u001b[0m \u001b[0mBaseMessage\u001b[0m\u001b[0;34m\u001b[0m\u001b[0;34m\u001b[0m\u001b[0m\n\u001b[0;32m---> 24\u001b[0;31m \u001b[0;32mfrom\u001b[0m \u001b[0mlangchain_core\u001b[0m\u001b[0;34m.\u001b[0m\u001b[0moutputs\u001b[0m \u001b[0;32mimport\u001b[0m \u001b[0mChatGenerationChunk\u001b[0m\u001b[0;34m,\u001b[0m \u001b[0mGenerationChunk\u001b[0m\u001b[0;34m,\u001b[0m \u001b[0mLLMResult\u001b[0m\u001b[0;34m\u001b[0m\u001b[0;34m\u001b[0m\u001b[0m\n\u001b[0m\u001b[1;32m     25\u001b[0m \u001b[0;32mfrom\u001b[0m \u001b[0mlangchain_core\u001b[0m\u001b[0;34m.\u001b[0m\u001b[0mtracers\u001b[0m\u001b[0;34m.\u001b[0m\u001b[0mcore\u001b[0m \u001b[0;32mimport\u001b[0m \u001b[0m_TracerCore\u001b[0m\u001b[0;34m\u001b[0m\u001b[0;34m\u001b[0m\u001b[0m\n\u001b[1;32m     26\u001b[0m \u001b[0;32mfrom\u001b[0m \u001b[0mlangchain_core\u001b[0m\u001b[0;34m.\u001b[0m\u001b[0mtracers\u001b[0m\u001b[0;34m.\u001b[0m\u001b[0mschemas\u001b[0m \u001b[0;32mimport\u001b[0m \u001b[0mRun\u001b[0m\u001b[0;34m\u001b[0m\u001b[0;34m\u001b[0m\u001b[0m\n",
            "\u001b[0;32m/usr/local/lib/python3.11/dist-packages/langchain_core/outputs/__init__.py\u001b[0m in \u001b[0;36m<module>\u001b[0;34m\u001b[0m\n\u001b[1;32m     21\u001b[0m \u001b[0;34m\u001b[0m\u001b[0m\n\u001b[1;32m     22\u001b[0m \u001b[0;32mfrom\u001b[0m \u001b[0mlangchain_core\u001b[0m\u001b[0;34m.\u001b[0m\u001b[0moutputs\u001b[0m\u001b[0;34m.\u001b[0m\u001b[0mchat_generation\u001b[0m \u001b[0;32mimport\u001b[0m \u001b[0mChatGeneration\u001b[0m\u001b[0;34m,\u001b[0m \u001b[0mChatGenerationChunk\u001b[0m\u001b[0;34m\u001b[0m\u001b[0;34m\u001b[0m\u001b[0m\n\u001b[0;32m---> 23\u001b[0;31m \u001b[0;32mfrom\u001b[0m \u001b[0mlangchain_core\u001b[0m\u001b[0;34m.\u001b[0m\u001b[0moutputs\u001b[0m\u001b[0;34m.\u001b[0m\u001b[0mchat_result\u001b[0m \u001b[0;32mimport\u001b[0m \u001b[0mChatResult\u001b[0m\u001b[0;34m\u001b[0m\u001b[0;34m\u001b[0m\u001b[0m\n\u001b[0m\u001b[1;32m     24\u001b[0m \u001b[0;32mfrom\u001b[0m \u001b[0mlangchain_core\u001b[0m\u001b[0;34m.\u001b[0m\u001b[0moutputs\u001b[0m\u001b[0;34m.\u001b[0m\u001b[0mgeneration\u001b[0m \u001b[0;32mimport\u001b[0m \u001b[0mGeneration\u001b[0m\u001b[0;34m,\u001b[0m \u001b[0mGenerationChunk\u001b[0m\u001b[0;34m\u001b[0m\u001b[0;34m\u001b[0m\u001b[0m\n\u001b[1;32m     25\u001b[0m \u001b[0;32mfrom\u001b[0m \u001b[0mlangchain_core\u001b[0m\u001b[0;34m.\u001b[0m\u001b[0moutputs\u001b[0m\u001b[0;34m.\u001b[0m\u001b[0mllm_result\u001b[0m \u001b[0;32mimport\u001b[0m \u001b[0mLLMResult\u001b[0m\u001b[0;34m\u001b[0m\u001b[0;34m\u001b[0m\u001b[0m\n",
            "\u001b[0;32m/usr/local/lib/python3.11/dist-packages/langchain_core/outputs/chat_result.py\u001b[0m in \u001b[0;36m<module>\u001b[0;34m\u001b[0m\n\u001b[1;32m      5\u001b[0m \u001b[0;34m\u001b[0m\u001b[0m\n\u001b[1;32m      6\u001b[0m \u001b[0;34m\u001b[0m\u001b[0m\n\u001b[0;32m----> 7\u001b[0;31m \u001b[0;32mclass\u001b[0m \u001b[0mChatResult\u001b[0m\u001b[0;34m(\u001b[0m\u001b[0mBaseModel\u001b[0m\u001b[0;34m)\u001b[0m\u001b[0;34m:\u001b[0m\u001b[0;34m\u001b[0m\u001b[0;34m\u001b[0m\u001b[0m\n\u001b[0m\u001b[1;32m      8\u001b[0m     \"\"\"Use to represent the result of a chat model call with a single prompt.\n\u001b[1;32m      9\u001b[0m \u001b[0;34m\u001b[0m\u001b[0m\n",
            "\u001b[0;32m/usr/local/lib/python3.11/dist-packages/pydantic/v1/main.py\u001b[0m in \u001b[0;36m__new__\u001b[0;34m(mcs, name, bases, namespace, **kwargs)\u001b[0m\n\u001b[1;32m    195\u001b[0m                     ):\n\u001b[1;32m    196\u001b[0m                         \u001b[0;32mcontinue\u001b[0m\u001b[0;34m\u001b[0m\u001b[0;34m\u001b[0m\u001b[0m\n\u001b[0;32m--> 197\u001b[0;31m                     fields[ann_name] = ModelField.infer(\n\u001b[0m\u001b[1;32m    198\u001b[0m                         \u001b[0mname\u001b[0m\u001b[0;34m=\u001b[0m\u001b[0mann_name\u001b[0m\u001b[0;34m,\u001b[0m\u001b[0;34m\u001b[0m\u001b[0;34m\u001b[0m\u001b[0m\n\u001b[1;32m    199\u001b[0m                         \u001b[0mvalue\u001b[0m\u001b[0;34m=\u001b[0m\u001b[0mvalue\u001b[0m\u001b[0;34m,\u001b[0m\u001b[0;34m\u001b[0m\u001b[0;34m\u001b[0m\u001b[0m\n",
            "\u001b[0;32m/usr/local/lib/python3.11/dist-packages/pydantic/v1/fields.py\u001b[0m in \u001b[0;36minfer\u001b[0;34m(cls, name, value, annotation, class_validators, config)\u001b[0m\n\u001b[1;32m    502\u001b[0m         \u001b[0mannotation\u001b[0m \u001b[0;34m=\u001b[0m \u001b[0mget_annotation_from_field_info\u001b[0m\u001b[0;34m(\u001b[0m\u001b[0mannotation\u001b[0m\u001b[0;34m,\u001b[0m \u001b[0mfield_info\u001b[0m\u001b[0;34m,\u001b[0m \u001b[0mname\u001b[0m\u001b[0;34m,\u001b[0m \u001b[0mconfig\u001b[0m\u001b[0;34m.\u001b[0m\u001b[0mvalidate_assignment\u001b[0m\u001b[0;34m)\u001b[0m\u001b[0;34m\u001b[0m\u001b[0;34m\u001b[0m\u001b[0m\n\u001b[1;32m    503\u001b[0m \u001b[0;34m\u001b[0m\u001b[0m\n\u001b[0;32m--> 504\u001b[0;31m         return cls(\n\u001b[0m\u001b[1;32m    505\u001b[0m             \u001b[0mname\u001b[0m\u001b[0;34m=\u001b[0m\u001b[0mname\u001b[0m\u001b[0;34m,\u001b[0m\u001b[0;34m\u001b[0m\u001b[0;34m\u001b[0m\u001b[0m\n\u001b[1;32m    506\u001b[0m             \u001b[0mtype_\u001b[0m\u001b[0;34m=\u001b[0m\u001b[0mannotation\u001b[0m\u001b[0;34m,\u001b[0m\u001b[0;34m\u001b[0m\u001b[0;34m\u001b[0m\u001b[0m\n",
            "\u001b[0;32m/usr/local/lib/python3.11/dist-packages/pydantic/v1/fields.py\u001b[0m in \u001b[0;36m__init__\u001b[0;34m(self, name, type_, class_validators, model_config, default, default_factory, required, final, alias, field_info)\u001b[0m\n\u001b[1;32m    432\u001b[0m         \u001b[0mself\u001b[0m\u001b[0;34m.\u001b[0m\u001b[0mshape\u001b[0m\u001b[0;34m:\u001b[0m \u001b[0mint\u001b[0m \u001b[0;34m=\u001b[0m \u001b[0mSHAPE_SINGLETON\u001b[0m\u001b[0;34m\u001b[0m\u001b[0;34m\u001b[0m\u001b[0m\n\u001b[1;32m    433\u001b[0m         \u001b[0mself\u001b[0m\u001b[0;34m.\u001b[0m\u001b[0mmodel_config\u001b[0m\u001b[0;34m.\u001b[0m\u001b[0mprepare_field\u001b[0m\u001b[0;34m(\u001b[0m\u001b[0mself\u001b[0m\u001b[0;34m)\u001b[0m\u001b[0;34m\u001b[0m\u001b[0;34m\u001b[0m\u001b[0m\n\u001b[0;32m--> 434\u001b[0;31m         \u001b[0mself\u001b[0m\u001b[0;34m.\u001b[0m\u001b[0mprepare\u001b[0m\u001b[0;34m(\u001b[0m\u001b[0;34m)\u001b[0m\u001b[0;34m\u001b[0m\u001b[0;34m\u001b[0m\u001b[0m\n\u001b[0m\u001b[1;32m    435\u001b[0m \u001b[0;34m\u001b[0m\u001b[0m\n\u001b[1;32m    436\u001b[0m     \u001b[0;32mdef\u001b[0m \u001b[0mget_default\u001b[0m\u001b[0;34m(\u001b[0m\u001b[0mself\u001b[0m\u001b[0;34m)\u001b[0m \u001b[0;34m->\u001b[0m \u001b[0mAny\u001b[0m\u001b[0;34m:\u001b[0m\u001b[0;34m\u001b[0m\u001b[0;34m\u001b[0m\u001b[0m\n",
            "\u001b[0;32m/usr/local/lib/python3.11/dist-packages/pydantic/v1/fields.py\u001b[0m in \u001b[0;36mprepare\u001b[0;34m(self)\u001b[0m\n\u001b[1;32m    548\u001b[0m             \u001b[0;32mreturn\u001b[0m\u001b[0;34m\u001b[0m\u001b[0;34m\u001b[0m\u001b[0m\n\u001b[1;32m    549\u001b[0m \u001b[0;34m\u001b[0m\u001b[0m\n\u001b[0;32m--> 550\u001b[0;31m         \u001b[0mself\u001b[0m\u001b[0;34m.\u001b[0m\u001b[0m_type_analysis\u001b[0m\u001b[0;34m(\u001b[0m\u001b[0;34m)\u001b[0m\u001b[0;34m\u001b[0m\u001b[0;34m\u001b[0m\u001b[0m\n\u001b[0m\u001b[1;32m    551\u001b[0m         \u001b[0;32mif\u001b[0m \u001b[0mself\u001b[0m\u001b[0;34m.\u001b[0m\u001b[0mrequired\u001b[0m \u001b[0;32mis\u001b[0m \u001b[0mUndefined\u001b[0m\u001b[0;34m:\u001b[0m\u001b[0;34m\u001b[0m\u001b[0;34m\u001b[0m\u001b[0m\n\u001b[1;32m    552\u001b[0m             \u001b[0mself\u001b[0m\u001b[0;34m.\u001b[0m\u001b[0mrequired\u001b[0m \u001b[0;34m=\u001b[0m \u001b[0;32mTrue\u001b[0m\u001b[0;34m\u001b[0m\u001b[0;34m\u001b[0m\u001b[0m\n",
            "\u001b[0;32m/usr/local/lib/python3.11/dist-packages/pydantic/v1/fields.py\u001b[0m in \u001b[0;36m_type_analysis\u001b[0;34m(self)\u001b[0m\n\u001b[1;32m    754\u001b[0m \u001b[0;34m\u001b[0m\u001b[0m\n\u001b[1;32m    755\u001b[0m         \u001b[0;31m# type_ has been refined eg. as the type of a List and sub_fields needs to be populated\u001b[0m\u001b[0;34m\u001b[0m\u001b[0;34m\u001b[0m\u001b[0m\n\u001b[0;32m--> 756\u001b[0;31m         \u001b[0mself\u001b[0m\u001b[0;34m.\u001b[0m\u001b[0msub_fields\u001b[0m \u001b[0;34m=\u001b[0m \u001b[0;34m[\u001b[0m\u001b[0mself\u001b[0m\u001b[0;34m.\u001b[0m\u001b[0m_create_sub_type\u001b[0m\u001b[0;34m(\u001b[0m\u001b[0mself\u001b[0m\u001b[0;34m.\u001b[0m\u001b[0mtype_\u001b[0m\u001b[0;34m,\u001b[0m \u001b[0;34m'_'\u001b[0m \u001b[0;34m+\u001b[0m \u001b[0mself\u001b[0m\u001b[0;34m.\u001b[0m\u001b[0mname\u001b[0m\u001b[0;34m)\u001b[0m\u001b[0;34m]\u001b[0m\u001b[0;34m\u001b[0m\u001b[0;34m\u001b[0m\u001b[0m\n\u001b[0m\u001b[1;32m    757\u001b[0m \u001b[0;34m\u001b[0m\u001b[0m\n\u001b[1;32m    758\u001b[0m     \u001b[0;32mdef\u001b[0m \u001b[0mprepare_discriminated_union_sub_fields\u001b[0m\u001b[0;34m(\u001b[0m\u001b[0mself\u001b[0m\u001b[0;34m)\u001b[0m \u001b[0;34m->\u001b[0m \u001b[0;32mNone\u001b[0m\u001b[0;34m:\u001b[0m\u001b[0;34m\u001b[0m\u001b[0;34m\u001b[0m\u001b[0m\n",
            "\u001b[0;32m/usr/local/lib/python3.11/dist-packages/pydantic/v1/fields.py\u001b[0m in \u001b[0;36m_create_sub_type\u001b[0;34m(self, type_, name, for_keys)\u001b[0m\n\u001b[1;32m    804\u001b[0m         \u001b[0mfield_info\u001b[0m\u001b[0;34m,\u001b[0m \u001b[0m_\u001b[0m \u001b[0;34m=\u001b[0m \u001b[0mself\u001b[0m\u001b[0;34m.\u001b[0m\u001b[0m_get_field_info\u001b[0m\u001b[0;34m(\u001b[0m\u001b[0mname\u001b[0m\u001b[0;34m,\u001b[0m \u001b[0mtype_\u001b[0m\u001b[0;34m,\u001b[0m \u001b[0;32mNone\u001b[0m\u001b[0;34m,\u001b[0m \u001b[0mself\u001b[0m\u001b[0;34m.\u001b[0m\u001b[0mmodel_config\u001b[0m\u001b[0;34m)\u001b[0m\u001b[0;34m\u001b[0m\u001b[0;34m\u001b[0m\u001b[0m\n\u001b[1;32m    805\u001b[0m \u001b[0;34m\u001b[0m\u001b[0m\n\u001b[0;32m--> 806\u001b[0;31m         return self.__class__(\n\u001b[0m\u001b[1;32m    807\u001b[0m             \u001b[0mtype_\u001b[0m\u001b[0;34m=\u001b[0m\u001b[0mtype_\u001b[0m\u001b[0;34m,\u001b[0m\u001b[0;34m\u001b[0m\u001b[0;34m\u001b[0m\u001b[0m\n\u001b[1;32m    808\u001b[0m             \u001b[0mname\u001b[0m\u001b[0;34m=\u001b[0m\u001b[0mname\u001b[0m\u001b[0;34m,\u001b[0m\u001b[0;34m\u001b[0m\u001b[0;34m\u001b[0m\u001b[0m\n",
            "\u001b[0;32m/usr/local/lib/python3.11/dist-packages/pydantic/v1/fields.py\u001b[0m in \u001b[0;36m__init__\u001b[0;34m(self, name, type_, class_validators, model_config, default, default_factory, required, final, alias, field_info)\u001b[0m\n\u001b[1;32m    432\u001b[0m         \u001b[0mself\u001b[0m\u001b[0;34m.\u001b[0m\u001b[0mshape\u001b[0m\u001b[0;34m:\u001b[0m \u001b[0mint\u001b[0m \u001b[0;34m=\u001b[0m \u001b[0mSHAPE_SINGLETON\u001b[0m\u001b[0;34m\u001b[0m\u001b[0;34m\u001b[0m\u001b[0m\n\u001b[1;32m    433\u001b[0m         \u001b[0mself\u001b[0m\u001b[0;34m.\u001b[0m\u001b[0mmodel_config\u001b[0m\u001b[0;34m.\u001b[0m\u001b[0mprepare_field\u001b[0m\u001b[0;34m(\u001b[0m\u001b[0mself\u001b[0m\u001b[0;34m)\u001b[0m\u001b[0;34m\u001b[0m\u001b[0;34m\u001b[0m\u001b[0m\n\u001b[0;32m--> 434\u001b[0;31m         \u001b[0mself\u001b[0m\u001b[0;34m.\u001b[0m\u001b[0mprepare\u001b[0m\u001b[0;34m(\u001b[0m\u001b[0;34m)\u001b[0m\u001b[0;34m\u001b[0m\u001b[0;34m\u001b[0m\u001b[0m\n\u001b[0m\u001b[1;32m    435\u001b[0m \u001b[0;34m\u001b[0m\u001b[0m\n\u001b[1;32m    436\u001b[0m     \u001b[0;32mdef\u001b[0m \u001b[0mget_default\u001b[0m\u001b[0;34m(\u001b[0m\u001b[0mself\u001b[0m\u001b[0;34m)\u001b[0m \u001b[0;34m->\u001b[0m \u001b[0mAny\u001b[0m\u001b[0;34m:\u001b[0m\u001b[0;34m\u001b[0m\u001b[0;34m\u001b[0m\u001b[0m\n",
            "\u001b[0;32m/usr/local/lib/python3.11/dist-packages/pydantic/v1/fields.py\u001b[0m in \u001b[0;36mprepare\u001b[0;34m(self)\u001b[0m\n\u001b[1;32m    553\u001b[0m         \u001b[0;32mif\u001b[0m \u001b[0mself\u001b[0m\u001b[0;34m.\u001b[0m\u001b[0mdefault\u001b[0m \u001b[0;32mis\u001b[0m \u001b[0mUndefined\u001b[0m \u001b[0;32mand\u001b[0m \u001b[0mself\u001b[0m\u001b[0;34m.\u001b[0m\u001b[0mdefault_factory\u001b[0m \u001b[0;32mis\u001b[0m \u001b[0;32mNone\u001b[0m\u001b[0;34m:\u001b[0m\u001b[0;34m\u001b[0m\u001b[0;34m\u001b[0m\u001b[0m\n\u001b[1;32m    554\u001b[0m             \u001b[0mself\u001b[0m\u001b[0;34m.\u001b[0m\u001b[0mdefault\u001b[0m \u001b[0;34m=\u001b[0m \u001b[0;32mNone\u001b[0m\u001b[0;34m\u001b[0m\u001b[0;34m\u001b[0m\u001b[0m\n\u001b[0;32m--> 555\u001b[0;31m         \u001b[0mself\u001b[0m\u001b[0;34m.\u001b[0m\u001b[0mpopulate_validators\u001b[0m\u001b[0;34m(\u001b[0m\u001b[0;34m)\u001b[0m\u001b[0;34m\u001b[0m\u001b[0;34m\u001b[0m\u001b[0m\n\u001b[0m\u001b[1;32m    556\u001b[0m \u001b[0;34m\u001b[0m\u001b[0m\n\u001b[1;32m    557\u001b[0m     \u001b[0;32mdef\u001b[0m \u001b[0m_set_default_and_type\u001b[0m\u001b[0;34m(\u001b[0m\u001b[0mself\u001b[0m\u001b[0;34m)\u001b[0m \u001b[0;34m->\u001b[0m \u001b[0;32mNone\u001b[0m\u001b[0;34m:\u001b[0m\u001b[0;34m\u001b[0m\u001b[0;34m\u001b[0m\u001b[0m\n",
            "\u001b[0;32m/usr/local/lib/python3.11/dist-packages/pydantic/v1/fields.py\u001b[0m in \u001b[0;36mpopulate_validators\u001b[0;34m(self)\u001b[0m\n\u001b[1;32m    827\u001b[0m             v_funcs = (\n\u001b[1;32m    828\u001b[0m                 \u001b[0;34m*\u001b[0m\u001b[0;34m[\u001b[0m\u001b[0mv\u001b[0m\u001b[0;34m.\u001b[0m\u001b[0mfunc\u001b[0m \u001b[0;32mfor\u001b[0m \u001b[0mv\u001b[0m \u001b[0;32min\u001b[0m \u001b[0mclass_validators_\u001b[0m \u001b[0;32mif\u001b[0m \u001b[0mv\u001b[0m\u001b[0;34m.\u001b[0m\u001b[0meach_item\u001b[0m \u001b[0;32mand\u001b[0m \u001b[0mv\u001b[0m\u001b[0;34m.\u001b[0m\u001b[0mpre\u001b[0m\u001b[0;34m]\u001b[0m\u001b[0;34m,\u001b[0m\u001b[0;34m\u001b[0m\u001b[0;34m\u001b[0m\u001b[0m\n\u001b[0;32m--> 829\u001b[0;31m                 \u001b[0;34m*\u001b[0m\u001b[0;34m(\u001b[0m\u001b[0mget_validators\u001b[0m\u001b[0;34m(\u001b[0m\u001b[0;34m)\u001b[0m \u001b[0;32mif\u001b[0m \u001b[0mget_validators\u001b[0m \u001b[0;32melse\u001b[0m \u001b[0mlist\u001b[0m\u001b[0;34m(\u001b[0m\u001b[0mfind_validators\u001b[0m\u001b[0;34m(\u001b[0m\u001b[0mself\u001b[0m\u001b[0;34m.\u001b[0m\u001b[0mtype_\u001b[0m\u001b[0;34m,\u001b[0m \u001b[0mself\u001b[0m\u001b[0;34m.\u001b[0m\u001b[0mmodel_config\u001b[0m\u001b[0;34m)\u001b[0m\u001b[0;34m)\u001b[0m\u001b[0;34m)\u001b[0m\u001b[0;34m,\u001b[0m\u001b[0;34m\u001b[0m\u001b[0;34m\u001b[0m\u001b[0m\n\u001b[0m\u001b[1;32m    830\u001b[0m                 \u001b[0;34m*\u001b[0m\u001b[0;34m[\u001b[0m\u001b[0mv\u001b[0m\u001b[0;34m.\u001b[0m\u001b[0mfunc\u001b[0m \u001b[0;32mfor\u001b[0m \u001b[0mv\u001b[0m \u001b[0;32min\u001b[0m \u001b[0mclass_validators_\u001b[0m \u001b[0;32mif\u001b[0m \u001b[0mv\u001b[0m\u001b[0;34m.\u001b[0m\u001b[0meach_item\u001b[0m \u001b[0;32mand\u001b[0m \u001b[0;32mnot\u001b[0m \u001b[0mv\u001b[0m\u001b[0;34m.\u001b[0m\u001b[0mpre\u001b[0m\u001b[0;34m]\u001b[0m\u001b[0;34m,\u001b[0m\u001b[0;34m\u001b[0m\u001b[0;34m\u001b[0m\u001b[0m\n\u001b[1;32m    831\u001b[0m             )\n",
            "\u001b[0;32m/usr/local/lib/python3.11/dist-packages/pydantic/v1/validators.py\u001b[0m in \u001b[0;36mfind_validators\u001b[0;34m(type_, config)\u001b[0m\n\u001b[1;32m    766\u001b[0m         \u001b[0;32mif\u001b[0m \u001b[0mhasattr\u001b[0m\u001b[0;34m(\u001b[0m\u001b[0mtype_\u001b[0m\u001b[0;34m,\u001b[0m \u001b[0;34m'__pydantic_core_schema__'\u001b[0m\u001b[0;34m)\u001b[0m\u001b[0;34m:\u001b[0m\u001b[0;34m\u001b[0m\u001b[0;34m\u001b[0m\u001b[0m\n\u001b[1;32m    767\u001b[0m             \u001b[0mwarn\u001b[0m\u001b[0;34m(\u001b[0m\u001b[0;34mf'Mixing V1 and V2 models is not supported. `{type_.__name__}` is a V2 model.'\u001b[0m\u001b[0;34m,\u001b[0m \u001b[0mUserWarning\u001b[0m\u001b[0;34m)\u001b[0m\u001b[0;34m\u001b[0m\u001b[0;34m\u001b[0m\u001b[0m\n\u001b[0;32m--> 768\u001b[0;31m         \u001b[0;32mraise\u001b[0m \u001b[0mRuntimeError\u001b[0m\u001b[0;34m(\u001b[0m\u001b[0;34mf'no validator found for {type_}, see `arbitrary_types_allowed` in Config'\u001b[0m\u001b[0;34m)\u001b[0m\u001b[0;34m\u001b[0m\u001b[0;34m\u001b[0m\u001b[0m\n\u001b[0m",
            "\u001b[0;31mRuntimeError\u001b[0m: no validator found for <class 'langchain_core.outputs.chat_generation.ChatGeneration'>, see `arbitrary_types_allowed` in Config"
          ]
        }
      ],
      "source": [
        "from langchain.embeddings import HuggingFaceEmbeddings\n",
        "from langchain.retrievers import BM25Retriever, EnsembleRetriever\n",
        "from langchain.vectorstores.faiss import FAISS\n",
        "from langchain_core.documents import Document"
      ]
    },
    {
      "cell_type": "code",
      "source": [
        "import os\n",
        "os.environ['USER_AGENT'] = 'myagent'\n",
        "from langchain_community.document_loaders import WebBaseLoader\n",
        "from langchain.text_splitter import RecursiveCharacterTextSplitter"
      ],
      "metadata": {
        "id": "pas1ZuudO5NU"
      },
      "execution_count": null,
      "outputs": []
    },
    {
      "cell_type": "markdown",
      "source": [
        "Осуществим загрузку веб-страниц по ссылкам."
      ],
      "metadata": {
        "id": "MC0m9FhBkZZd"
      }
    },
    {
      "cell_type": "code",
      "source": [
        "loader = WebBaseLoader(sources.split())"
      ],
      "metadata": {
        "id": "7_wNECKHRa2W"
      },
      "execution_count": null,
      "outputs": []
    },
    {
      "cell_type": "code",
      "source": [
        "docs = loader.load()"
      ],
      "metadata": {
        "id": "EW7iXp3ZRqta"
      },
      "execution_count": null,
      "outputs": []
    },
    {
      "cell_type": "code",
      "source": [
        "len(docs)"
      ],
      "metadata": {
        "id": "pGxTmSwgSCkn",
        "colab": {
          "base_uri": "https://localhost:8080/"
        },
        "outputId": "305f92be-2c28-447c-d442-a28541ea0493"
      },
      "execution_count": null,
      "outputs": [
        {
          "output_type": "execute_result",
          "data": {
            "text/plain": [
              "30"
            ]
          },
          "metadata": {},
          "execution_count": 18
        }
      ]
    },
    {
      "cell_type": "markdown",
      "source": [
        "Разделим тексты статей на фрагменты длиной 500 символов и перекрытием в 100 символов."
      ],
      "metadata": {
        "id": "2yfzs7Bwkobh"
      }
    },
    {
      "cell_type": "code",
      "source": [
        "text_splitter = RecursiveCharacterTextSplitter(chunk_size=500,\n",
        "                                              chunk_overlap=100)\n",
        "split_docs = text_splitter.split_documents(docs)"
      ],
      "metadata": {
        "id": "g2VXTBEDSFr7"
      },
      "execution_count": null,
      "outputs": []
    },
    {
      "cell_type": "code",
      "source": [
        "len(split_docs)"
      ],
      "metadata": {
        "id": "G-HTEVmKTLqZ",
        "colab": {
          "base_uri": "https://localhost:8080/"
        },
        "outputId": "009cd857-b009-41be-cca5-7a996ca8f4a6"
      },
      "execution_count": null,
      "outputs": [
        {
          "output_type": "execute_result",
          "data": {
            "text/plain": [
              "19038"
            ]
          },
          "metadata": {},
          "execution_count": 20
        }
      ]
    },
    {
      "cell_type": "code",
      "source": [
        "split_docs[1]"
      ],
      "metadata": {
        "id": "SqHmB8_NTNS7",
        "colab": {
          "base_uri": "https://localhost:8080/"
        },
        "outputId": "8358e3df-c117-436c-d135-988dd63b1c9d"
      },
      "execution_count": null,
      "outputs": [
        {
          "output_type": "execute_result",
          "data": {
            "text/plain": [
              "Document(metadata={'source': 'https://org.gnicpm.ru/wp-content/uploads/2024/01/323-fz.pdf'}, page_content='xœ�}\\x18Ä6Ny¯ìØ¥Ö\\x03¢¤\\x11˜.ã1¶ÃĞ\\x0bv¨Àã$Ü\\x06à+Øª¯Ø30��Ju=»\\x014\\xa0×Ü¦)Å\"s”\\xadj\\'|QêÓƒdÒªU\\x1aµZR?\\x0b…á!h[…ÅNãeŸ·ÌãÁ²<9�i³°\\x0eÕzÆîò0\\x16öä¡\\x11µj\\x0eğ+…T}¤JRodı\\x01\\x1cQ•ÃV8KĞæÃ-§²ş\\x11iqâ’`d\\x11&\\x06Ó•�ùä*GœbJ„æq±\\x1eŸ†}\\x08fÑ‰f–ÈLØ¡fu4�QO\\x12\\x04A\\x10\\x0411Œá)õl`’]\\x0eA\\x10g\"ü\\x1bp¸ƒn†wõaĞƒ>ü!\\x18À€j\\x04#ª\\tL¨f°„?\\x00‹P+ØÂïƒ\\rì¨vp\\xa0: \\x015\\x01\\x12Q\\x13!\\tÕ\\tÉ¨I�‚š,4\\x05RÃïA*¤‡�AšĞtp¡º \\x135\\x03²P3…f�\\x07Õ\\r^T\\x0fê¿À\\x0bÙ¨Ù0\\x05Õ\\x079¨S \\x175\\x07¦†ß…\\\\ÈC�*4\\x0fòÃÿ„iàGÍ‡é¨~(@�\\x0e…áw\\xa0@h!\\x14£\\x16Á\\x0cÔb(A�\\x01¥¨%P†Z\\nå¨e¨oÃL¨@-‡JÔ\\n¡•P\\x1d~\\x0bª\\xa0\\x06u\\x16ÌF\\xad\\x16Z\\x03ç\\xa0Î†ZÔs \\x10ş?¨…9á7!\\x00õ¨s„ÖA\\x03j=4¡6À\\\\ÔF¡M0\\x0fu.œ‹:\\x0f\\x16„ÿ\\x01óaaø\\r8\\x17ÎC] t!œ�z\\x1e,B=\\x1f–\\xa0.‚¥¨‹a\\x19ê\\x12X\\x1e~\\x1d–')"
            ]
          },
          "metadata": {},
          "execution_count": 21
        }
      ]
    },
    {
      "cell_type": "code",
      "source": [
        "!pip install numpy==1.26.0"
      ],
      "metadata": {
        "colab": {
          "base_uri": "https://localhost:8080/"
        },
        "id": "4Ts7S8Ev2Vhc",
        "outputId": "7832460e-b86b-4d86-a82d-bd193e3fad2d"
      },
      "execution_count": 5,
      "outputs": [
        {
          "output_type": "stream",
          "name": "stdout",
          "text": [
            "Collecting numpy==1.26.0\n",
            "  Downloading numpy-1.26.0-cp311-cp311-manylinux_2_17_x86_64.manylinux2014_x86_64.whl.metadata (58 kB)\n",
            "\u001b[?25l     \u001b[90m━━━━━━━━━━━━━━━━━━━━━━━━━━━━━━━━━━━━━━━━\u001b[0m \u001b[32m0.0/58.5 kB\u001b[0m \u001b[31m?\u001b[0m eta \u001b[36m-:--:--\u001b[0m\r\u001b[2K     \u001b[90m━━━━━━━━━━━━━━━━━━━━━━━━━━━━━━━━━━━━━━━━\u001b[0m \u001b[32m58.5/58.5 kB\u001b[0m \u001b[31m3.5 MB/s\u001b[0m eta \u001b[36m0:00:00\u001b[0m\n",
            "\u001b[?25hDownloading numpy-1.26.0-cp311-cp311-manylinux_2_17_x86_64.manylinux2014_x86_64.whl (18.2 MB)\n",
            "\u001b[2K   \u001b[90m━━━━━━━━━━━━━━━━━━━━━━━━━━━━━━━━━━━━━━━━\u001b[0m \u001b[32m18.2/18.2 MB\u001b[0m \u001b[31m80.9 MB/s\u001b[0m eta \u001b[36m0:00:00\u001b[0m\n",
            "\u001b[?25hInstalling collected packages: numpy\n",
            "  Attempting uninstall: numpy\n",
            "    Found existing installation: numpy 2.2.4\n",
            "    Uninstalling numpy-2.2.4:\n",
            "      Successfully uninstalled numpy-2.2.4\n",
            "Successfully installed numpy-1.26.0\n"
          ]
        }
      ]
    },
    {
      "cell_type": "markdown",
      "source": [
        "Создадим ретривер и векторное хранилище для врагментов текста.\n"
      ],
      "metadata": {
        "id": "NkS77xlGk105"
      }
    },
    {
      "cell_type": "code",
      "source": [
        "%%time\n",
        "model_name = \"sentence-transformers/paraphrase-multilingual-mpnet-base-v2\"\n",
        "model_kwargs = {'device': 'cpu'}\n",
        "encode_kwargs = {'normalize_embeddings': False}\n",
        "embedding = HuggingFaceEmbeddings(model_name=model_name,\n",
        "                                  model_kwargs=model_kwargs,\n",
        "                                  encode_kwargs=encode_kwargs)\n",
        "\n",
        "vector_store = FAISS.from_documents(split_docs, embedding=embedding)"
      ],
      "metadata": {
        "id": "lz05fkGmX4UH",
        "colab": {
          "base_uri": "https://localhost:8080/",
          "height": 124
        },
        "outputId": "56a20bcd-ec68-48ef-8874-a6baf9833f42"
      },
      "execution_count": null,
      "outputs": [
        {
          "output_type": "error",
          "ename": "NameError",
          "evalue": "name 'HuggingFaceEmbeddings' is not defined",
          "traceback": [
            "\u001b[0;31m---------------------------------------------------------------------------\u001b[0m",
            "\u001b[0;31mNameError\u001b[0m                                 Traceback (most recent call last)",
            "\u001b[0;32m<timed exec>\u001b[0m in \u001b[0;36m<module>\u001b[0;34m\u001b[0m\n",
            "\u001b[0;31mNameError\u001b[0m: name 'HuggingFaceEmbeddings' is not defined"
          ]
        }
      ]
    },
    {
      "cell_type": "markdown",
      "source": [
        "Зададим параметры извлечения, на запрос должны возвращаться 5 фрагментов, наиболее близких по смыслу."
      ],
      "metadata": {
        "id": "PYV5cfASlM7w"
      }
    },
    {
      "cell_type": "markdown",
      "source": [],
      "metadata": {
        "id": "5UbpwQOdOk8k"
      }
    },
    {
      "cell_type": "code",
      "source": [
        "embedding_retriever = vector_store.as_retriever(search_kwargs={\"k\": 5})"
      ],
      "metadata": {
        "id": "mA_OBtdKefFv"
      },
      "execution_count": null,
      "outputs": []
    },
    {
      "cell_type": "markdown",
      "source": [
        "## Создание генеративной части пайплайна и составление цепочки RAG системы"
      ],
      "metadata": {
        "id": "HNiPfFZ0ltm6"
      }
    },
    {
      "cell_type": "markdown",
      "source": [
        "Используем авторизационные данные для подключения к GigaChat API."
      ],
      "metadata": {
        "id": "_z0rVehmEkmo"
      }
    },
    {
      "cell_type": "code",
      "source": [
        "from google.colab import userdata\n",
        "auth = userdata.get('SBER_AUTH')"
      ],
      "metadata": {
        "id": "RofYMBxugEpx"
      },
      "execution_count": null,
      "outputs": []
    },
    {
      "cell_type": "markdown",
      "source": [
        "Импортируем необходимые компоненты"
      ],
      "metadata": {
        "id": "V-bzQt5zlBe0"
      }
    },
    {
      "cell_type": "code",
      "source": [
        "from langchain.chains.combine_documents import create_stuff_documents_chain\n",
        "from langchain_core.prompts import ChatPromptTemplate\n",
        "from langchain.chat_models.gigachat import GigaChat\n",
        "from langchain.chains import create_retrieval_chain"
      ],
      "metadata": {
        "id": "XoZu1ke1frAN"
      },
      "execution_count": null,
      "outputs": []
    },
    {
      "cell_type": "markdown",
      "source": [
        "Создадим объект `GigaChat` и подготовим промпт для вопросно-ответной системы."
      ],
      "metadata": {
        "id": "1Dl2aFMAmGMI"
      }
    },
    {
      "cell_type": "code",
      "source": [
        "\n",
        "llm = GigaChat(credentials=auth,\n",
        "              model='GigaChat:latest',\n",
        "               verify_ssl_certs=False,\n",
        "               profanity_check=False)\n",
        "prompt = ChatPromptTemplate.from_template('''Ответь на вопрос пользователя. \\\n",
        "Используй при этом только информацию из контекста. Если в контексте нет \\\n",
        "информации для ответа, сообщи об этом пользователю.\n",
        "Контекст: {context}\n",
        "Вопрос: {input}\n",
        "Ответ:'''\n",
        ")"
      ],
      "metadata": {
        "id": "acxZ983Rf1HU",
        "colab": {
          "base_uri": "https://localhost:8080/"
        },
        "outputId": "4e0882b1-30d1-43a0-c2f5-34442aa2430e"
      },
      "execution_count": null,
      "outputs": [
        {
          "output_type": "stream",
          "name": "stderr",
          "text": [
            "<ipython-input-54-7895cbad50b3>:1: LangChainDeprecationWarning: The class `GigaChat` was deprecated in LangChain 0.3.5 and will be removed in 1.0. An updated version of the class exists in the langchain-gigachat package and should be used instead. To use it run `pip install -U langchain-gigachat` and import as `from langchain_gigachat import GigaChat`.\n",
            "  llm = GigaChat(credentials=auth,\n"
          ]
        }
      ]
    },
    {
      "cell_type": "markdown",
      "source": [
        "Создадим цепочку `create_stuff_documents_chain`, которая будет частью нашей вопросно-ответной цепочки. Это нужно, чтобы подавать фрагменты текстов из векторной БД в промпт языковой модели. Промпт представляет из себя форматированную строку, а франменты являются экземплярами класса `Document`. Чтобы не писать код по извлечению атрибута `page_content` из `Document`, используем цепочку `create_stuff_documents_chain`, где это автоматизировано."
      ],
      "metadata": {
        "id": "2FQDD-W4nQo0"
      }
    },
    {
      "cell_type": "code",
      "source": [
        "document_chain = create_stuff_documents_chain(\n",
        "    llm=llm,\n",
        "    prompt=prompt\n",
        "    )"
      ],
      "metadata": {
        "id": "q5FAVapTgRVt"
      },
      "execution_count": null,
      "outputs": []
    },
    {
      "cell_type": "markdown",
      "source": [
        "А теперь создадим вопросно-ответную цепочку с помощью функции `create_retrieval_chain()`."
      ],
      "metadata": {
        "id": "0OL83tqnodJ7"
      }
    },
    {
      "cell_type": "code",
      "source": [
        "retrieval_chain = create_retrieval_chain(embedding_retriever, document_chain)"
      ],
      "metadata": {
        "id": "bxdTJAc2gh1E"
      },
      "execution_count": null,
      "outputs": []
    },
    {
      "cell_type": "markdown",
      "source": [
        "## Запустим нашу вопросно-ответную систему\n"
      ],
      "metadata": {
        "id": "5hFxOst-pHzp"
      }
    },
    {
      "cell_type": "code",
      "source": [
        "q1 = 'Грипп как диагностировать'"
      ],
      "metadata": {
        "id": "eYnkfLbigrbm"
      },
      "execution_count": null,
      "outputs": []
    },
    {
      "cell_type": "code",
      "source": [
        "resp1 = retrieval_chain.invoke(\n",
        "    {'input': q1}\n",
        ")"
      ],
      "metadata": {
        "id": "FxtXyrxug7dv"
      },
      "execution_count": null,
      "outputs": []
    },
    {
      "cell_type": "code",
      "source": [
        "resp1"
      ],
      "metadata": {
        "id": "P15Vpy2chHYG",
        "colab": {
          "base_uri": "https://localhost:8080/"
        },
        "outputId": "e27aa892-723c-45f2-c356-b7525b56419c"
      },
      "execution_count": null,
      "outputs": [
        {
          "output_type": "execute_result",
          "data": {
            "text/plain": [
              "{'input': 'Сахарный диабет 2 типа какой код мкб',\n",
              " 'context': [Document(id='cea6af13-be1c-466a-a252-c1e26027a78c', metadata={'source': 'https://medi.ru/filters/doc_type/manuals/oftalmologiya/', 'title': 'Офтальмология', 'description': 'Клинические рекомендации МЗ РФ…', 'language': 'ru'}, page_content='Травма глаза закрытая\\n\\nКлинические рекомендации\\n\\n\\n\\t\\t\\t10 окт. 2016 г..\\n\\t\\t\\n\\n читать..\\n\\n\\n\\n\\n\\n\\n\\nСахарный диабет: диабетическая ретинопатия, диабетический макулярный отек\\n\\nКлинические рекомендации\\n\\n\\n\\t\\t\\t10 окт. 2016 г..\\n\\t\\t\\n\\n читать..\\n\\n\\n\\n\\n\\n\\n\\nРетинопатия недоношенных, активная фаза\\n\\nКлинические рекомендации\\n\\n\\n\\t\\t\\t10 окт. 2016 г..\\n\\t\\t\\n\\n читать..\\n\\n\\n\\n\\n\\n\\n\\nРетинобластома у детей\\n\\nКлинические рекомендации\\n\\n\\n\\t\\t\\t10 окт. 2016 г..\\n\\t\\t\\n\\n читать..\\n\\n\\n\\n\\n\\n\\n\\nРегматогенная отслойка сетчатки\\n\\nКлинические рекомендации'),\n",
              "  Document(id='e164466d-130c-4fc5-a168-bad84616acea', metadata={'source': 'https://medi.ru/filters/doc_type/manuals/urologiya/', 'title': 'Урология. Нефрология. Андрология', 'description': 'Клинические рекомендации МЗ РФ…', 'language': 'ru'}, page_content='Клинические рекомендации\\n\\n\\n\\t\\t\\t10 окт. 2016 г..\\n\\t\\t\\n\\n читать..\\n\\n\\n\\n\\n\\n\\n\\nЦистит у женщин. 2021\\n\\nКлинические рекомендации МЗРФ по диагностике и лечениюцистита у женщин 2021\\n\\n\\n\\t\\t\\t12 июля 2022 г..\\n\\t\\t\\n\\n читать..\\n\\n\\n\\n\\n\\n\\n\\nТипичный гемолитико-уремический синдром (тГУС)\\n\\nКлинические рекомендации\\n\\n\\n\\t\\t\\t10 окт. 2016 г..\\n\\t\\t\\n\\n читать..\\n\\n\\n\\n\\n\\n\\n\\nСахарный диабет с поражением почек\\n\\nКлинические рекомендации\\n\\n\\n\\t\\t\\t10 окт. 2016 г..\\n\\t\\t\\n\\n читать..\\n\\n\\n\\n\\n\\n\\n\\nРеноваскулярная артериальная гипертензия и ишемическая болезнь почек'),\n",
              "  Document(id='a6c2abb7-eea7-4697-97b5-081060c32db0', metadata={'source': 'https://medi.ru/filters/doc_type/manuals/kardiologiya/', 'title': 'Кардиология', 'description': 'Клинические рекомендации МЗ РФ…', 'language': 'ru'}, page_content='Легочная гипертензия\\n\\nКлинические рекомендации\\n\\n\\n\\t\\t\\t10 окт. 2016 г..\\n\\t\\t\\n\\n читать..\\n\\n\\n\\n\\n\\n\\n\\nХроническая тромбоэмболическая легочная гипертензия\\n\\nКлинические рекомендации\\n\\n\\n\\t\\t\\t10 окт. 2016 г..\\n\\t\\t\\n\\n читать..\\n\\n\\n\\n\\n\\n\\n\\nХроническая сердечная недостаточность у детей\\n\\nКлинические рекомендации\\n\\n\\n\\t\\t\\t10 окт. 2016 г..\\n\\t\\t\\n\\n читать..\\n\\n\\n\\n\\n\\n\\n\\nХроническая сердечная недостаточность\\n\\nКлинические рекомендации\\n\\n\\n\\t\\t\\t10 окт. 2016 г..\\n\\t\\t\\n\\n читать..\\n\\n\\n\\n\\n\\n\\n\\nКатехоламинергическая полиморфная желудочковая тахикардия'),\n",
              "  Document(id='e6a5c9c8-a047-4f0e-a286-c03b14d37358', metadata={'source': 'https://medi.ru/filters/doc_type/manuals/gematologiya/', 'title': 'Гематология', 'description': 'Клинические рекомендации МЗ РФ…', 'language': 'ru'}, page_content='Серповидно-клеточная болезнь\\n\\nКлинические рекомендации\\n\\n\\n\\t\\t\\t10 окт. 2016 г..\\n\\t\\t\\n\\n читать..\\n\\n\\n\\n\\n\\n\\n\\nРедкие коагулопатии: наследственный дефицит факторов свертывания крови II, VII, X\\n\\nКлинические рекомендации\\n\\n\\n\\t\\t\\t10 окт. 2016 г..\\n\\t\\t\\n\\n читать..\\n\\n\\n\\n\\n\\n\\n\\nPh-негативные миелопролиферативные заболевания (истинная полицитемия, эссенциальная тромбоцитемия, первичный миелофиброз) у взрослых\\n\\nКлинические рекомендации\\n\\n\\n\\t\\t\\t10 окт. 2016 г..\\n\\t\\t\\n\\n читать..'),\n",
              "  Document(id='fc27eb3f-26f4-4809-9d04-99cfedefdc56', metadata={'source': 'https://medi.ru/filters/doc_type/manuals/yendokrinologiya/', 'title': 'Эндокринология', 'description': 'Клинические рекомендации МЗ РФ…', 'language': 'ru'}, page_content='Клинические рекомендации\\n\\n\\n\\t\\t\\t10 окт. 2016 г..\\n\\t\\t\\n\\n читать..\\n\\n\\n\\n\\n\\n\\n\\nСиндром поликистоза яичников\\n\\nКлинические рекомендации\\n\\n\\n\\t\\t\\t10 окт. 2016 г..\\n\\t\\t\\n\\n читать..\\n\\n\\n\\n\\n\\n\\n\\nСиндром диабетической стопы\\n\\nКлинические рекомендации\\n\\n\\n\\t\\t\\t10 окт. 2016 г..\\n\\t\\t\\n\\n читать..\\n\\n\\n\\n\\n\\n\\n\\nСахарный диабет с поражением почек\\n\\nКлинические рекомендации\\n\\n\\n\\t\\t\\t10 окт. 2016 г..\\n\\t\\t\\n\\n читать..\\n\\n\\n\\n\\n\\n\\n\\nСахарный диабет: диабетическая ретинопатия, диабетический макулярный отек\\n\\nКлинические рекомендации\\n\\n\\n\\t\\t\\t10 окт. 2016 г..')],\n",
              " 'answer': 'В предоставленном контексте не содержится информация о коде МКБ для сахарного диабета 2 типа.'}"
            ]
          },
          "metadata": {},
          "execution_count": 72
        }
      ]
    },
    {
      "cell_type": "code",
      "source": [
        "q2 = 'Как лечить грипп?'"
      ],
      "metadata": {
        "id": "tXfwXl95hOtO"
      },
      "execution_count": 1,
      "outputs": []
    },
    {
      "cell_type": "code",
      "source": [
        "resp2 = retrieval_chain.invoke(\n",
        "    {'input': q2}\n",
        ")"
      ],
      "metadata": {
        "id": "Bc_ijMVfiFeN",
        "colab": {
          "base_uri": "https://localhost:8080/",
          "height": 176
        },
        "outputId": "b10eac05-4a7c-46e0-aa6f-9b830d5d8a16"
      },
      "execution_count": 2,
      "outputs": [
        {
          "output_type": "error",
          "ename": "NameError",
          "evalue": "name 'retrieval_chain' is not defined",
          "traceback": [
            "\u001b[0;31m---------------------------------------------------------------------------\u001b[0m",
            "\u001b[0;31mNameError\u001b[0m                                 Traceback (most recent call last)",
            "\u001b[0;32m<ipython-input-2-be36c8461bf8>\u001b[0m in \u001b[0;36m<cell line: 0>\u001b[0;34m()\u001b[0m\n\u001b[0;32m----> 1\u001b[0;31m resp2 = retrieval_chain.invoke(\n\u001b[0m\u001b[1;32m      2\u001b[0m     \u001b[0;34m{\u001b[0m\u001b[0;34m'input'\u001b[0m\u001b[0;34m:\u001b[0m \u001b[0mq2\u001b[0m\u001b[0;34m}\u001b[0m\u001b[0;34m\u001b[0m\u001b[0;34m\u001b[0m\u001b[0m\n\u001b[1;32m      3\u001b[0m )\n",
            "\u001b[0;31mNameError\u001b[0m: name 'retrieval_chain' is not defined"
          ]
        }
      ]
    },
    {
      "cell_type": "code",
      "source": [
        "resp2"
      ],
      "metadata": {
        "id": "OYo-XD0jiQFf",
        "colab": {
          "base_uri": "https://localhost:8080/",
          "height": 141
        },
        "outputId": "beb4c3ba-fa12-4012-9347-6ea93920d567"
      },
      "execution_count": 3,
      "outputs": [
        {
          "output_type": "error",
          "ename": "NameError",
          "evalue": "name 'resp2' is not defined",
          "traceback": [
            "\u001b[0;31m---------------------------------------------------------------------------\u001b[0m",
            "\u001b[0;31mNameError\u001b[0m                                 Traceback (most recent call last)",
            "\u001b[0;32m<ipython-input-3-ec6818a73e8f>\u001b[0m in \u001b[0;36m<cell line: 0>\u001b[0;34m()\u001b[0m\n\u001b[0;32m----> 1\u001b[0;31m \u001b[0mresp2\u001b[0m\u001b[0;34m\u001b[0m\u001b[0;34m\u001b[0m\u001b[0m\n\u001b[0m",
            "\u001b[0;31mNameError\u001b[0m: name 'resp2' is not defined"
          ]
        }
      ]
    }
  ]
}